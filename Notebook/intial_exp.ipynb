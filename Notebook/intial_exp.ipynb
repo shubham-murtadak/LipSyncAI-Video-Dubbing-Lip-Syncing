{
  "nbformat": 4,
  "nbformat_minor": 0,
  "metadata": {
    "colab": {
      "provenance": [],
      "gpuType": "T4"
    },
    "kernelspec": {
      "name": "python3",
      "display_name": "Python 3"
    },
    "language_info": {
      "name": "python"
    },
    "accelerator": "GPU"
  },
  "cells": [
    {
      "cell_type": "markdown",
      "source": [
        "## Start\n",
        "- You Should run on **GPU**"
      ],
      "metadata": {
        "id": "Wx2Ht9S3yVfm"
      }
    },
    {
      "cell_type": "code",
      "source": [
        "from google.colab import drive\n",
        "drive.mount('/content/drive')"
      ],
      "metadata": {
        "colab": {
          "base_uri": "https://localhost:8080/"
        },
        "id": "MVYdmtgFAhKE",
        "outputId": "7d931259-f59c-4557-d589-421d459082e8"
      },
      "execution_count": null,
      "outputs": [
        {
          "output_type": "stream",
          "name": "stdout",
          "text": [
            "Drive already mounted at /content/drive; to attempt to forcibly remount, call drive.mount(\"/content/drive\", force_remount=True).\n"
          ]
        }
      ]
    },
    {
      "cell_type": "markdown",
      "source": [
        "## Setup for Your Drive\n",
        "- Clone Remote repo of **MuseTalk** in your Drive\n",
        "- Create Directory = **Lip-Sync**\n",
        "\n",
        "\n",
        "\n",
        "\n"
      ],
      "metadata": {
        "id": "M5QADzZcZTSG"
      }
    },
    {
      "cell_type": "code",
      "source": [
        "%cd /content/drive/MyDrive/Lip-Sync\n"
      ],
      "metadata": {
        "colab": {
          "base_uri": "https://localhost:8080/"
        },
        "id": "5NkLXLyn3wrK",
        "outputId": "2f7c5f6b-f920-444d-85c3-141611289714"
      },
      "execution_count": null,
      "outputs": [
        {
          "output_type": "stream",
          "name": "stdout",
          "text": [
            "/content/drive/MyDrive/Lip-Sync\n"
          ]
        }
      ]
    },
    {
      "cell_type": "code",
      "execution_count": null,
      "metadata": {
        "colab": {
          "base_uri": "https://localhost:8080/"
        },
        "id": "CERmpnNqpUGU",
        "outputId": "f0b24bed-b080-4c43-ef50-5abc531fc90e"
      },
      "outputs": [
        {
          "output_type": "stream",
          "name": "stdout",
          "text": [
            "Cloning into 'MuseTalk'...\n",
            "remote: Enumerating objects: 255, done.\u001b[K\n",
            "remote: Counting objects: 100% (92/92), done.\u001b[K\n",
            "remote: Compressing objects: 100% (48/48), done.\u001b[K\n",
            "remote: Total 255 (delta 60), reused 46 (delta 44), pack-reused 163\u001b[K\n",
            "Receiving objects: 100% (255/255), 23.91 MiB | 13.96 MiB/s, done.\n",
            "Resolving deltas: 100% (78/78), done.\n"
          ]
        }
      ],
      "source": [
        "!git clone https://github.com/TMElyralab/MuseTalk.git"
      ]
    },
    {
      "cell_type": "markdown",
      "source": [
        "### Download weights\n",
        "You can copy directory (\"/content/drive/MyDrive/Lip-Sync/MuseTalk/musetalk/models\") to your drive in the same path to work\n",
        "  \n",
        "  **OR**\n",
        "\n",
        "You can download weights manually as follows:\n",
        "\n",
        "1. Download our trained [weights](https://huggingface.co/TMElyralab/MuseTalk).\n",
        "\n",
        "2. Download the weights of other components:\n",
        "   - [sd-vae-ft-mse](https://huggingface.co/stabilityai/sd-vae-ft-mse)\n",
        "   - [whisper](https://openaipublic.azureedge.net/main/whisper/models/65147644a518d12f04e32d6f3b26facc3f8dd46e5390956a9424a650c0ce22b9/tiny.pt)\n",
        "   - [dwpose](https://huggingface.co/yzd-v/DWPose/tree/main)\n",
        "   - [face-parse-bisent](https://github.com/zllrunning/face-parsing.PyTorch)\n",
        "   - [resnet18](https://download.pytorch.org/models/resnet18-5c106cde.pth)\n",
        "\n",
        "\n",
        "Finally, these weights should be organized in `models` as follows:\n",
        "```\n",
        "./models/\n",
        "├── musetalk\n",
        "│   └── musetalk.json\n",
        "│   └── pytorch_model.bin\n",
        "├── dwpose\n",
        "│   └── dw-ll_ucoco_384.pth\n",
        "├── face-parse-bisent\n",
        "│   ├── 79999_iter.pth\n",
        "│   └── resnet18-5c106cde.pth\n",
        "├── sd-vae-ft-mse\n",
        "│   ├── config.json\n",
        "│   └── diffusion_pytorch_model.bin\n",
        "└── whisper\n",
        "    └── tiny.pt\n",
        "```"
      ],
      "metadata": {
        "id": "kTCq4ndrkh8c"
      }
    },
    {
      "cell_type": "markdown",
      "source": [
        "## Install Dependcies"
      ],
      "metadata": {
        "id": "_H3sz4uUZwpb"
      }
    },
    {
      "cell_type": "code",
      "source": [
        "pip install -r /content/drive/MyDrive/Lip-Sync/MuseTalk/requirements.txt"
      ],
      "metadata": {
        "colab": {
          "base_uri": "https://localhost:8080/"
        },
        "id": "7vT1RpmQpZc7",
        "outputId": "643dc9e2-d342-45fd-a003-172a89c1841c"
      },
      "execution_count": null,
      "outputs": [
        {
          "output_type": "stream",
          "name": "stdout",
          "text": [
            "\u001b[33mWARNING: Ignoring invalid distribution -ransformers (/usr/local/lib/python3.10/dist-packages)\u001b[0m\u001b[33m\n",
            "\u001b[0mLooking in indexes: https://pypi.org/simple, https://download.pytorch.org/whl/cu118\n",
            "Collecting torch==2.0.1 (from -r /content/drive/MyDrive/Lip-Sync/MuseTalk/requirements.txt (line 2))\n",
            "  Using cached https://download.pytorch.org/whl/cu118/torch-2.0.1%2Bcu118-cp310-cp310-linux_x86_64.whl (2267.3 MB)\n",
            "Collecting torchvision==0.15.2 (from -r /content/drive/MyDrive/Lip-Sync/MuseTalk/requirements.txt (line 3))\n",
            "  Using cached https://download.pytorch.org/whl/cu118/torchvision-0.15.2%2Bcu118-cp310-cp310-linux_x86_64.whl (6.1 MB)\n",
            "Collecting torchaudio==2.0.2 (from -r /content/drive/MyDrive/Lip-Sync/MuseTalk/requirements.txt (line 4))\n",
            "  Using cached https://download.pytorch.org/whl/cu118/torchaudio-2.0.2%2Bcu118-cp310-cp310-linux_x86_64.whl (4.4 MB)\n",
            "Requirement already satisfied: diffusers==0.27.2 in /usr/local/lib/python3.10/dist-packages (from -r /content/drive/MyDrive/Lip-Sync/MuseTalk/requirements.txt (line 5)) (0.27.2)\n",
            "Collecting accelerate==0.28.0 (from -r /content/drive/MyDrive/Lip-Sync/MuseTalk/requirements.txt (line 6))\n",
            "  Using cached accelerate-0.28.0-py3-none-any.whl.metadata (18 kB)\n",
            "Collecting tensorflow==2.12.0 (from -r /content/drive/MyDrive/Lip-Sync/MuseTalk/requirements.txt (line 7))\n",
            "  Using cached tensorflow-2.12.0-cp310-cp310-manylinux_2_17_x86_64.manylinux2014_x86_64.whl.metadata (3.4 kB)\n",
            "Collecting tensorboard==2.12.0 (from -r /content/drive/MyDrive/Lip-Sync/MuseTalk/requirements.txt (line 8))\n",
            "  Using cached tensorboard-2.12.0-py3-none-any.whl.metadata (1.8 kB)\n",
            "Requirement already satisfied: opencv-python==4.9.0.80 in /usr/local/lib/python3.10/dist-packages (from -r /content/drive/MyDrive/Lip-Sync/MuseTalk/requirements.txt (line 9)) (4.9.0.80)\n",
            "Requirement already satisfied: soundfile==0.12.1 in /usr/local/lib/python3.10/dist-packages (from -r /content/drive/MyDrive/Lip-Sync/MuseTalk/requirements.txt (line 10)) (0.12.1)\n",
            "Requirement already satisfied: transformers==4.39.2 in /usr/local/lib/python3.10/dist-packages (from -r /content/drive/MyDrive/Lip-Sync/MuseTalk/requirements.txt (line 11)) (4.39.2)\n",
            "Requirement already satisfied: gdown in /usr/local/lib/python3.10/dist-packages (from -r /content/drive/MyDrive/Lip-Sync/MuseTalk/requirements.txt (line 13)) (5.2.0)\n",
            "Requirement already satisfied: requests in /usr/local/lib/python3.10/dist-packages (from -r /content/drive/MyDrive/Lip-Sync/MuseTalk/requirements.txt (line 14)) (2.28.2)\n",
            "Requirement already satisfied: omegaconf in /usr/local/lib/python3.10/dist-packages (from -r /content/drive/MyDrive/Lip-Sync/MuseTalk/requirements.txt (line 17)) (2.3.0)\n",
            "Requirement already satisfied: ffmpeg-python in /usr/local/lib/python3.10/dist-packages (from -r /content/drive/MyDrive/Lip-Sync/MuseTalk/requirements.txt (line 18)) (0.2.0)\n",
            "Collecting gradio (from -r /content/drive/MyDrive/Lip-Sync/MuseTalk/requirements.txt (line 19))\n",
            "  Using cached gradio-5.9.1-py3-none-any.whl.metadata (16 kB)\n",
            "Collecting spaces (from -r /content/drive/MyDrive/Lip-Sync/MuseTalk/requirements.txt (line 20))\n",
            "  Using cached spaces-0.31.1-py3-none-any.whl.metadata (1.0 kB)\n",
            "Requirement already satisfied: moviepy in /usr/local/lib/python3.10/dist-packages (from -r /content/drive/MyDrive/Lip-Sync/MuseTalk/requirements.txt (line 21)) (1.0.3)\n",
            "Requirement already satisfied: imageio[ffmpeg] in /usr/local/lib/python3.10/dist-packages (from -r /content/drive/MyDrive/Lip-Sync/MuseTalk/requirements.txt (line 15)) (2.36.1)\n",
            "Requirement already satisfied: filelock in /usr/local/lib/python3.10/dist-packages (from torch==2.0.1->-r /content/drive/MyDrive/Lip-Sync/MuseTalk/requirements.txt (line 2)) (3.14.0)\n",
            "Requirement already satisfied: typing-extensions in /usr/local/lib/python3.10/dist-packages (from torch==2.0.1->-r /content/drive/MyDrive/Lip-Sync/MuseTalk/requirements.txt (line 2)) (4.12.2)\n",
            "Requirement already satisfied: sympy in /usr/local/lib/python3.10/dist-packages (from torch==2.0.1->-r /content/drive/MyDrive/Lip-Sync/MuseTalk/requirements.txt (line 2)) (1.13.1)\n",
            "Requirement already satisfied: networkx in /usr/local/lib/python3.10/dist-packages (from torch==2.0.1->-r /content/drive/MyDrive/Lip-Sync/MuseTalk/requirements.txt (line 2)) (3.4.2)\n",
            "Requirement already satisfied: jinja2 in /usr/local/lib/python3.10/dist-packages (from torch==2.0.1->-r /content/drive/MyDrive/Lip-Sync/MuseTalk/requirements.txt (line 2)) (3.1.4)\n",
            "Collecting triton==2.0.0 (from torch==2.0.1->-r /content/drive/MyDrive/Lip-Sync/MuseTalk/requirements.txt (line 2))\n",
            "  Using cached https://download.pytorch.org/whl/triton-2.0.0-1-cp310-cp310-manylinux2014_x86_64.manylinux_2_17_x86_64.whl (63.3 MB)\n",
            "Requirement already satisfied: numpy in /usr/local/lib/python3.10/dist-packages (from torchvision==0.15.2->-r /content/drive/MyDrive/Lip-Sync/MuseTalk/requirements.txt (line 3)) (1.23.5)\n",
            "Requirement already satisfied: pillow!=8.3.*,>=5.3.0 in /usr/local/lib/python3.10/dist-packages (from torchvision==0.15.2->-r /content/drive/MyDrive/Lip-Sync/MuseTalk/requirements.txt (line 3)) (11.0.0)\n",
            "Requirement already satisfied: importlib-metadata in /usr/local/lib/python3.10/dist-packages (from diffusers==0.27.2->-r /content/drive/MyDrive/Lip-Sync/MuseTalk/requirements.txt (line 5)) (8.5.0)\n",
            "Requirement already satisfied: huggingface-hub>=0.20.2 in /usr/local/lib/python3.10/dist-packages (from diffusers==0.27.2->-r /content/drive/MyDrive/Lip-Sync/MuseTalk/requirements.txt (line 5)) (0.24.7)\n",
            "Requirement already satisfied: regex!=2019.12.17 in /usr/local/lib/python3.10/dist-packages (from diffusers==0.27.2->-r /content/drive/MyDrive/Lip-Sync/MuseTalk/requirements.txt (line 5)) (2024.9.11)\n",
            "Requirement already satisfied: safetensors>=0.3.1 in /usr/local/lib/python3.10/dist-packages (from diffusers==0.27.2->-r /content/drive/MyDrive/Lip-Sync/MuseTalk/requirements.txt (line 5)) (0.4.5)\n",
            "Requirement already satisfied: packaging>=20.0 in /usr/local/lib/python3.10/dist-packages (from accelerate==0.28.0->-r /content/drive/MyDrive/Lip-Sync/MuseTalk/requirements.txt (line 6)) (24.2)\n",
            "Requirement already satisfied: psutil in /usr/local/lib/python3.10/dist-packages (from accelerate==0.28.0->-r /content/drive/MyDrive/Lip-Sync/MuseTalk/requirements.txt (line 6)) (5.9.5)\n",
            "Requirement already satisfied: pyyaml in /usr/local/lib/python3.10/dist-packages (from accelerate==0.28.0->-r /content/drive/MyDrive/Lip-Sync/MuseTalk/requirements.txt (line 6)) (6.0.2)\n",
            "Requirement already satisfied: absl-py>=1.0.0 in /usr/local/lib/python3.10/dist-packages (from tensorflow==2.12.0->-r /content/drive/MyDrive/Lip-Sync/MuseTalk/requirements.txt (line 7)) (1.4.0)\n",
            "Requirement already satisfied: astunparse>=1.6.0 in /usr/local/lib/python3.10/dist-packages (from tensorflow==2.12.0->-r /content/drive/MyDrive/Lip-Sync/MuseTalk/requirements.txt (line 7)) (1.6.3)\n",
            "Requirement already satisfied: flatbuffers>=2.0 in /usr/local/lib/python3.10/dist-packages (from tensorflow==2.12.0->-r /content/drive/MyDrive/Lip-Sync/MuseTalk/requirements.txt (line 7)) (24.3.25)\n",
            "Requirement already satisfied: gast<=0.4.0,>=0.2.1 in /usr/local/lib/python3.10/dist-packages (from tensorflow==2.12.0->-r /content/drive/MyDrive/Lip-Sync/MuseTalk/requirements.txt (line 7)) (0.4.0)\n",
            "Requirement already satisfied: google-pasta>=0.1.1 in /usr/local/lib/python3.10/dist-packages (from tensorflow==2.12.0->-r /content/drive/MyDrive/Lip-Sync/MuseTalk/requirements.txt (line 7)) (0.2.0)\n",
            "Requirement already satisfied: grpcio<2.0,>=1.24.3 in /usr/local/lib/python3.10/dist-packages (from tensorflow==2.12.0->-r /content/drive/MyDrive/Lip-Sync/MuseTalk/requirements.txt (line 7)) (1.68.1)\n",
            "Requirement already satisfied: h5py>=2.9.0 in /usr/local/lib/python3.10/dist-packages (from tensorflow==2.12.0->-r /content/drive/MyDrive/Lip-Sync/MuseTalk/requirements.txt (line 7)) (3.12.1)\n",
            "Requirement already satisfied: jax>=0.3.15 in /usr/local/lib/python3.10/dist-packages (from tensorflow==2.12.0->-r /content/drive/MyDrive/Lip-Sync/MuseTalk/requirements.txt (line 7)) (0.4.33)\n",
            "Requirement already satisfied: keras<2.13,>=2.12.0 in /usr/local/lib/python3.10/dist-packages (from tensorflow==2.12.0->-r /content/drive/MyDrive/Lip-Sync/MuseTalk/requirements.txt (line 7)) (2.12.0)\n",
            "Requirement already satisfied: libclang>=13.0.0 in /usr/local/lib/python3.10/dist-packages (from tensorflow==2.12.0->-r /content/drive/MyDrive/Lip-Sync/MuseTalk/requirements.txt (line 7)) (18.1.1)\n",
            "Requirement already satisfied: opt-einsum>=2.3.2 in /usr/local/lib/python3.10/dist-packages (from tensorflow==2.12.0->-r /content/drive/MyDrive/Lip-Sync/MuseTalk/requirements.txt (line 7)) (3.4.0)\n",
            "Requirement already satisfied: protobuf!=4.21.0,!=4.21.1,!=4.21.2,!=4.21.3,!=4.21.4,!=4.21.5,<5.0.0dev,>=3.20.3 in /usr/local/lib/python3.10/dist-packages (from tensorflow==2.12.0->-r /content/drive/MyDrive/Lip-Sync/MuseTalk/requirements.txt (line 7)) (4.25.5)\n",
            "Requirement already satisfied: setuptools in /usr/local/lib/python3.10/dist-packages (from tensorflow==2.12.0->-r /content/drive/MyDrive/Lip-Sync/MuseTalk/requirements.txt (line 7)) (60.2.0)\n",
            "Requirement already satisfied: six>=1.12.0 in /usr/local/lib/python3.10/dist-packages (from tensorflow==2.12.0->-r /content/drive/MyDrive/Lip-Sync/MuseTalk/requirements.txt (line 7)) (1.17.0)\n",
            "Requirement already satisfied: tensorflow-estimator<2.13,>=2.12.0 in /usr/local/lib/python3.10/dist-packages (from tensorflow==2.12.0->-r /content/drive/MyDrive/Lip-Sync/MuseTalk/requirements.txt (line 7)) (2.12.0)\n",
            "Requirement already satisfied: termcolor>=1.1.0 in /usr/local/lib/python3.10/dist-packages (from tensorflow==2.12.0->-r /content/drive/MyDrive/Lip-Sync/MuseTalk/requirements.txt (line 7)) (2.5.0)\n",
            "Requirement already satisfied: wrapt<1.15,>=1.11.0 in /usr/local/lib/python3.10/dist-packages (from tensorflow==2.12.0->-r /content/drive/MyDrive/Lip-Sync/MuseTalk/requirements.txt (line 7)) (1.14.1)\n",
            "Requirement already satisfied: tensorflow-io-gcs-filesystem>=0.23.1 in /usr/local/lib/python3.10/dist-packages (from tensorflow==2.12.0->-r /content/drive/MyDrive/Lip-Sync/MuseTalk/requirements.txt (line 7)) (0.37.1)\n",
            "Requirement already satisfied: google-auth<3,>=1.6.3 in /usr/local/lib/python3.10/dist-packages (from tensorboard==2.12.0->-r /content/drive/MyDrive/Lip-Sync/MuseTalk/requirements.txt (line 8)) (2.27.0)\n",
            "Requirement already satisfied: google-auth-oauthlib<0.5,>=0.4.1 in /usr/local/lib/python3.10/dist-packages (from tensorboard==2.12.0->-r /content/drive/MyDrive/Lip-Sync/MuseTalk/requirements.txt (line 8)) (0.4.6)\n",
            "Requirement already satisfied: markdown>=2.6.8 in /usr/local/lib/python3.10/dist-packages (from tensorboard==2.12.0->-r /content/drive/MyDrive/Lip-Sync/MuseTalk/requirements.txt (line 8)) (3.7)\n",
            "Requirement already satisfied: tensorboard-data-server<0.8.0,>=0.7.0 in /usr/local/lib/python3.10/dist-packages (from tensorboard==2.12.0->-r /content/drive/MyDrive/Lip-Sync/MuseTalk/requirements.txt (line 8)) (0.7.2)\n",
            "Requirement already satisfied: tensorboard-plugin-wit>=1.6.0 in /usr/local/lib/python3.10/dist-packages (from tensorboard==2.12.0->-r /content/drive/MyDrive/Lip-Sync/MuseTalk/requirements.txt (line 8)) (1.8.1)\n",
            "Requirement already satisfied: werkzeug>=1.0.1 in /usr/local/lib/python3.10/dist-packages (from tensorboard==2.12.0->-r /content/drive/MyDrive/Lip-Sync/MuseTalk/requirements.txt (line 8)) (3.1.3)\n",
            "Requirement already satisfied: wheel>=0.26 in /usr/local/lib/python3.10/dist-packages (from tensorboard==2.12.0->-r /content/drive/MyDrive/Lip-Sync/MuseTalk/requirements.txt (line 8)) (0.45.1)\n",
            "Requirement already satisfied: cffi>=1.0 in /usr/local/lib/python3.10/dist-packages (from soundfile==0.12.1->-r /content/drive/MyDrive/Lip-Sync/MuseTalk/requirements.txt (line 10)) (1.17.1)\n",
            "Requirement already satisfied: tokenizers<0.19,>=0.14 in /usr/local/lib/python3.10/dist-packages (from transformers==4.39.2->-r /content/drive/MyDrive/Lip-Sync/MuseTalk/requirements.txt (line 11)) (0.15.2)\n",
            "Requirement already satisfied: tqdm>=4.27 in /usr/local/lib/python3.10/dist-packages (from transformers==4.39.2->-r /content/drive/MyDrive/Lip-Sync/MuseTalk/requirements.txt (line 11)) (4.65.2)\n",
            "Requirement already satisfied: cmake in /usr/local/lib/python3.10/dist-packages (from triton==2.0.0->torch==2.0.1->-r /content/drive/MyDrive/Lip-Sync/MuseTalk/requirements.txt (line 2)) (3.30.5)\n",
            "Requirement already satisfied: lit in /usr/local/lib/python3.10/dist-packages (from triton==2.0.0->torch==2.0.1->-r /content/drive/MyDrive/Lip-Sync/MuseTalk/requirements.txt (line 2)) (18.1.8)\n",
            "Requirement already satisfied: beautifulsoup4 in /usr/local/lib/python3.10/dist-packages (from gdown->-r /content/drive/MyDrive/Lip-Sync/MuseTalk/requirements.txt (line 13)) (4.12.3)\n",
            "Requirement already satisfied: charset-normalizer<4,>=2 in /usr/local/lib/python3.10/dist-packages (from requests->-r /content/drive/MyDrive/Lip-Sync/MuseTalk/requirements.txt (line 14)) (3.4.0)\n",
            "Requirement already satisfied: idna<4,>=2.5 in /usr/local/lib/python3.10/dist-packages (from requests->-r /content/drive/MyDrive/Lip-Sync/MuseTalk/requirements.txt (line 14)) (3.10)\n",
            "Requirement already satisfied: urllib3<1.27,>=1.21.1 in /usr/local/lib/python3.10/dist-packages (from requests->-r /content/drive/MyDrive/Lip-Sync/MuseTalk/requirements.txt (line 14)) (1.26.20)\n",
            "Requirement already satisfied: certifi>=2017.4.17 in /usr/local/lib/python3.10/dist-packages (from requests->-r /content/drive/MyDrive/Lip-Sync/MuseTalk/requirements.txt (line 14)) (2024.8.30)\n",
            "Requirement already satisfied: imageio-ffmpeg in /usr/local/lib/python3.10/dist-packages (from imageio[ffmpeg]->-r /content/drive/MyDrive/Lip-Sync/MuseTalk/requirements.txt (line 15)) (0.5.1)\n",
            "Requirement already satisfied: antlr4-python3-runtime==4.9.* in /usr/local/lib/python3.10/dist-packages (from omegaconf->-r /content/drive/MyDrive/Lip-Sync/MuseTalk/requirements.txt (line 17)) (4.9.3)\n",
            "Requirement already satisfied: future in /usr/local/lib/python3.10/dist-packages (from ffmpeg-python->-r /content/drive/MyDrive/Lip-Sync/MuseTalk/requirements.txt (line 18)) (1.0.0)\n",
            "Requirement already satisfied: aiofiles<24.0,>=22.0 in /usr/local/lib/python3.10/dist-packages (from gradio->-r /content/drive/MyDrive/Lip-Sync/MuseTalk/requirements.txt (line 19)) (23.2.1)\n",
            "Requirement already satisfied: anyio<5.0,>=3.0 in /usr/local/lib/python3.10/dist-packages (from gradio->-r /content/drive/MyDrive/Lip-Sync/MuseTalk/requirements.txt (line 19)) (3.7.1)\n",
            "Requirement already satisfied: fastapi<1.0,>=0.115.2 in /usr/local/lib/python3.10/dist-packages (from gradio->-r /content/drive/MyDrive/Lip-Sync/MuseTalk/requirements.txt (line 19)) (0.115.6)\n",
            "Requirement already satisfied: ffmpy in /usr/local/lib/python3.10/dist-packages (from gradio->-r /content/drive/MyDrive/Lip-Sync/MuseTalk/requirements.txt (line 19)) (0.4.0)\n",
            "Requirement already satisfied: gradio-client==1.5.2 in /usr/local/lib/python3.10/dist-packages (from gradio->-r /content/drive/MyDrive/Lip-Sync/MuseTalk/requirements.txt (line 19)) (1.5.2)\n",
            "Requirement already satisfied: httpx>=0.24.1 in /usr/local/lib/python3.10/dist-packages (from gradio->-r /content/drive/MyDrive/Lip-Sync/MuseTalk/requirements.txt (line 19)) (0.28.1)\n",
            "Collecting huggingface-hub>=0.20.2 (from diffusers==0.27.2->-r /content/drive/MyDrive/Lip-Sync/MuseTalk/requirements.txt (line 5))\n",
            "  Downloading huggingface_hub-0.27.0-py3-none-any.whl.metadata (13 kB)\n",
            "Requirement already satisfied: markupsafe~=2.0 in /usr/local/lib/python3.10/dist-packages (from gradio->-r /content/drive/MyDrive/Lip-Sync/MuseTalk/requirements.txt (line 19)) (2.1.5)\n",
            "Requirement already satisfied: orjson~=3.0 in /usr/local/lib/python3.10/dist-packages (from gradio->-r /content/drive/MyDrive/Lip-Sync/MuseTalk/requirements.txt (line 19)) (3.10.12)\n",
            "Requirement already satisfied: pandas<3.0,>=1.0 in /usr/local/lib/python3.10/dist-packages (from gradio->-r /content/drive/MyDrive/Lip-Sync/MuseTalk/requirements.txt (line 19)) (2.2.2)\n",
            "Requirement already satisfied: pydantic>=2.0 in /usr/local/lib/python3.10/dist-packages (from gradio->-r /content/drive/MyDrive/Lip-Sync/MuseTalk/requirements.txt (line 19)) (2.10.3)\n",
            "Requirement already satisfied: pydub in /usr/local/lib/python3.10/dist-packages (from gradio->-r /content/drive/MyDrive/Lip-Sync/MuseTalk/requirements.txt (line 19)) (0.25.1)\n",
            "Requirement already satisfied: python-multipart>=0.0.18 in /usr/local/lib/python3.10/dist-packages (from gradio->-r /content/drive/MyDrive/Lip-Sync/MuseTalk/requirements.txt (line 19)) (0.0.20)\n",
            "Requirement already satisfied: ruff>=0.2.2 in /usr/local/lib/python3.10/dist-packages (from gradio->-r /content/drive/MyDrive/Lip-Sync/MuseTalk/requirements.txt (line 19)) (0.8.3)\n",
            "Requirement already satisfied: safehttpx<0.2.0,>=0.1.6 in /usr/local/lib/python3.10/dist-packages (from gradio->-r /content/drive/MyDrive/Lip-Sync/MuseTalk/requirements.txt (line 19)) (0.1.6)\n",
            "Requirement already satisfied: semantic-version~=2.0 in /usr/local/lib/python3.10/dist-packages (from gradio->-r /content/drive/MyDrive/Lip-Sync/MuseTalk/requirements.txt (line 19)) (2.10.0)\n",
            "Requirement already satisfied: starlette<1.0,>=0.40.0 in /usr/local/lib/python3.10/dist-packages (from gradio->-r /content/drive/MyDrive/Lip-Sync/MuseTalk/requirements.txt (line 19)) (0.41.3)\n",
            "Requirement already satisfied: tomlkit<0.14.0,>=0.12.0 in /usr/local/lib/python3.10/dist-packages (from gradio->-r /content/drive/MyDrive/Lip-Sync/MuseTalk/requirements.txt (line 19)) (0.13.2)\n",
            "Requirement already satisfied: typer<1.0,>=0.12 in /usr/local/lib/python3.10/dist-packages (from gradio->-r /content/drive/MyDrive/Lip-Sync/MuseTalk/requirements.txt (line 19)) (0.15.1)\n",
            "Requirement already satisfied: uvicorn>=0.14.0 in /usr/local/lib/python3.10/dist-packages (from gradio->-r /content/drive/MyDrive/Lip-Sync/MuseTalk/requirements.txt (line 19)) (0.34.0)\n",
            "Requirement already satisfied: fsspec in /usr/local/lib/python3.10/dist-packages (from gradio-client==1.5.2->gradio->-r /content/drive/MyDrive/Lip-Sync/MuseTalk/requirements.txt (line 19)) (2024.10.0)\n",
            "Requirement already satisfied: websockets<15.0,>=10.0 in /usr/local/lib/python3.10/dist-packages (from gradio-client==1.5.2->gradio->-r /content/drive/MyDrive/Lip-Sync/MuseTalk/requirements.txt (line 19)) (14.1)\n",
            "Requirement already satisfied: decorator<5.0,>=4.0.2 in /usr/local/lib/python3.10/dist-packages (from moviepy->-r /content/drive/MyDrive/Lip-Sync/MuseTalk/requirements.txt (line 21)) (4.4.2)\n",
            "Requirement already satisfied: proglog<=1.0.0 in /usr/local/lib/python3.10/dist-packages (from moviepy->-r /content/drive/MyDrive/Lip-Sync/MuseTalk/requirements.txt (line 21)) (0.1.10)\n",
            "Requirement already satisfied: sniffio>=1.1 in /usr/local/lib/python3.10/dist-packages (from anyio<5.0,>=3.0->gradio->-r /content/drive/MyDrive/Lip-Sync/MuseTalk/requirements.txt (line 19)) (1.3.1)\n",
            "Requirement already satisfied: exceptiongroup in /usr/local/lib/python3.10/dist-packages (from anyio<5.0,>=3.0->gradio->-r /content/drive/MyDrive/Lip-Sync/MuseTalk/requirements.txt (line 19)) (1.2.2)\n",
            "Requirement already satisfied: pycparser in /usr/local/lib/python3.10/dist-packages (from cffi>=1.0->soundfile==0.12.1->-r /content/drive/MyDrive/Lip-Sync/MuseTalk/requirements.txt (line 10)) (2.22)\n",
            "Requirement already satisfied: cachetools<6.0,>=2.0.0 in /usr/local/lib/python3.10/dist-packages (from google-auth<3,>=1.6.3->tensorboard==2.12.0->-r /content/drive/MyDrive/Lip-Sync/MuseTalk/requirements.txt (line 8)) (5.5.0)\n",
            "Requirement already satisfied: pyasn1-modules>=0.2.1 in /usr/local/lib/python3.10/dist-packages (from google-auth<3,>=1.6.3->tensorboard==2.12.0->-r /content/drive/MyDrive/Lip-Sync/MuseTalk/requirements.txt (line 8)) (0.4.1)\n",
            "Requirement already satisfied: rsa<5,>=3.1.4 in /usr/local/lib/python3.10/dist-packages (from google-auth<3,>=1.6.3->tensorboard==2.12.0->-r /content/drive/MyDrive/Lip-Sync/MuseTalk/requirements.txt (line 8)) (4.9)\n",
            "Requirement already satisfied: requests-oauthlib>=0.7.0 in /usr/local/lib/python3.10/dist-packages (from google-auth-oauthlib<0.5,>=0.4.1->tensorboard==2.12.0->-r /content/drive/MyDrive/Lip-Sync/MuseTalk/requirements.txt (line 8)) (1.3.1)\n",
            "Requirement already satisfied: httpcore==1.* in /usr/local/lib/python3.10/dist-packages (from httpx>=0.24.1->gradio->-r /content/drive/MyDrive/Lip-Sync/MuseTalk/requirements.txt (line 19)) (1.0.7)\n",
            "Requirement already satisfied: h11<0.15,>=0.13 in /usr/local/lib/python3.10/dist-packages (from httpcore==1.*->httpx>=0.24.1->gradio->-r /content/drive/MyDrive/Lip-Sync/MuseTalk/requirements.txt (line 19)) (0.14.0)\n",
            "Collecting jaxlib<=0.4.33,>=0.4.33 (from jax>=0.3.15->tensorflow==2.12.0->-r /content/drive/MyDrive/Lip-Sync/MuseTalk/requirements.txt (line 7))\n",
            "  Downloading jaxlib-0.4.33-cp310-cp310-manylinux2014_x86_64.whl.metadata (983 bytes)\n",
            "Requirement already satisfied: ml-dtypes>=0.2.0 in /usr/local/lib/python3.10/dist-packages (from jax>=0.3.15->tensorflow==2.12.0->-r /content/drive/MyDrive/Lip-Sync/MuseTalk/requirements.txt (line 7)) (0.4.1)\n",
            "INFO: pip is looking at multiple versions of jax to determine which version is compatible with other requirements. This could take a while.\n",
            "Collecting jax>=0.3.15 (from tensorflow==2.12.0->-r /content/drive/MyDrive/Lip-Sync/MuseTalk/requirements.txt (line 7))\n",
            "  Using cached jax-0.4.37-py3-none-any.whl.metadata (22 kB)\n",
            "Collecting jaxlib<=0.4.37,>=0.4.36 (from jax>=0.3.15->tensorflow==2.12.0->-r /content/drive/MyDrive/Lip-Sync/MuseTalk/requirements.txt (line 7))\n",
            "  Using cached jaxlib-0.4.36-cp310-cp310-manylinux2014_x86_64.whl.metadata (1.0 kB)\n",
            "Collecting jax>=0.3.15 (from tensorflow==2.12.0->-r /content/drive/MyDrive/Lip-Sync/MuseTalk/requirements.txt (line 7))\n",
            "  Using cached jax-0.4.36-py3-none-any.whl.metadata (22 kB)\n",
            "  Using cached jax-0.4.35-py3-none-any.whl.metadata (22 kB)\n",
            "Collecting jaxlib<=0.4.35,>=0.4.34 (from jax>=0.3.15->tensorflow==2.12.0->-r /content/drive/MyDrive/Lip-Sync/MuseTalk/requirements.txt (line 7))\n",
            "  Using cached jaxlib-0.4.35-cp310-cp310-manylinux2014_x86_64.whl.metadata (983 bytes)\n",
            "Collecting jax>=0.3.15 (from tensorflow==2.12.0->-r /content/drive/MyDrive/Lip-Sync/MuseTalk/requirements.txt (line 7))\n",
            "  Using cached jax-0.4.34-py3-none-any.whl.metadata (22 kB)\n",
            "Collecting jaxlib<=0.4.34,>=0.4.34 (from jax>=0.3.15->tensorflow==2.12.0->-r /content/drive/MyDrive/Lip-Sync/MuseTalk/requirements.txt (line 7))\n",
            "  Using cached jaxlib-0.4.34-cp310-cp310-manylinux2014_x86_64.whl.metadata (983 bytes)\n",
            "Collecting jax>=0.3.15 (from tensorflow==2.12.0->-r /content/drive/MyDrive/Lip-Sync/MuseTalk/requirements.txt (line 7))\n",
            "  Using cached jax-0.4.31-py3-none-any.whl.metadata (22 kB)\n",
            "Requirement already satisfied: jaxlib<=0.4.31,>=0.4.30 in /usr/local/lib/python3.10/dist-packages (from jax>=0.3.15->tensorflow==2.12.0->-r /content/drive/MyDrive/Lip-Sync/MuseTalk/requirements.txt (line 7)) (0.4.30)\n",
            "  Using cached jax-0.4.30-py3-none-any.whl.metadata (22 kB)\n",
            "Requirement already satisfied: scipy>=1.9 in /usr/local/lib/python3.10/dist-packages (from jax>=0.3.15->tensorflow==2.12.0->-r /content/drive/MyDrive/Lip-Sync/MuseTalk/requirements.txt (line 7)) (1.13.1)\n",
            "Requirement already satisfied: python-dateutil>=2.8.2 in /usr/local/lib/python3.10/dist-packages (from pandas<3.0,>=1.0->gradio->-r /content/drive/MyDrive/Lip-Sync/MuseTalk/requirements.txt (line 19)) (2.8.2)\n",
            "Requirement already satisfied: pytz>=2020.1 in /usr/local/lib/python3.10/dist-packages (from pandas<3.0,>=1.0->gradio->-r /content/drive/MyDrive/Lip-Sync/MuseTalk/requirements.txt (line 19)) (2023.4)\n",
            "Requirement already satisfied: tzdata>=2022.7 in /usr/local/lib/python3.10/dist-packages (from pandas<3.0,>=1.0->gradio->-r /content/drive/MyDrive/Lip-Sync/MuseTalk/requirements.txt (line 19)) (2024.2)\n",
            "Requirement already satisfied: annotated-types>=0.6.0 in /usr/local/lib/python3.10/dist-packages (from pydantic>=2.0->gradio->-r /content/drive/MyDrive/Lip-Sync/MuseTalk/requirements.txt (line 19)) (0.7.0)\n",
            "Requirement already satisfied: pydantic-core==2.27.1 in /usr/local/lib/python3.10/dist-packages (from pydantic>=2.0->gradio->-r /content/drive/MyDrive/Lip-Sync/MuseTalk/requirements.txt (line 19)) (2.27.1)\n",
            "Requirement already satisfied: click>=8.0.0 in /usr/local/lib/python3.10/dist-packages (from typer<1.0,>=0.12->gradio->-r /content/drive/MyDrive/Lip-Sync/MuseTalk/requirements.txt (line 19)) (8.1.7)\n",
            "Requirement already satisfied: shellingham>=1.3.0 in /usr/local/lib/python3.10/dist-packages (from typer<1.0,>=0.12->gradio->-r /content/drive/MyDrive/Lip-Sync/MuseTalk/requirements.txt (line 19)) (1.5.4)\n",
            "Requirement already satisfied: rich>=10.11.0 in /usr/local/lib/python3.10/dist-packages (from typer<1.0,>=0.12->gradio->-r /content/drive/MyDrive/Lip-Sync/MuseTalk/requirements.txt (line 19)) (13.4.2)\n",
            "Requirement already satisfied: soupsieve>1.2 in /usr/local/lib/python3.10/dist-packages (from beautifulsoup4->gdown->-r /content/drive/MyDrive/Lip-Sync/MuseTalk/requirements.txt (line 13)) (2.6)\n",
            "Requirement already satisfied: zipp>=3.20 in /usr/local/lib/python3.10/dist-packages (from importlib-metadata->diffusers==0.27.2->-r /content/drive/MyDrive/Lip-Sync/MuseTalk/requirements.txt (line 5)) (3.21.0)\n",
            "Requirement already satisfied: PySocks!=1.5.7,>=1.5.6 in /usr/local/lib/python3.10/dist-packages (from requests[socks]->gdown->-r /content/drive/MyDrive/Lip-Sync/MuseTalk/requirements.txt (line 13)) (1.7.1)\n",
            "Requirement already satisfied: mpmath<1.4,>=1.1.0 in /usr/local/lib/python3.10/dist-packages (from sympy->torch==2.0.1->-r /content/drive/MyDrive/Lip-Sync/MuseTalk/requirements.txt (line 2)) (1.3.0)\n",
            "Requirement already satisfied: pyasn1<0.7.0,>=0.4.6 in /usr/local/lib/python3.10/dist-packages (from pyasn1-modules>=0.2.1->google-auth<3,>=1.6.3->tensorboard==2.12.0->-r /content/drive/MyDrive/Lip-Sync/MuseTalk/requirements.txt (line 8)) (0.6.1)\n",
            "Requirement already satisfied: oauthlib>=3.0.0 in /usr/local/lib/python3.10/dist-packages (from requests-oauthlib>=0.7.0->google-auth-oauthlib<0.5,>=0.4.1->tensorboard==2.12.0->-r /content/drive/MyDrive/Lip-Sync/MuseTalk/requirements.txt (line 8)) (3.2.2)\n",
            "Requirement already satisfied: markdown-it-py>=2.2.0 in /usr/local/lib/python3.10/dist-packages (from rich>=10.11.0->typer<1.0,>=0.12->gradio->-r /content/drive/MyDrive/Lip-Sync/MuseTalk/requirements.txt (line 19)) (3.0.0)\n",
            "Requirement already satisfied: pygments<3.0.0,>=2.13.0 in /usr/local/lib/python3.10/dist-packages (from rich>=10.11.0->typer<1.0,>=0.12->gradio->-r /content/drive/MyDrive/Lip-Sync/MuseTalk/requirements.txt (line 19)) (2.18.0)\n",
            "Requirement already satisfied: mdurl~=0.1 in /usr/local/lib/python3.10/dist-packages (from markdown-it-py>=2.2.0->rich>=10.11.0->typer<1.0,>=0.12->gradio->-r /content/drive/MyDrive/Lip-Sync/MuseTalk/requirements.txt (line 19)) (0.1.2)\n",
            "Using cached accelerate-0.28.0-py3-none-any.whl (290 kB)\n",
            "Using cached tensorflow-2.12.0-cp310-cp310-manylinux_2_17_x86_64.manylinux2014_x86_64.whl (585.9 MB)\n",
            "Using cached tensorboard-2.12.0-py3-none-any.whl (5.6 MB)\n",
            "Using cached gradio-5.9.1-py3-none-any.whl (57.2 MB)\n",
            "Using cached spaces-0.31.1-py3-none-any.whl (28 kB)\n",
            "Downloading huggingface_hub-0.27.0-py3-none-any.whl (450 kB)\n",
            "\u001b[2K   \u001b[90m━━━━━━━━━━━━━━━━━━━━━━━━━━━━━━━━━━━━━━━━\u001b[0m \u001b[32m450.5/450.5 kB\u001b[0m \u001b[31m748.5 kB/s\u001b[0m eta \u001b[36m0:00:00\u001b[0m\n",
            "\u001b[?25hUsing cached jax-0.4.30-py3-none-any.whl (2.0 MB)\n",
            "\u001b[33mWARNING: Ignoring invalid distribution -ransformers (/usr/local/lib/python3.10/dist-packages)\u001b[0m\u001b[33m\n",
            "\u001b[0mInstalling collected packages: huggingface-hub, jax, tensorboard, gradio, tensorflow, spaces, triton, torch, torchvision, torchaudio, accelerate\n",
            "  Attempting uninstall: huggingface-hub\n",
            "    Found existing installation: huggingface-hub 0.24.7\n",
            "    Uninstalling huggingface-hub-0.24.7:\n",
            "      Successfully uninstalled huggingface-hub-0.24.7\n",
            "  Attempting uninstall: jax\n",
            "    Found existing installation: jax 0.4.33\n",
            "    Uninstalling jax-0.4.33:\n",
            "      Successfully uninstalled jax-0.4.33\n",
            "  Attempting uninstall: tensorboard\n",
            "    Found existing installation: tensorboard 2.17.1\n",
            "    Uninstalling tensorboard-2.17.1:\n",
            "      Successfully uninstalled tensorboard-2.17.1\n",
            "  Attempting uninstall: tensorflow\n",
            "    Found existing installation: tensorflow 2.17.1\n",
            "    Uninstalling tensorflow-2.17.1:\n",
            "      Successfully uninstalled tensorflow-2.17.1\n",
            "  Attempting uninstall: torch\n",
            "    Found existing installation: torch 2.5.1+cu121\n",
            "    Uninstalling torch-2.5.1+cu121:\n",
            "      Successfully uninstalled torch-2.5.1+cu121\n",
            "  Attempting uninstall: torchvision\n",
            "    Found existing installation: torchvision 0.20.1+cu121\n",
            "    Uninstalling torchvision-0.20.1+cu121:\n",
            "      Successfully uninstalled torchvision-0.20.1+cu121\n",
            "  Attempting uninstall: torchaudio\n",
            "    Found existing installation: torchaudio 2.5.1+cu121\n",
            "    Uninstalling torchaudio-2.5.1+cu121:\n",
            "      Successfully uninstalled torchaudio-2.5.1+cu121\n",
            "  Attempting uninstall: accelerate\n",
            "    Found existing installation: accelerate 1.1.1\n",
            "    Uninstalling accelerate-1.1.1:\n",
            "      Successfully uninstalled accelerate-1.1.1\n",
            "\u001b[31mERROR: pip's dependency resolver does not currently take into account all the packages that are installed. This behaviour is the source of the following dependency conflicts.\n",
            "chex 0.1.87 requires numpy>=1.24.1, but you have numpy 1.23.5 which is incompatible.\n",
            "sentence-transformers 3.2.1 requires transformers<5.0.0,>=4.41.0, but you have transformers 4.39.2 which is incompatible.\n",
            "tf-keras 2.17.0 requires tensorflow<2.18,>=2.17, but you have tensorflow 2.12.0 which is incompatible.\u001b[0m\u001b[31m\n",
            "\u001b[0mSuccessfully installed accelerate-0.28.0 gradio-5.9.1 huggingface-hub-0.27.0 jax-0.4.30 spaces-0.31.1 tensorboard-2.12.0 tensorflow-2.12.0 torch-2.0.1+cu118 torchaudio-2.0.2+cu118 torchvision-0.15.2+cu118 triton-2.0.0\n"
          ]
        }
      ]
    },
    {
      "cell_type": "markdown",
      "source": [
        "NOTE:\n",
        "1. Restart Runtime\n",
        "2. Run Next cell ( mmpose installation )\n",
        "3. **Don't Restart run time again**"
      ],
      "metadata": {
        "id": "IIqea1hRbQwe"
      }
    },
    {
      "cell_type": "markdown",
      "source": [
        "### Install MMpose"
      ],
      "metadata": {
        "id": "Wnpg4AYi-WrU"
      }
    },
    {
      "cell_type": "code",
      "source": [
        "!pip install --no-cache-dir -U openmim\n",
        "!mim install mmengine\n",
        "!mim install \"mmcv>=2.0.0rc4,<2.2.0\"\n",
        "!mim install \"mmdet>=3.1.0\"\n",
        "!mim install \"mmpose>=1.1.0\""
      ],
      "metadata": {
        "id": "390Oifb-pZe1",
        "colab": {
          "base_uri": "https://localhost:8080/"
        },
        "outputId": "f2959d02-ee37-4dff-bab5-3e4cc02f853a"
      },
      "execution_count": null,
      "outputs": [
        {
          "output_type": "stream",
          "name": "stdout",
          "text": [
            "\u001b[33mWARNING: Ignoring invalid distribution -ransformers (/usr/local/lib/python3.10/dist-packages)\u001b[0m\u001b[33m\n",
            "\u001b[0mRequirement already satisfied: openmim in /usr/local/lib/python3.10/dist-packages (0.3.9)\n",
            "Requirement already satisfied: Click in /usr/local/lib/python3.10/dist-packages (from openmim) (8.1.7)\n",
            "Requirement already satisfied: colorama in /usr/local/lib/python3.10/dist-packages (from openmim) (0.4.6)\n",
            "Requirement already satisfied: model-index in /usr/local/lib/python3.10/dist-packages (from openmim) (0.1.11)\n",
            "Requirement already satisfied: opendatalab in /usr/local/lib/python3.10/dist-packages (from openmim) (0.0.10)\n",
            "Requirement already satisfied: pandas in /usr/local/lib/python3.10/dist-packages (from openmim) (2.2.2)\n",
            "Requirement already satisfied: pip>=19.3 in /usr/local/lib/python3.10/dist-packages (from openmim) (24.1.2)\n",
            "Requirement already satisfied: requests in /usr/local/lib/python3.10/dist-packages (from openmim) (2.28.2)\n",
            "Requirement already satisfied: rich in /usr/local/lib/python3.10/dist-packages (from openmim) (13.4.2)\n",
            "Requirement already satisfied: tabulate in /usr/local/lib/python3.10/dist-packages (from openmim) (0.9.0)\n",
            "Requirement already satisfied: pyyaml in /usr/local/lib/python3.10/dist-packages (from model-index->openmim) (6.0.2)\n",
            "Requirement already satisfied: markdown in /usr/local/lib/python3.10/dist-packages (from model-index->openmim) (3.7)\n",
            "Requirement already satisfied: ordered-set in /usr/local/lib/python3.10/dist-packages (from model-index->openmim) (4.1.0)\n",
            "Requirement already satisfied: pycryptodome in /usr/local/lib/python3.10/dist-packages (from opendatalab->openmim) (3.21.0)\n",
            "Requirement already satisfied: tqdm in /usr/local/lib/python3.10/dist-packages (from opendatalab->openmim) (4.65.2)\n",
            "Requirement already satisfied: openxlab in /usr/local/lib/python3.10/dist-packages (from opendatalab->openmim) (0.1.2)\n",
            "Requirement already satisfied: charset-normalizer<4,>=2 in /usr/local/lib/python3.10/dist-packages (from requests->openmim) (3.4.0)\n",
            "Requirement already satisfied: idna<4,>=2.5 in /usr/local/lib/python3.10/dist-packages (from requests->openmim) (3.10)\n",
            "Requirement already satisfied: urllib3<1.27,>=1.21.1 in /usr/local/lib/python3.10/dist-packages (from requests->openmim) (1.26.20)\n",
            "Requirement already satisfied: certifi>=2017.4.17 in /usr/local/lib/python3.10/dist-packages (from requests->openmim) (2024.8.30)\n",
            "Requirement already satisfied: numpy>=1.22.4 in /usr/local/lib/python3.10/dist-packages (from pandas->openmim) (1.23.5)\n",
            "Requirement already satisfied: python-dateutil>=2.8.2 in /usr/local/lib/python3.10/dist-packages (from pandas->openmim) (2.8.2)\n",
            "Requirement already satisfied: pytz>=2020.1 in /usr/local/lib/python3.10/dist-packages (from pandas->openmim) (2023.4)\n",
            "Requirement already satisfied: tzdata>=2022.7 in /usr/local/lib/python3.10/dist-packages (from pandas->openmim) (2024.2)\n",
            "Requirement already satisfied: markdown-it-py>=2.2.0 in /usr/local/lib/python3.10/dist-packages (from rich->openmim) (3.0.0)\n",
            "Requirement already satisfied: pygments<3.0.0,>=2.13.0 in /usr/local/lib/python3.10/dist-packages (from rich->openmim) (2.18.0)\n",
            "Requirement already satisfied: mdurl~=0.1 in /usr/local/lib/python3.10/dist-packages (from markdown-it-py>=2.2.0->rich->openmim) (0.1.2)\n",
            "Requirement already satisfied: six>=1.5 in /usr/local/lib/python3.10/dist-packages (from python-dateutil>=2.8.2->pandas->openmim) (1.17.0)\n",
            "Requirement already satisfied: filelock~=3.14.0 in /usr/local/lib/python3.10/dist-packages (from openxlab->opendatalab->openmim) (3.14.0)\n",
            "Requirement already satisfied: oss2~=2.17.0 in /usr/local/lib/python3.10/dist-packages (from openxlab->opendatalab->openmim) (2.17.0)\n",
            "Requirement already satisfied: packaging~=24.0 in /usr/local/lib/python3.10/dist-packages (from openxlab->opendatalab->openmim) (24.2)\n",
            "Requirement already satisfied: setuptools~=60.2.0 in /usr/local/lib/python3.10/dist-packages (from openxlab->opendatalab->openmim) (60.2.0)\n",
            "Requirement already satisfied: crcmod>=1.7 in /usr/local/lib/python3.10/dist-packages (from oss2~=2.17.0->openxlab->opendatalab->openmim) (1.7)\n",
            "Requirement already satisfied: aliyun-python-sdk-kms>=2.4.1 in /usr/local/lib/python3.10/dist-packages (from oss2~=2.17.0->openxlab->opendatalab->openmim) (2.16.5)\n",
            "Requirement already satisfied: aliyun-python-sdk-core>=2.13.12 in /usr/local/lib/python3.10/dist-packages (from oss2~=2.17.0->openxlab->opendatalab->openmim) (2.16.0)\n",
            "Requirement already satisfied: jmespath<1.0.0,>=0.9.3 in /usr/local/lib/python3.10/dist-packages (from aliyun-python-sdk-core>=2.13.12->oss2~=2.17.0->openxlab->opendatalab->openmim) (0.10.0)\n",
            "Requirement already satisfied: cryptography>=3.0.0 in /usr/local/lib/python3.10/dist-packages (from aliyun-python-sdk-core>=2.13.12->oss2~=2.17.0->openxlab->opendatalab->openmim) (43.0.3)\n",
            "Requirement already satisfied: cffi>=1.12 in /usr/local/lib/python3.10/dist-packages (from cryptography>=3.0.0->aliyun-python-sdk-core>=2.13.12->oss2~=2.17.0->openxlab->opendatalab->openmim) (1.17.1)\n",
            "Requirement already satisfied: pycparser in /usr/local/lib/python3.10/dist-packages (from cffi>=1.12->cryptography>=3.0.0->aliyun-python-sdk-core>=2.13.12->oss2~=2.17.0->openxlab->opendatalab->openmim) (2.22)\n",
            "\u001b[33mWARNING: Ignoring invalid distribution -ransformers (/usr/local/lib/python3.10/dist-packages)\u001b[0m\u001b[33m\n",
            "\u001b[0m\u001b[33mWARNING: Ignoring invalid distribution -ransformers (/usr/local/lib/python3.10/dist-packages)\u001b[0m\u001b[33m\n",
            "\u001b[0mLooking in links: https://download.openmmlab.com/mmcv/dist/cu118/torch2.0.0/index.html\n",
            "Requirement already satisfied: mmengine in /usr/local/lib/python3.10/dist-packages (0.10.5)\n",
            "Requirement already satisfied: addict in /usr/local/lib/python3.10/dist-packages (from mmengine) (2.4.0)\n",
            "Requirement already satisfied: matplotlib in /usr/local/lib/python3.10/dist-packages (from mmengine) (3.8.0)\n",
            "Requirement already satisfied: numpy in /usr/local/lib/python3.10/dist-packages (from mmengine) (1.23.5)\n",
            "Requirement already satisfied: pyyaml in /usr/local/lib/python3.10/dist-packages (from mmengine) (6.0.2)\n",
            "Requirement already satisfied: rich in /usr/local/lib/python3.10/dist-packages (from mmengine) (13.4.2)\n",
            "Requirement already satisfied: termcolor in /usr/local/lib/python3.10/dist-packages (from mmengine) (2.5.0)\n",
            "Requirement already satisfied: yapf in /usr/local/lib/python3.10/dist-packages (from mmengine) (0.43.0)\n",
            "Requirement already satisfied: opencv-python>=3 in /usr/local/lib/python3.10/dist-packages (from mmengine) (4.9.0.80)\n",
            "Requirement already satisfied: contourpy>=1.0.1 in /usr/local/lib/python3.10/dist-packages (from matplotlib->mmengine) (1.3.1)\n",
            "Requirement already satisfied: cycler>=0.10 in /usr/local/lib/python3.10/dist-packages (from matplotlib->mmengine) (0.12.1)\n",
            "Requirement already satisfied: fonttools>=4.22.0 in /usr/local/lib/python3.10/dist-packages (from matplotlib->mmengine) (4.55.3)\n",
            "Requirement already satisfied: kiwisolver>=1.0.1 in /usr/local/lib/python3.10/dist-packages (from matplotlib->mmengine) (1.4.7)\n",
            "Requirement already satisfied: packaging>=20.0 in /usr/local/lib/python3.10/dist-packages (from matplotlib->mmengine) (24.2)\n",
            "Requirement already satisfied: pillow>=6.2.0 in /usr/local/lib/python3.10/dist-packages (from matplotlib->mmengine) (11.0.0)\n",
            "Requirement already satisfied: pyparsing>=2.3.1 in /usr/local/lib/python3.10/dist-packages (from matplotlib->mmengine) (3.2.0)\n",
            "Requirement already satisfied: python-dateutil>=2.7 in /usr/local/lib/python3.10/dist-packages (from matplotlib->mmengine) (2.8.2)\n",
            "Requirement already satisfied: markdown-it-py>=2.2.0 in /usr/local/lib/python3.10/dist-packages (from rich->mmengine) (3.0.0)\n",
            "Requirement already satisfied: pygments<3.0.0,>=2.13.0 in /usr/local/lib/python3.10/dist-packages (from rich->mmengine) (2.18.0)\n",
            "Requirement already satisfied: platformdirs>=3.5.1 in /usr/local/lib/python3.10/dist-packages (from yapf->mmengine) (4.3.6)\n",
            "Requirement already satisfied: tomli>=2.0.1 in /usr/local/lib/python3.10/dist-packages (from yapf->mmengine) (2.2.1)\n",
            "Requirement already satisfied: mdurl~=0.1 in /usr/local/lib/python3.10/dist-packages (from markdown-it-py>=2.2.0->rich->mmengine) (0.1.2)\n",
            "Requirement already satisfied: six>=1.5 in /usr/local/lib/python3.10/dist-packages (from python-dateutil>=2.7->matplotlib->mmengine) (1.17.0)\n",
            "\u001b[33mWARNING: Ignoring invalid distribution -ransformers (/usr/local/lib/python3.10/dist-packages)\u001b[0m\u001b[33m\n",
            "\u001b[0m\u001b[33mWARNING: Ignoring invalid distribution -ransformers (/usr/local/lib/python3.10/dist-packages)\u001b[0m\u001b[33m\n",
            "\u001b[0mLooking in links: https://download.openmmlab.com/mmcv/dist/cu118/torch2.0.0/index.html\n",
            "Collecting mmcv<2.2.0,>=2.0.0rc4\n",
            "  Downloading https://download.openmmlab.com/mmcv/dist/cu118/torch2.0.0/mmcv-2.1.0-cp310-cp310-manylinux1_x86_64.whl (98.6 MB)\n",
            "\u001b[2K     \u001b[90m━━━━━━━━━━━━━━━━━━━━━━━━━━━━━━━━━━━━━━━━\u001b[0m \u001b[32m98.6/98.6 MB\u001b[0m \u001b[31m7.7 MB/s\u001b[0m eta \u001b[36m0:00:00\u001b[0m\n",
            "\u001b[?25hRequirement already satisfied: addict in /usr/local/lib/python3.10/dist-packages (from mmcv<2.2.0,>=2.0.0rc4) (2.4.0)\n",
            "Requirement already satisfied: mmengine>=0.3.0 in /usr/local/lib/python3.10/dist-packages (from mmcv<2.2.0,>=2.0.0rc4) (0.10.5)\n",
            "Requirement already satisfied: numpy in /usr/local/lib/python3.10/dist-packages (from mmcv<2.2.0,>=2.0.0rc4) (1.23.5)\n",
            "Requirement already satisfied: packaging in /usr/local/lib/python3.10/dist-packages (from mmcv<2.2.0,>=2.0.0rc4) (24.2)\n",
            "Requirement already satisfied: Pillow in /usr/local/lib/python3.10/dist-packages (from mmcv<2.2.0,>=2.0.0rc4) (11.0.0)\n",
            "Requirement already satisfied: pyyaml in /usr/local/lib/python3.10/dist-packages (from mmcv<2.2.0,>=2.0.0rc4) (6.0.2)\n",
            "Requirement already satisfied: yapf in /usr/local/lib/python3.10/dist-packages (from mmcv<2.2.0,>=2.0.0rc4) (0.43.0)\n",
            "Requirement already satisfied: opencv-python>=3 in /usr/local/lib/python3.10/dist-packages (from mmcv<2.2.0,>=2.0.0rc4) (4.9.0.80)\n",
            "Requirement already satisfied: matplotlib in /usr/local/lib/python3.10/dist-packages (from mmengine>=0.3.0->mmcv<2.2.0,>=2.0.0rc4) (3.8.0)\n",
            "Requirement already satisfied: rich in /usr/local/lib/python3.10/dist-packages (from mmengine>=0.3.0->mmcv<2.2.0,>=2.0.0rc4) (13.4.2)\n",
            "Requirement already satisfied: termcolor in /usr/local/lib/python3.10/dist-packages (from mmengine>=0.3.0->mmcv<2.2.0,>=2.0.0rc4) (2.5.0)\n",
            "Requirement already satisfied: platformdirs>=3.5.1 in /usr/local/lib/python3.10/dist-packages (from yapf->mmcv<2.2.0,>=2.0.0rc4) (4.3.6)\n",
            "Requirement already satisfied: tomli>=2.0.1 in /usr/local/lib/python3.10/dist-packages (from yapf->mmcv<2.2.0,>=2.0.0rc4) (2.2.1)\n",
            "Requirement already satisfied: contourpy>=1.0.1 in /usr/local/lib/python3.10/dist-packages (from matplotlib->mmengine>=0.3.0->mmcv<2.2.0,>=2.0.0rc4) (1.3.1)\n",
            "Requirement already satisfied: cycler>=0.10 in /usr/local/lib/python3.10/dist-packages (from matplotlib->mmengine>=0.3.0->mmcv<2.2.0,>=2.0.0rc4) (0.12.1)\n",
            "Requirement already satisfied: fonttools>=4.22.0 in /usr/local/lib/python3.10/dist-packages (from matplotlib->mmengine>=0.3.0->mmcv<2.2.0,>=2.0.0rc4) (4.55.3)\n",
            "Requirement already satisfied: kiwisolver>=1.0.1 in /usr/local/lib/python3.10/dist-packages (from matplotlib->mmengine>=0.3.0->mmcv<2.2.0,>=2.0.0rc4) (1.4.7)\n",
            "Requirement already satisfied: pyparsing>=2.3.1 in /usr/local/lib/python3.10/dist-packages (from matplotlib->mmengine>=0.3.0->mmcv<2.2.0,>=2.0.0rc4) (3.2.0)\n",
            "Requirement already satisfied: python-dateutil>=2.7 in /usr/local/lib/python3.10/dist-packages (from matplotlib->mmengine>=0.3.0->mmcv<2.2.0,>=2.0.0rc4) (2.8.2)\n",
            "Requirement already satisfied: markdown-it-py>=2.2.0 in /usr/local/lib/python3.10/dist-packages (from rich->mmengine>=0.3.0->mmcv<2.2.0,>=2.0.0rc4) (3.0.0)\n",
            "Requirement already satisfied: pygments<3.0.0,>=2.13.0 in /usr/local/lib/python3.10/dist-packages (from rich->mmengine>=0.3.0->mmcv<2.2.0,>=2.0.0rc4) (2.18.0)\n",
            "Requirement already satisfied: mdurl~=0.1 in /usr/local/lib/python3.10/dist-packages (from markdown-it-py>=2.2.0->rich->mmengine>=0.3.0->mmcv<2.2.0,>=2.0.0rc4) (0.1.2)\n",
            "Requirement already satisfied: six>=1.5 in /usr/local/lib/python3.10/dist-packages (from python-dateutil>=2.7->matplotlib->mmengine>=0.3.0->mmcv<2.2.0,>=2.0.0rc4) (1.17.0)\n",
            "\u001b[33mWARNING: Ignoring invalid distribution -ransformers (/usr/local/lib/python3.10/dist-packages)\u001b[0m\u001b[33m\n",
            "\u001b[0mInstalling collected packages: mmcv\n",
            "\u001b[31mERROR: pip's dependency resolver does not currently take into account all the packages that are installed. This behaviour is the source of the following dependency conflicts.\n",
            "mmpose 1.3.2 requires mmdet<3.3.0,>=3.0.0; extra == \"mim\", but you have mmdet 3.3.0 which is incompatible.\u001b[0m\u001b[31m\n",
            "\u001b[0mSuccessfully installed mmcv-2.1.0\n",
            "\u001b[33mWARNING: Ignoring invalid distribution -ransformers (/usr/local/lib/python3.10/dist-packages)\u001b[0m\u001b[33m\n",
            "\u001b[0mLooking in links: https://download.openmmlab.com/mmcv/dist/cu118/torch2.0.0/index.html\n",
            "Requirement already satisfied: mmdet>=3.1.0 in /usr/local/lib/python3.10/dist-packages (3.3.0)\n",
            "Ignoring mmcv: markers 'extra == \"mim\"' don't match your environment\n",
            "Ignoring mmengine: markers 'extra == \"mim\"' don't match your environment\n",
            "Requirement already satisfied: matplotlib in /usr/local/lib/python3.10/dist-packages (from mmdet>=3.1.0) (3.8.0)\n",
            "Requirement already satisfied: numpy in /usr/local/lib/python3.10/dist-packages (from mmdet>=3.1.0) (1.23.5)\n",
            "Requirement already satisfied: pycocotools in /usr/local/lib/python3.10/dist-packages (from mmdet>=3.1.0) (2.0.8)\n",
            "Requirement already satisfied: scipy in /usr/local/lib/python3.10/dist-packages (from mmdet>=3.1.0) (1.13.1)\n",
            "Requirement already satisfied: shapely in /usr/local/lib/python3.10/dist-packages (from mmdet>=3.1.0) (2.0.6)\n",
            "Requirement already satisfied: six in /usr/local/lib/python3.10/dist-packages (from mmdet>=3.1.0) (1.17.0)\n",
            "Requirement already satisfied: terminaltables in /usr/local/lib/python3.10/dist-packages (from mmdet>=3.1.0) (3.1.10)\n",
            "Requirement already satisfied: tqdm in /usr/local/lib/python3.10/dist-packages (from mmdet>=3.1.0) (4.65.2)\n",
            "Requirement already satisfied: contourpy>=1.0.1 in /usr/local/lib/python3.10/dist-packages (from matplotlib->mmdet>=3.1.0) (1.3.1)\n",
            "Requirement already satisfied: cycler>=0.10 in /usr/local/lib/python3.10/dist-packages (from matplotlib->mmdet>=3.1.0) (0.12.1)\n",
            "Requirement already satisfied: fonttools>=4.22.0 in /usr/local/lib/python3.10/dist-packages (from matplotlib->mmdet>=3.1.0) (4.55.3)\n",
            "Requirement already satisfied: kiwisolver>=1.0.1 in /usr/local/lib/python3.10/dist-packages (from matplotlib->mmdet>=3.1.0) (1.4.7)\n",
            "Requirement already satisfied: packaging>=20.0 in /usr/local/lib/python3.10/dist-packages (from matplotlib->mmdet>=3.1.0) (24.2)\n",
            "Requirement already satisfied: pillow>=6.2.0 in /usr/local/lib/python3.10/dist-packages (from matplotlib->mmdet>=3.1.0) (11.0.0)\n",
            "Requirement already satisfied: pyparsing>=2.3.1 in /usr/local/lib/python3.10/dist-packages (from matplotlib->mmdet>=3.1.0) (3.2.0)\n",
            "Requirement already satisfied: python-dateutil>=2.7 in /usr/local/lib/python3.10/dist-packages (from matplotlib->mmdet>=3.1.0) (2.8.2)\n",
            "\u001b[33mWARNING: Ignoring invalid distribution -ransformers (/usr/local/lib/python3.10/dist-packages)\u001b[0m\u001b[33m\n",
            "\u001b[0m\u001b[33mWARNING: Ignoring invalid distribution -ransformers (/usr/local/lib/python3.10/dist-packages)\u001b[0m\u001b[33m\n",
            "\u001b[0mLooking in links: https://download.openmmlab.com/mmcv/dist/cu118/torch2.0.0/index.html\n",
            "Requirement already satisfied: mmpose>=1.1.0 in /usr/local/lib/python3.10/dist-packages (1.3.2)\n",
            "Ignoring mmcv: markers 'extra == \"mim\"' don't match your environment\n",
            "Ignoring mmdet: markers 'extra == \"mim\"' don't match your environment\n",
            "Ignoring mmengine: markers 'extra == \"mim\"' don't match your environment\n",
            "Requirement already satisfied: chumpy in /usr/local/lib/python3.10/dist-packages (from mmpose>=1.1.0) (0.70)\n",
            "Requirement already satisfied: json-tricks in /usr/local/lib/python3.10/dist-packages (from mmpose>=1.1.0) (3.17.3)\n",
            "Requirement already satisfied: matplotlib in /usr/local/lib/python3.10/dist-packages (from mmpose>=1.1.0) (3.8.0)\n",
            "Requirement already satisfied: munkres in /usr/local/lib/python3.10/dist-packages (from mmpose>=1.1.0) (1.1.4)\n",
            "Requirement already satisfied: numpy in /usr/local/lib/python3.10/dist-packages (from mmpose>=1.1.0) (1.23.5)\n",
            "Requirement already satisfied: opencv-python in /usr/local/lib/python3.10/dist-packages (from mmpose>=1.1.0) (4.9.0.80)\n",
            "Requirement already satisfied: pillow in /usr/local/lib/python3.10/dist-packages (from mmpose>=1.1.0) (11.0.0)\n",
            "Requirement already satisfied: scipy in /usr/local/lib/python3.10/dist-packages (from mmpose>=1.1.0) (1.13.1)\n",
            "Requirement already satisfied: torchvision in /usr/local/lib/python3.10/dist-packages (from mmpose>=1.1.0) (0.15.2+cu118)\n",
            "Requirement already satisfied: xtcocotools>=1.12 in /usr/local/lib/python3.10/dist-packages (from mmpose>=1.1.0) (1.14.3)\n",
            "Requirement already satisfied: setuptools>=18.0 in /usr/local/lib/python3.10/dist-packages (from xtcocotools>=1.12->mmpose>=1.1.0) (60.2.0)\n",
            "Requirement already satisfied: cython>=0.27.3 in /usr/local/lib/python3.10/dist-packages (from xtcocotools>=1.12->mmpose>=1.1.0) (3.0.11)\n",
            "Requirement already satisfied: contourpy>=1.0.1 in /usr/local/lib/python3.10/dist-packages (from matplotlib->mmpose>=1.1.0) (1.3.1)\n",
            "Requirement already satisfied: cycler>=0.10 in /usr/local/lib/python3.10/dist-packages (from matplotlib->mmpose>=1.1.0) (0.12.1)\n",
            "Requirement already satisfied: fonttools>=4.22.0 in /usr/local/lib/python3.10/dist-packages (from matplotlib->mmpose>=1.1.0) (4.55.3)\n",
            "Requirement already satisfied: kiwisolver>=1.0.1 in /usr/local/lib/python3.10/dist-packages (from matplotlib->mmpose>=1.1.0) (1.4.7)\n",
            "Requirement already satisfied: packaging>=20.0 in /usr/local/lib/python3.10/dist-packages (from matplotlib->mmpose>=1.1.0) (24.2)\n",
            "Requirement already satisfied: pyparsing>=2.3.1 in /usr/local/lib/python3.10/dist-packages (from matplotlib->mmpose>=1.1.0) (3.2.0)\n",
            "Requirement already satisfied: python-dateutil>=2.7 in /usr/local/lib/python3.10/dist-packages (from matplotlib->mmpose>=1.1.0) (2.8.2)\n",
            "Requirement already satisfied: six>=1.11.0 in /usr/local/lib/python3.10/dist-packages (from chumpy->mmpose>=1.1.0) (1.17.0)\n",
            "Requirement already satisfied: requests in /usr/local/lib/python3.10/dist-packages (from torchvision->mmpose>=1.1.0) (2.28.2)\n",
            "Requirement already satisfied: torch==2.0.1 in /usr/local/lib/python3.10/dist-packages (from torchvision->mmpose>=1.1.0) (2.0.1+cu118)\n",
            "Requirement already satisfied: filelock in /usr/local/lib/python3.10/dist-packages (from torch==2.0.1->torchvision->mmpose>=1.1.0) (3.14.0)\n",
            "Requirement already satisfied: typing-extensions in /usr/local/lib/python3.10/dist-packages (from torch==2.0.1->torchvision->mmpose>=1.1.0) (4.12.2)\n",
            "Requirement already satisfied: sympy in /usr/local/lib/python3.10/dist-packages (from torch==2.0.1->torchvision->mmpose>=1.1.0) (1.13.1)\n",
            "Requirement already satisfied: networkx in /usr/local/lib/python3.10/dist-packages (from torch==2.0.1->torchvision->mmpose>=1.1.0) (3.4.2)\n",
            "Requirement already satisfied: jinja2 in /usr/local/lib/python3.10/dist-packages (from torch==2.0.1->torchvision->mmpose>=1.1.0) (3.1.4)\n",
            "Requirement already satisfied: triton==2.0.0 in /usr/local/lib/python3.10/dist-packages (from torch==2.0.1->torchvision->mmpose>=1.1.0) (2.0.0)\n",
            "Requirement already satisfied: cmake in /usr/local/lib/python3.10/dist-packages (from triton==2.0.0->torch==2.0.1->torchvision->mmpose>=1.1.0) (3.30.5)\n",
            "Requirement already satisfied: lit in /usr/local/lib/python3.10/dist-packages (from triton==2.0.0->torch==2.0.1->torchvision->mmpose>=1.1.0) (18.1.8)\n",
            "Requirement already satisfied: charset-normalizer<4,>=2 in /usr/local/lib/python3.10/dist-packages (from requests->torchvision->mmpose>=1.1.0) (3.4.0)\n",
            "Requirement already satisfied: idna<4,>=2.5 in /usr/local/lib/python3.10/dist-packages (from requests->torchvision->mmpose>=1.1.0) (3.10)\n",
            "Requirement already satisfied: urllib3<1.27,>=1.21.1 in /usr/local/lib/python3.10/dist-packages (from requests->torchvision->mmpose>=1.1.0) (1.26.20)\n",
            "Requirement already satisfied: certifi>=2017.4.17 in /usr/local/lib/python3.10/dist-packages (from requests->torchvision->mmpose>=1.1.0) (2024.8.30)\n",
            "Requirement already satisfied: MarkupSafe>=2.0 in /usr/local/lib/python3.10/dist-packages (from jinja2->torch==2.0.1->torchvision->mmpose>=1.1.0) (2.1.5)\n",
            "Requirement already satisfied: mpmath<1.4,>=1.1.0 in /usr/local/lib/python3.10/dist-packages (from sympy->torch==2.0.1->torchvision->mmpose>=1.1.0) (1.3.0)\n",
            "\u001b[33mWARNING: Ignoring invalid distribution -ransformers (/usr/local/lib/python3.10/dist-packages)\u001b[0m\u001b[33m\n",
            "\u001b[0m"
          ]
        }
      ]
    },
    {
      "cell_type": "code",
      "source": [
        "!pip uninstall huggingface_hub"
      ],
      "metadata": {
        "colab": {
          "base_uri": "https://localhost:8080/"
        },
        "id": "deB6hhOm1Qub",
        "outputId": "e90ce535-1076-4867-ca72-eaa0e3dd16a9"
      },
      "execution_count": null,
      "outputs": [
        {
          "output_type": "stream",
          "name": "stdout",
          "text": [
            "Found existing installation: huggingface-hub 0.27.0\n",
            "Uninstalling huggingface-hub-0.27.0:\n",
            "  Would remove:\n",
            "    /usr/local/bin/huggingface-cli\n",
            "    /usr/local/lib/python3.10/dist-packages/huggingface_hub-0.27.0.dist-info/*\n",
            "    /usr/local/lib/python3.10/dist-packages/huggingface_hub/*\n",
            "Proceed (Y/n)? Y\n",
            "  Successfully uninstalled huggingface-hub-0.27.0\n"
          ]
        }
      ]
    },
    {
      "cell_type": "code",
      "source": [
        "pip install -q huggingface_hub==0.24.7"
      ],
      "metadata": {
        "colab": {
          "base_uri": "https://localhost:8080/"
        },
        "id": "1_8AfvTA1hOT",
        "outputId": "d367b186-1471-4db4-f5fa-6c6a3253db4d"
      },
      "execution_count": null,
      "outputs": [
        {
          "output_type": "stream",
          "name": "stdout",
          "text": [
            "\u001b[33mWARNING: Ignoring invalid distribution -ransformers (/usr/local/lib/python3.10/dist-packages)\u001b[0m\u001b[33m\n",
            "\u001b[0m\u001b[33mWARNING: Ignoring invalid distribution -ransformers (/usr/local/lib/python3.10/dist-packages)\u001b[0m\u001b[33m\n",
            "\u001b[0m\u001b[31mERROR: pip's dependency resolver does not currently take into account all the packages that are installed. This behaviour is the source of the following dependency conflicts.\n",
            "gradio 5.9.1 requires huggingface-hub>=0.25.1, but you have huggingface-hub 0.24.7 which is incompatible.\n",
            "sentence-transformers 3.2.1 requires transformers<5.0.0,>=4.41.0, but you have transformers 4.39.2 which is incompatible.\u001b[0m\u001b[31m\n",
            "\u001b[0m"
          ]
        }
      ]
    },
    {
      "cell_type": "code",
      "source": [
        "pip show huggingface_hub"
      ],
      "metadata": {
        "colab": {
          "base_uri": "https://localhost:8080/"
        },
        "id": "WnqoYWsd1hQ6",
        "outputId": "277582bd-f73d-4cb5-bc18-7184d3083231"
      },
      "execution_count": null,
      "outputs": [
        {
          "output_type": "stream",
          "name": "stdout",
          "text": [
            "\u001b[33mWARNING: Ignoring invalid distribution -ransformers (/usr/local/lib/python3.10/dist-packages)\u001b[0m\u001b[33m\n",
            "\u001b[0mName: huggingface-hub\n",
            "Version: 0.24.7\n",
            "Summary: Client library to download and publish models, datasets and other repos on the huggingface.co hub\n",
            "Home-page: https://github.com/huggingface/huggingface_hub\n",
            "Author: Hugging Face, Inc.\n",
            "Author-email: julien@huggingface.co\n",
            "License: Apache\n",
            "Location: /usr/local/lib/python3.10/dist-packages\n",
            "Requires: filelock, fsspec, packaging, pyyaml, requests, tqdm, typing-extensions\n",
            "Required-by: accelerate, diffusers, gradio, gradio_client, peft, sentence-transformers, timm, tokenizers, transformers\n"
          ]
        }
      ]
    },
    {
      "cell_type": "code",
      "source": [
        "import sys\n",
        "sys.path.append('/content/drive/MyDrive/Lip-Sync/MuseTalk')\n"
      ],
      "metadata": {
        "id": "mU71nF1p1hTJ"
      },
      "execution_count": null,
      "outputs": []
    },
    {
      "cell_type": "code",
      "source": [
        "%cd /content/drive/MyDrive/Lip-Sync/MuseTalk"
      ],
      "metadata": {
        "id": "VQw2qv2fZYAI",
        "colab": {
          "base_uri": "https://localhost:8080/"
        },
        "outputId": "456acbb8-f4ed-4650-9909-83527b809796"
      },
      "execution_count": null,
      "outputs": [
        {
          "output_type": "stream",
          "name": "stdout",
          "text": [
            "/content/drive/MyDrive/Lip-Sync/MuseTalk\n"
          ]
        }
      ]
    },
    {
      "cell_type": "code",
      "source": [
        "ls"
      ],
      "metadata": {
        "id": "YT6YmZpRZz0x",
        "colab": {
          "base_uri": "https://localhost:8080/"
        },
        "outputId": "dc4d195e-6503-42ca-b5ab-9e1d8034ad53"
      },
      "execution_count": null,
      "outputs": [
        {
          "output_type": "stream",
          "name": "stdout",
          "text": [
            "app.py    entrypoint.sh                       \u001b[0m\u001b[01;34mmusetalk\u001b[0m/         \u001b[01;34mscripts\u001b[0m/\n",
            "\u001b[01;34massets\u001b[0m/   \u001b[01;34mffmpeg-7.0.2-amd64-static\u001b[0m/          README.md\n",
            "\u001b[01;34mconfigs\u001b[0m/  ffmpeg-release-amd64-static.tar.xz  requirements.txt\n",
            "\u001b[01;34mdata\u001b[0m/     LICENSE                             \u001b[01;34mresults\u001b[0m/\n"
          ]
        }
      ]
    },
    {
      "cell_type": "code",
      "source": [
        "!wget https://johnvansickle.com/ffmpeg/releases/ffmpeg-release-amd64-static.tar.xz\n",
        "!tar -xvf ffmpeg-release-amd64-static.tar.xz"
      ],
      "metadata": {
        "id": "LI4Gp2qpbJNR",
        "colab": {
          "base_uri": "https://localhost:8080/"
        },
        "outputId": "bcb66df1-1440-4df6-d1eb-08b23bbbce02"
      },
      "execution_count": null,
      "outputs": [
        {
          "output_type": "stream",
          "name": "stdout",
          "text": [
            "--2024-12-17 05:35:54--  https://johnvansickle.com/ffmpeg/releases/ffmpeg-release-amd64-static.tar.xz\n",
            "Resolving johnvansickle.com (johnvansickle.com)... 107.180.57.212\n",
            "Connecting to johnvansickle.com (johnvansickle.com)|107.180.57.212|:443... connected.\n",
            "HTTP request sent, awaiting response... 200 OK\n",
            "Length: 41888096 (40M) [application/x-xz]\n",
            "Saving to: ‘ffmpeg-release-amd64-static.tar.xz’\n",
            "\n",
            "ffmpeg-release-amd6 100%[===================>]  39.95M  46.4MB/s    in 0.9s    \n",
            "\n",
            "2024-12-17 05:35:55 (46.4 MB/s) - ‘ffmpeg-release-amd64-static.tar.xz’ saved [41888096/41888096]\n",
            "\n",
            "ffmpeg-7.0.2-amd64-static/\n",
            "ffmpeg-7.0.2-amd64-static/GPLv3.txt\n",
            "ffmpeg-7.0.2-amd64-static/manpages/\n",
            "ffmpeg-7.0.2-amd64-static/manpages/ffmpeg-all.txt\n",
            "ffmpeg-7.0.2-amd64-static/manpages/ffmpeg-scaler.txt\n",
            "ffmpeg-7.0.2-amd64-static/manpages/ffmpeg-resampler.txt\n",
            "ffmpeg-7.0.2-amd64-static/manpages/ffmpeg-filters.txt\n",
            "ffmpeg-7.0.2-amd64-static/manpages/ffprobe.txt\n",
            "ffmpeg-7.0.2-amd64-static/manpages/ffmpeg-devices.txt\n",
            "ffmpeg-7.0.2-amd64-static/manpages/ffmpeg-utils.txt\n",
            "ffmpeg-7.0.2-amd64-static/manpages/ffmpeg-protocols.txt\n",
            "ffmpeg-7.0.2-amd64-static/manpages/ffmpeg-codecs.txt\n",
            "ffmpeg-7.0.2-amd64-static/manpages/ffmpeg-bitstream-filters.txt\n",
            "ffmpeg-7.0.2-amd64-static/manpages/ffmpeg.txt\n",
            "ffmpeg-7.0.2-amd64-static/manpages/ffmpeg-formats.txt\n",
            "ffmpeg-7.0.2-amd64-static/ffprobe\n",
            "ffmpeg-7.0.2-amd64-static/qt-faststart\n",
            "ffmpeg-7.0.2-amd64-static/model/\n",
            "ffmpeg-7.0.2-amd64-static/model/vmaf_4k_v0.6.1.json\n",
            "ffmpeg-7.0.2-amd64-static/model/vmaf_rb_v0.6.3/\n",
            "ffmpeg-7.0.2-amd64-static/model/vmaf_rb_v0.6.3/vmaf_rb_v0.6.3.pkl.0020.model\n",
            "ffmpeg-7.0.2-amd64-static/model/vmaf_rb_v0.6.3/vmaf_rb_v0.6.3.pkl.0005\n",
            "ffmpeg-7.0.2-amd64-static/model/vmaf_rb_v0.6.3/vmaf_rb_v0.6.3.pkl.0015\n",
            "ffmpeg-7.0.2-amd64-static/model/vmaf_rb_v0.6.3/vmaf_rb_v0.6.3.pkl.0016.model\n",
            "ffmpeg-7.0.2-amd64-static/model/vmaf_rb_v0.6.3/vmaf_rb_v0.6.3.pkl.model\n",
            "ffmpeg-7.0.2-amd64-static/model/vmaf_rb_v0.6.3/vmaf_rb_v0.6.3.pkl.0008.model\n",
            "ffmpeg-7.0.2-amd64-static/model/vmaf_rb_v0.6.3/vmaf_rb_v0.6.3.pkl.0020\n",
            "ffmpeg-7.0.2-amd64-static/model/vmaf_rb_v0.6.3/vmaf_rb_v0.6.3.pkl.0017.model\n",
            "ffmpeg-7.0.2-amd64-static/model/vmaf_rb_v0.6.3/vmaf_rb_v0.6.3.pkl.0014\n",
            "ffmpeg-7.0.2-amd64-static/model/vmaf_rb_v0.6.3/vmaf_rb_v0.6.3.pkl.0011\n",
            "ffmpeg-7.0.2-amd64-static/model/vmaf_rb_v0.6.3/vmaf_rb_v0.6.3.pkl.0012\n",
            "ffmpeg-7.0.2-amd64-static/model/vmaf_rb_v0.6.3/vmaf_rb_v0.6.3.pkl.0004\n",
            "ffmpeg-7.0.2-amd64-static/model/vmaf_rb_v0.6.3/vmaf_rb_v0.6.3.pkl.0005.model\n",
            "ffmpeg-7.0.2-amd64-static/model/vmaf_rb_v0.6.3/vmaf_rb_v0.6.3.pkl.0013.model\n",
            "ffmpeg-7.0.2-amd64-static/model/vmaf_rb_v0.6.3/vmaf_rb_v0.6.3.pkl.0007.model\n",
            "ffmpeg-7.0.2-amd64-static/model/vmaf_rb_v0.6.3/vmaf_rb_v0.6.3.pkl.0001\n",
            "ffmpeg-7.0.2-amd64-static/model/vmaf_rb_v0.6.3/vmaf_rb_v0.6.3.pkl.0009\n",
            "ffmpeg-7.0.2-amd64-static/model/vmaf_rb_v0.6.3/vmaf_rb_v0.6.3.pkl.0009.model\n",
            "ffmpeg-7.0.2-amd64-static/model/vmaf_rb_v0.6.3/vmaf_rb_v0.6.3.pkl.0004.model\n",
            "ffmpeg-7.0.2-amd64-static/model/vmaf_rb_v0.6.3/vmaf_rb_v0.6.3.pkl.0019.model\n",
            "ffmpeg-7.0.2-amd64-static/model/vmaf_rb_v0.6.3/vmaf_rb_v0.6.3.pkl.0007\n",
            "ffmpeg-7.0.2-amd64-static/model/vmaf_rb_v0.6.3/vmaf_rb_v0.6.3.pkl.0006\n",
            "ffmpeg-7.0.2-amd64-static/model/vmaf_rb_v0.6.3/vmaf_rb_v0.6.3.pkl.0017\n",
            "ffmpeg-7.0.2-amd64-static/model/vmaf_rb_v0.6.3/vmaf_rb_v0.6.3.pkl.0011.model\n",
            "ffmpeg-7.0.2-amd64-static/model/vmaf_rb_v0.6.3/vmaf_rb_v0.6.3.pkl.0008\n",
            "ffmpeg-7.0.2-amd64-static/model/vmaf_rb_v0.6.3/vmaf_rb_v0.6.3.pkl.0010\n",
            "ffmpeg-7.0.2-amd64-static/model/vmaf_rb_v0.6.3/vmaf_rb_v0.6.3.pkl.0018\n",
            "ffmpeg-7.0.2-amd64-static/model/vmaf_rb_v0.6.3/vmaf_rb_v0.6.3.pkl.0002.model\n",
            "ffmpeg-7.0.2-amd64-static/model/vmaf_rb_v0.6.3/vmaf_rb_v0.6.3.pkl.0012.model\n",
            "ffmpeg-7.0.2-amd64-static/model/vmaf_rb_v0.6.3/vmaf_rb_v0.6.3.pkl\n",
            "ffmpeg-7.0.2-amd64-static/model/vmaf_rb_v0.6.3/vmaf_rb_v0.6.3.pkl.0003.model\n",
            "ffmpeg-7.0.2-amd64-static/model/vmaf_rb_v0.6.3/vmaf_rb_v0.6.3.pkl.0019\n",
            "ffmpeg-7.0.2-amd64-static/model/vmaf_rb_v0.6.3/vmaf_rb_v0.6.3.pkl.0014.model\n",
            "ffmpeg-7.0.2-amd64-static/model/vmaf_rb_v0.6.3/vmaf_rb_v0.6.3.pkl.0018.model\n",
            "ffmpeg-7.0.2-amd64-static/model/vmaf_rb_v0.6.3/vmaf_rb_v0.6.3.json\n",
            "ffmpeg-7.0.2-amd64-static/model/vmaf_rb_v0.6.3/vmaf_rb_v0.6.3.pkl.0016\n",
            "ffmpeg-7.0.2-amd64-static/model/vmaf_rb_v0.6.3/vmaf_rb_v0.6.3.pkl.0010.model\n",
            "ffmpeg-7.0.2-amd64-static/model/vmaf_rb_v0.6.3/vmaf_rb_v0.6.3.pkl.0001.model\n",
            "ffmpeg-7.0.2-amd64-static/model/vmaf_rb_v0.6.3/vmaf_rb_v0.6.3.pkl.0003\n",
            "ffmpeg-7.0.2-amd64-static/model/vmaf_rb_v0.6.3/vmaf_rb_v0.6.3.pkl.0015.model\n",
            "ffmpeg-7.0.2-amd64-static/model/vmaf_rb_v0.6.3/vmaf_rb_v0.6.3.pkl.0013\n",
            "ffmpeg-7.0.2-amd64-static/model/vmaf_rb_v0.6.3/vmaf_rb_v0.6.3.pkl.0006.model\n",
            "ffmpeg-7.0.2-amd64-static/model/vmaf_rb_v0.6.3/vmaf_rb_v0.6.3.pkl.0002\n",
            "ffmpeg-7.0.2-amd64-static/model/vmaf_v0.6.1.json\n",
            "ffmpeg-7.0.2-amd64-static/model/vmaf_rb_v0.6.2/\n",
            "ffmpeg-7.0.2-amd64-static/model/vmaf_rb_v0.6.2/vmaf_rb_v0.6.2.pkl.0019.model\n",
            "ffmpeg-7.0.2-amd64-static/model/vmaf_rb_v0.6.2/vmaf_rb_v0.6.2.pkl.0005.model\n",
            "ffmpeg-7.0.2-amd64-static/model/vmaf_rb_v0.6.2/vmaf_rb_v0.6.2.pkl.0004\n",
            "ffmpeg-7.0.2-amd64-static/model/vmaf_rb_v0.6.2/vmaf_rb_v0.6.2.pkl.0015\n",
            "ffmpeg-7.0.2-amd64-static/model/vmaf_rb_v0.6.2/vmaf_rb_v0.6.2.pkl.0010.model\n",
            "ffmpeg-7.0.2-amd64-static/model/vmaf_rb_v0.6.2/vmaf_rb_v0.6.2.pkl\n",
            "ffmpeg-7.0.2-amd64-static/model/vmaf_rb_v0.6.2/vmaf_rb_v0.6.2.pkl.0012.model\n",
            "ffmpeg-7.0.2-amd64-static/model/vmaf_rb_v0.6.2/vmaf_rb_v0.6.2.pkl.0005\n",
            "ffmpeg-7.0.2-amd64-static/model/vmaf_rb_v0.6.2/vmaf_rb_v0.6.2.pkl.0008.model\n",
            "ffmpeg-7.0.2-amd64-static/model/vmaf_rb_v0.6.2/vmaf_rb_v0.6.2.pkl.0009\n",
            "ffmpeg-7.0.2-amd64-static/model/vmaf_rb_v0.6.2/vmaf_rb_v0.6.2.pkl.0018\n",
            "ffmpeg-7.0.2-amd64-static/model/vmaf_rb_v0.6.2/vmaf_rb_v0.6.2.pkl.0015.model\n",
            "ffmpeg-7.0.2-amd64-static/model/vmaf_rb_v0.6.2/vmaf_rb_v0.6.2.pkl.0011\n",
            "ffmpeg-7.0.2-amd64-static/model/vmaf_rb_v0.6.2/vmaf_rb_v0.6.2.pkl.0014.model\n",
            "ffmpeg-7.0.2-amd64-static/model/vmaf_rb_v0.6.2/vmaf_rb_v0.6.2.pkl.0012\n",
            "ffmpeg-7.0.2-amd64-static/model/vmaf_rb_v0.6.2/vmaf_rb_v0.6.2.pkl.0003.model\n",
            "ffmpeg-7.0.2-amd64-static/model/vmaf_rb_v0.6.2/vmaf_rb_v0.6.2.pkl.0006.model\n",
            "ffmpeg-7.0.2-amd64-static/model/vmaf_rb_v0.6.2/vmaf_rb_v0.6.2.pkl.0013.model\n",
            "ffmpeg-7.0.2-amd64-static/model/vmaf_rb_v0.6.2/vmaf_rb_v0.6.2.pkl.0001\n",
            "ffmpeg-7.0.2-amd64-static/model/vmaf_rb_v0.6.2/vmaf_rb_v0.6.2.pkl.0011.model\n",
            "ffmpeg-7.0.2-amd64-static/model/vmaf_rb_v0.6.2/vmaf_rb_v0.6.2.pkl.0007\n",
            "ffmpeg-7.0.2-amd64-static/model/vmaf_rb_v0.6.2/vmaf_rb_v0.6.2.pkl.0006\n",
            "ffmpeg-7.0.2-amd64-static/model/vmaf_rb_v0.6.2/vmaf_rb_v0.6.2.pkl.model\n",
            "ffmpeg-7.0.2-amd64-static/model/vmaf_rb_v0.6.2/vmaf_rb_v0.6.2.pkl.0017\n",
            "ffmpeg-7.0.2-amd64-static/model/vmaf_rb_v0.6.2/vmaf_rb_v0.6.2.pkl.0008\n",
            "ffmpeg-7.0.2-amd64-static/model/vmaf_rb_v0.6.2/vmaf_rb_v0.6.2.pkl.0003\n",
            "ffmpeg-7.0.2-amd64-static/model/vmaf_rb_v0.6.2/vmaf_rb_v0.6.2.pkl.0002\n",
            "ffmpeg-7.0.2-amd64-static/model/vmaf_rb_v0.6.2/vmaf_rb_v0.6.2.pkl.0004.model\n",
            "ffmpeg-7.0.2-amd64-static/model/vmaf_rb_v0.6.2/vmaf_rb_v0.6.2.pkl.0001.model\n",
            "ffmpeg-7.0.2-amd64-static/model/vmaf_rb_v0.6.2/vmaf_rb_v0.6.2.pkl.0018.model\n",
            "ffmpeg-7.0.2-amd64-static/model/vmaf_rb_v0.6.2/vmaf_rb_v0.6.2.pkl.0002.model\n",
            "ffmpeg-7.0.2-amd64-static/model/vmaf_rb_v0.6.2/vmaf_rb_v0.6.2.json\n",
            "ffmpeg-7.0.2-amd64-static/model/vmaf_rb_v0.6.2/vmaf_rb_v0.6.2.pkl.0014\n",
            "ffmpeg-7.0.2-amd64-static/model/vmaf_rb_v0.6.2/vmaf_rb_v0.6.2.pkl.0017.model\n",
            "ffmpeg-7.0.2-amd64-static/model/vmaf_rb_v0.6.2/vmaf_rb_v0.6.2.pkl.0019\n",
            "ffmpeg-7.0.2-amd64-static/model/vmaf_rb_v0.6.2/vmaf_rb_v0.6.2.pkl.0009.model\n",
            "ffmpeg-7.0.2-amd64-static/model/vmaf_rb_v0.6.2/vmaf_rb_v0.6.2.pkl.0013\n",
            "ffmpeg-7.0.2-amd64-static/model/vmaf_rb_v0.6.2/vmaf_rb_v0.6.2.pkl.0007.model\n",
            "ffmpeg-7.0.2-amd64-static/model/vmaf_rb_v0.6.2/vmaf_rb_v0.6.2.pkl.0016.model\n",
            "ffmpeg-7.0.2-amd64-static/model/vmaf_rb_v0.6.2/vmaf_rb_v0.6.2.pkl.0010\n",
            "ffmpeg-7.0.2-amd64-static/model/vmaf_rb_v0.6.2/vmaf_rb_v0.6.2.pkl.0016\n",
            "ffmpeg-7.0.2-amd64-static/model/vmaf_float_v0.6.1.pkl\n",
            "ffmpeg-7.0.2-amd64-static/model/vmaf_float_v0.6.1neg.pkl.model\n",
            "ffmpeg-7.0.2-amd64-static/model/vmaf_float_b_v0.6.3.json\n",
            "ffmpeg-7.0.2-amd64-static/model/vmaf_v0.6.1neg.json\n",
            "ffmpeg-7.0.2-amd64-static/model/000-PLEASE-README.TXT\n",
            "ffmpeg-7.0.2-amd64-static/model/vmaf_float_4k_v0.6.1.json\n",
            "ffmpeg-7.0.2-amd64-static/model/vmaf_4k_rb_v0.6.2/\n",
            "ffmpeg-7.0.2-amd64-static/model/vmaf_4k_rb_v0.6.2/vmaf_4k_rb_v0.6.2.pkl.0008.model\n",
            "ffmpeg-7.0.2-amd64-static/model/vmaf_4k_rb_v0.6.2/vmaf_4k_rb_v0.6.2.pkl.0012\n",
            "ffmpeg-7.0.2-amd64-static/model/vmaf_4k_rb_v0.6.2/vmaf_4k_rb_v0.6.2.pkl.0002.model\n",
            "ffmpeg-7.0.2-amd64-static/model/vmaf_4k_rb_v0.6.2/vmaf_4k_rb_v0.6.2.pkl.0007.model\n",
            "ffmpeg-7.0.2-amd64-static/model/vmaf_4k_rb_v0.6.2/vmaf_4k_rb_v0.6.2.pkl.0011.model\n",
            "ffmpeg-7.0.2-amd64-static/model/vmaf_4k_rb_v0.6.2/vmaf_4k_rb_v0.6.2.pkl.0019\n",
            "ffmpeg-7.0.2-amd64-static/model/vmaf_4k_rb_v0.6.2/vmaf_4k_rb_v0.6.2.pkl.0017.model\n",
            "ffmpeg-7.0.2-amd64-static/model/vmaf_4k_rb_v0.6.2/vmaf_4k_rb_v0.6.2.pkl.0017\n",
            "ffmpeg-7.0.2-amd64-static/model/vmaf_4k_rb_v0.6.2/vmaf_4k_rb_v0.6.2.pkl.0009\n",
            "ffmpeg-7.0.2-amd64-static/model/vmaf_4k_rb_v0.6.2/vmaf_4k_rb_v0.6.2.pkl.0010\n",
            "ffmpeg-7.0.2-amd64-static/model/vmaf_4k_rb_v0.6.2/vmaf_4k_rb_v0.6.2.pkl.0005.model\n",
            "ffmpeg-7.0.2-amd64-static/model/vmaf_4k_rb_v0.6.2/vmaf_4k_rb_v0.6.2.pkl.0009.model\n",
            "ffmpeg-7.0.2-amd64-static/model/vmaf_4k_rb_v0.6.2/vmaf_4k_rb_v0.6.2.pkl.0013\n",
            "ffmpeg-7.0.2-amd64-static/model/vmaf_4k_rb_v0.6.2/vmaf_4k_rb_v0.6.2.pkl.0018\n",
            "ffmpeg-7.0.2-amd64-static/model/vmaf_4k_rb_v0.6.2/vmaf_4k_rb_v0.6.2.pkl.0013.model\n",
            "ffmpeg-7.0.2-amd64-static/model/vmaf_4k_rb_v0.6.2/vmaf_4k_rb_v0.6.2.pkl.0014\n",
            "ffmpeg-7.0.2-amd64-static/model/vmaf_4k_rb_v0.6.2/vmaf_4k_rb_v0.6.2.pkl.0004\n",
            "ffmpeg-7.0.2-amd64-static/model/vmaf_4k_rb_v0.6.2/vmaf_4k_rb_v0.6.2.pkl.0006.model\n",
            "ffmpeg-7.0.2-amd64-static/model/vmaf_4k_rb_v0.6.2/vmaf_4k_rb_v0.6.2.pkl.0005\n",
            "ffmpeg-7.0.2-amd64-static/model/vmaf_4k_rb_v0.6.2/vmaf_4k_rb_v0.6.2.pkl.0007\n",
            "ffmpeg-7.0.2-amd64-static/model/vmaf_4k_rb_v0.6.2/vmaf_4k_rb_v0.6.2.pkl.0019.model\n",
            "ffmpeg-7.0.2-amd64-static/model/vmaf_4k_rb_v0.6.2/vmaf_4k_rb_v0.6.2.pkl.0015.model\n",
            "ffmpeg-7.0.2-amd64-static/model/vmaf_4k_rb_v0.6.2/vmaf_4k_rb_v0.6.2.pkl.0010.model\n",
            "ffmpeg-7.0.2-amd64-static/model/vmaf_4k_rb_v0.6.2/vmaf_4k_rb_v0.6.2.pkl.0008\n",
            "ffmpeg-7.0.2-amd64-static/model/vmaf_4k_rb_v0.6.2/vmaf_4k_rb_v0.6.2.pkl.0004.model\n",
            "ffmpeg-7.0.2-amd64-static/model/vmaf_4k_rb_v0.6.2/vmaf_4k_rb_v0.6.2.json\n",
            "ffmpeg-7.0.2-amd64-static/model/vmaf_4k_rb_v0.6.2/vmaf_4k_rb_v0.6.2.pkl\n",
            "ffmpeg-7.0.2-amd64-static/model/vmaf_4k_rb_v0.6.2/vmaf_4k_rb_v0.6.2.pkl.0006\n",
            "ffmpeg-7.0.2-amd64-static/model/vmaf_4k_rb_v0.6.2/vmaf_4k_rb_v0.6.2.pkl.0001.model\n",
            "ffmpeg-7.0.2-amd64-static/model/vmaf_4k_rb_v0.6.2/vmaf_4k_rb_v0.6.2.pkl.0016.model\n",
            "ffmpeg-7.0.2-amd64-static/model/vmaf_4k_rb_v0.6.2/vmaf_4k_rb_v0.6.2.pkl.model\n",
            "ffmpeg-7.0.2-amd64-static/model/vmaf_4k_rb_v0.6.2/vmaf_4k_rb_v0.6.2.pkl.0015\n",
            "ffmpeg-7.0.2-amd64-static/model/vmaf_4k_rb_v0.6.2/vmaf_4k_rb_v0.6.2.pkl.0003.model\n",
            "ffmpeg-7.0.2-amd64-static/model/vmaf_4k_rb_v0.6.2/vmaf_4k_rb_v0.6.2.pkl.0011\n",
            "ffmpeg-7.0.2-amd64-static/model/vmaf_4k_rb_v0.6.2/vmaf_4k_rb_v0.6.2.pkl.0016\n",
            "ffmpeg-7.0.2-amd64-static/model/vmaf_4k_rb_v0.6.2/vmaf_4k_rb_v0.6.2.pkl.0003\n",
            "ffmpeg-7.0.2-amd64-static/model/vmaf_4k_rb_v0.6.2/vmaf_4k_rb_v0.6.2.pkl.0014.model\n",
            "ffmpeg-7.0.2-amd64-static/model/vmaf_4k_rb_v0.6.2/vmaf_4k_rb_v0.6.2.pkl.0018.model\n",
            "ffmpeg-7.0.2-amd64-static/model/vmaf_4k_rb_v0.6.2/vmaf_4k_rb_v0.6.2.pkl.0001\n",
            "ffmpeg-7.0.2-amd64-static/model/vmaf_4k_rb_v0.6.2/vmaf_4k_rb_v0.6.2.pkl.0002\n",
            "ffmpeg-7.0.2-amd64-static/model/vmaf_4k_rb_v0.6.2/vmaf_4k_rb_v0.6.2.pkl.0012.model\n",
            "ffmpeg-7.0.2-amd64-static/model/vmaf_float_v0.6.1neg.json\n",
            "ffmpeg-7.0.2-amd64-static/model/vmaf_float_v0.6.1neg.pkl\n",
            "ffmpeg-7.0.2-amd64-static/model/vmaf_b_v0.6.3.json\n",
            "ffmpeg-7.0.2-amd64-static/model/vmaf_float_b_v0.6.3/\n",
            "ffmpeg-7.0.2-amd64-static/model/vmaf_float_b_v0.6.3/vmaf_float_b_v0.6.3.pkl.0003\n",
            "ffmpeg-7.0.2-amd64-static/model/vmaf_float_b_v0.6.3/vmaf_float_b_v0.6.3.pkl.0015.model\n",
            "ffmpeg-7.0.2-amd64-static/model/vmaf_float_b_v0.6.3/vmaf_float_b_v0.6.3.pkl.0001.model\n",
            "ffmpeg-7.0.2-amd64-static/model/vmaf_float_b_v0.6.3/vmaf_float_b_v0.6.3.pkl\n",
            "ffmpeg-7.0.2-amd64-static/model/vmaf_float_b_v0.6.3/vmaf_float_b_v0.6.3.pkl.0012\n",
            "ffmpeg-7.0.2-amd64-static/model/vmaf_float_b_v0.6.3/vmaf_float_b_v0.6.3.pkl.0019.model\n",
            "ffmpeg-7.0.2-amd64-static/model/vmaf_float_b_v0.6.3/vmaf_float_b_v0.6.3.pkl.0017\n",
            "ffmpeg-7.0.2-amd64-static/model/vmaf_float_b_v0.6.3/vmaf_float_b_v0.6.3.pkl.0012.model\n",
            "ffmpeg-7.0.2-amd64-static/model/vmaf_float_b_v0.6.3/vmaf_float_b_v0.6.3.pkl.0003.model\n",
            "ffmpeg-7.0.2-amd64-static/model/vmaf_float_b_v0.6.3/vmaf_float_b_v0.6.3.pkl.0009.model\n",
            "ffmpeg-7.0.2-amd64-static/model/vmaf_float_b_v0.6.3/vmaf_float_b_v0.6.3.pkl.0016\n",
            "ffmpeg-7.0.2-amd64-static/model/vmaf_float_b_v0.6.3/vmaf_float_b_v0.6.3.pkl.0008.model\n",
            "ffmpeg-7.0.2-amd64-static/model/vmaf_float_b_v0.6.3/vmaf_float_b_v0.6.3.pkl.0015\n",
            "ffmpeg-7.0.2-amd64-static/model/vmaf_float_b_v0.6.3/vmaf_float_b_v0.6.3.pkl.0006\n",
            "ffmpeg-7.0.2-amd64-static/model/vmaf_float_b_v0.6.3/vmaf_float_b_v0.6.3.pkl.0009\n",
            "ffmpeg-7.0.2-amd64-static/model/vmaf_float_b_v0.6.3/vmaf_float_b_v0.6.3.pkl.0004.model\n",
            "ffmpeg-7.0.2-amd64-static/model/vmaf_float_b_v0.6.3/vmaf_float_b_v0.6.3.pkl.0017.model\n",
            "ffmpeg-7.0.2-amd64-static/model/vmaf_float_b_v0.6.3/vmaf_float_b_v0.6.3.json\n",
            "ffmpeg-7.0.2-amd64-static/model/vmaf_float_b_v0.6.3/vmaf_float_b_v0.6.3.pkl.0008\n",
            "ffmpeg-7.0.2-amd64-static/model/vmaf_float_b_v0.6.3/vmaf_float_b_v0.6.3.pkl.0001\n",
            "ffmpeg-7.0.2-amd64-static/model/vmaf_float_b_v0.6.3/vmaf_float_b_v0.6.3.pkl.0011\n",
            "ffmpeg-7.0.2-amd64-static/model/vmaf_float_b_v0.6.3/vmaf_float_b_v0.6.3.pkl.0004\n",
            "ffmpeg-7.0.2-amd64-static/model/vmaf_float_b_v0.6.3/vmaf_float_b_v0.6.3.pkl.0002.model\n",
            "ffmpeg-7.0.2-amd64-static/model/vmaf_float_b_v0.6.3/vmaf_float_b_v0.6.3.pkl.0005\n",
            "ffmpeg-7.0.2-amd64-static/model/vmaf_float_b_v0.6.3/vmaf_float_b_v0.6.3.pkl.0014\n",
            "ffmpeg-7.0.2-amd64-static/model/vmaf_float_b_v0.6.3/vmaf_float_b_v0.6.3.pkl.0014.model\n",
            "ffmpeg-7.0.2-amd64-static/model/vmaf_float_b_v0.6.3/vmaf_float_b_v0.6.3.pkl.0007.model\n",
            "ffmpeg-7.0.2-amd64-static/model/vmaf_float_b_v0.6.3/vmaf_float_b_v0.6.3.pkl.model\n",
            "ffmpeg-7.0.2-amd64-static/model/vmaf_float_b_v0.6.3/vmaf_float_b_v0.6.3.pkl.0002\n",
            "ffmpeg-7.0.2-amd64-static/model/vmaf_float_b_v0.6.3/vmaf_float_b_v0.6.3.pkl.0020.model\n",
            "ffmpeg-7.0.2-amd64-static/model/vmaf_float_b_v0.6.3/vmaf_float_b_v0.6.3.pkl.0007\n",
            "ffmpeg-7.0.2-amd64-static/model/vmaf_float_b_v0.6.3/vmaf_float_b_v0.6.3.pkl.0018.model\n",
            "ffmpeg-7.0.2-amd64-static/model/vmaf_float_b_v0.6.3/vmaf_float_b_v0.6.3.pkl.0020\n",
            "ffmpeg-7.0.2-amd64-static/model/vmaf_float_b_v0.6.3/vmaf_float_b_v0.6.3.pkl.0010\n",
            "ffmpeg-7.0.2-amd64-static/model/vmaf_float_b_v0.6.3/vmaf_float_b_v0.6.3.pkl.0013.model\n",
            "ffmpeg-7.0.2-amd64-static/model/vmaf_float_b_v0.6.3/vmaf_float_b_v0.6.3.pkl.0011.model\n",
            "ffmpeg-7.0.2-amd64-static/model/vmaf_float_b_v0.6.3/vmaf_float_b_v0.6.3.pkl.0016.model\n",
            "ffmpeg-7.0.2-amd64-static/model/vmaf_float_b_v0.6.3/vmaf_float_b_v0.6.3.pkl.0010.model\n",
            "ffmpeg-7.0.2-amd64-static/model/vmaf_float_b_v0.6.3/vmaf_float_b_v0.6.3.pkl.0006.model\n",
            "ffmpeg-7.0.2-amd64-static/model/vmaf_float_b_v0.6.3/vmaf_float_b_v0.6.3.pkl.0019\n",
            "ffmpeg-7.0.2-amd64-static/model/vmaf_float_b_v0.6.3/vmaf_float_b_v0.6.3.pkl.0013\n",
            "ffmpeg-7.0.2-amd64-static/model/vmaf_float_b_v0.6.3/vmaf_float_b_v0.6.3.pkl.0018\n",
            "ffmpeg-7.0.2-amd64-static/model/vmaf_float_b_v0.6.3/vmaf_float_b_v0.6.3.pkl.0005.model\n",
            "ffmpeg-7.0.2-amd64-static/model/vmaf_float_v0.6.1.json\n",
            "ffmpeg-7.0.2-amd64-static/model/other_models/\n",
            "ffmpeg-7.0.2-amd64-static/model/other_models/nflxall_vmafv2.pkl.model\n",
            "ffmpeg-7.0.2-amd64-static/model/other_models/vmaf_v0.6.0.pkl\n",
            "ffmpeg-7.0.2-amd64-static/model/other_models/nflx_vmaff_rf_v2.pkl\n",
            "ffmpeg-7.0.2-amd64-static/model/other_models/vmaf_v0.6.0.json\n",
            "ffmpeg-7.0.2-amd64-static/model/other_models/nflxtrain_vmafv2.pkl\n",
            "ffmpeg-7.0.2-amd64-static/model/other_models/nflxtrain_vmafv3.pkl\n",
            "ffmpeg-7.0.2-amd64-static/model/other_models/niqe_v0.1.pkl\n",
            "ffmpeg-7.0.2-amd64-static/model/other_models/nflxtrain_libsvmnusvr_currentbest.pkl.model\n",
            "ffmpeg-7.0.2-amd64-static/model/other_models/nflxall_vmafv3.pkl.model\n",
            "ffmpeg-7.0.2-amd64-static/model/other_models/nflxall_vmafv1.pkl\n",
            "ffmpeg-7.0.2-amd64-static/model/other_models/nflx_v1.pkl\n",
            "ffmpeg-7.0.2-amd64-static/model/other_models/vmaf_4k_v0.6.1rc.pkl\n",
            "ffmpeg-7.0.2-amd64-static/model/other_models/nflxall_vmafv4.pkl\n",
            "ffmpeg-7.0.2-amd64-static/model/other_models/vmaf_4k_v0.6.1rc.pkl.model\n",
            "ffmpeg-7.0.2-amd64-static/model/other_models/nflx_v1.pkl.model\n",
            "ffmpeg-7.0.2-amd64-static/model/other_models/nflxtrain_vmafv1.pkl.model\n",
            "ffmpeg-7.0.2-amd64-static/model/other_models/nflxall_vmafv4.pkl.model\n",
            "ffmpeg-7.0.2-amd64-static/model/other_models/nflx_v1.json\n",
            "ffmpeg-7.0.2-amd64-static/model/other_models/nflxtrain_vmafv1.pkl\n",
            "ffmpeg-7.0.2-amd64-static/model/other_models/nflxall_libsvmnusvr_currentbest.pkl.model\n",
            "ffmpeg-7.0.2-amd64-static/model/other_models/nflxtrain_vmafv3a.pkl\n",
            "ffmpeg-7.0.2-amd64-static/model/other_models/nflxtrain_vmafv3.pkl.model\n",
            "ffmpeg-7.0.2-amd64-static/model/other_models/nflxtrain_norm_type_none.pkl\n",
            "ffmpeg-7.0.2-amd64-static/model/other_models/vmaf_v0.6.0.pkl.model\n",
            "ffmpeg-7.0.2-amd64-static/model/other_models/vmaf_v0.6.1mfz.json\n",
            "ffmpeg-7.0.2-amd64-static/model/other_models/nflxall_vmafv3a.pkl\n",
            "ffmpeg-7.0.2-amd64-static/model/other_models/nflxall_vmafv1.pkl.model\n",
            "ffmpeg-7.0.2-amd64-static/model/other_models/nflxall_vmafv3.pkl\n",
            "ffmpeg-7.0.2-amd64-static/model/other_models/nflxtrain_libsvmnusvr_currentbest.pkl\n",
            "ffmpeg-7.0.2-amd64-static/model/other_models/nflxall_libsvmnusvr_currentbest.pkl\n",
            "ffmpeg-7.0.2-amd64-static/model/other_models/nflx_vmaff_rf_v1.pkl\n",
            "ffmpeg-7.0.2-amd64-static/model/other_models/nflxtrain_vmafv2.pkl.model\n",
            "ffmpeg-7.0.2-amd64-static/model/other_models/nflxall_vmafv2.pkl\n",
            "ffmpeg-7.0.2-amd64-static/model/other_models/model_V8a.model\n",
            "ffmpeg-7.0.2-amd64-static/model/other_models/nflxtrain_norm_type_none.pkl.model\n",
            "ffmpeg-7.0.2-amd64-static/model/other_models/nflxtrain_vmafv3a.pkl.model\n",
            "ffmpeg-7.0.2-amd64-static/model/other_models/nflxall_vmafv3a.pkl.model\n",
            "ffmpeg-7.0.2-amd64-static/model/other_models/nflxtrain_norm_type_none.json\n",
            "ffmpeg-7.0.2-amd64-static/model/vmaf_float_v0.6.1.pkl.model\n",
            "ffmpeg-7.0.2-amd64-static/readme.txt\n",
            "ffmpeg-7.0.2-amd64-static/ffmpeg\n"
          ]
        }
      ]
    },
    {
      "cell_type": "code",
      "source": [
        "!apt-get install -y ffmpeg\n",
        "import os\n",
        "os.environ['FFMPEG_PATH'] = '/content/Lip_Sync_Model/models/MuseTalk/MuseTalk/ffmpeg-7.0.1-amd64-static/ffmpeg'"
      ],
      "metadata": {
        "id": "IZdOW6AVbQii",
        "colab": {
          "base_uri": "https://localhost:8080/"
        },
        "outputId": "b6b55b18-075f-4b9c-f187-79a8e4d8594f"
      },
      "execution_count": null,
      "outputs": [
        {
          "output_type": "stream",
          "name": "stdout",
          "text": [
            "Reading package lists... Done\n",
            "Building dependency tree... Done\n",
            "Reading state information... Done\n",
            "ffmpeg is already the newest version (7:4.4.2-0ubuntu0.22.04.1).\n",
            "0 upgraded, 0 newly installed, 0 to remove and 49 not upgraded.\n"
          ]
        }
      ]
    },
    {
      "cell_type": "code",
      "source": [
        "!export FFMPEG_PATH=/musetalk/ffmpeg-4.4-amd64-static"
      ],
      "metadata": {
        "id": "XWrKuIu_b5y5"
      },
      "execution_count": null,
      "outputs": []
    },
    {
      "cell_type": "code",
      "source": [
        "ls"
      ],
      "metadata": {
        "id": "EP0XXKaJgkcj",
        "colab": {
          "base_uri": "https://localhost:8080/"
        },
        "outputId": "50f7a408-01b6-4c96-97e1-05a70cf44fd4"
      },
      "execution_count": null,
      "outputs": [
        {
          "output_type": "stream",
          "name": "stdout",
          "text": [
            "app.py    entrypoint.sh                       \u001b[0m\u001b[01;34mmusetalk\u001b[0m/         \u001b[01;34mscripts\u001b[0m/\n",
            "\u001b[01;34massets\u001b[0m/   \u001b[01;34mffmpeg-7.0.2-amd64-static\u001b[0m/          README.md\n",
            "\u001b[01;34mconfigs\u001b[0m/  ffmpeg-release-amd64-static.tar.xz  requirements.txt\n",
            "\u001b[01;34mdata\u001b[0m/     LICENSE                             \u001b[01;34mresults\u001b[0m/\n"
          ]
        }
      ]
    },
    {
      "cell_type": "markdown",
      "source": [
        "## Continue Setup for Drive"
      ],
      "metadata": {
        "id": "7dBczM3hZ1zC"
      }
    },
    {
      "cell_type": "markdown",
      "source": [
        "# create folder in drive name musetalk in models folder"
      ],
      "metadata": {
        "id": "JyWAYmhXIJQq"
      }
    },
    {
      "cell_type": "code",
      "source": [
        "%cd /content\n"
      ],
      "metadata": {
        "colab": {
          "base_uri": "https://localhost:8080/"
        },
        "id": "g6bvL2AoPHt3",
        "outputId": "edc24a7e-7bd2-4ce2-f38c-a6e61faabd48"
      },
      "execution_count": null,
      "outputs": [
        {
          "output_type": "stream",
          "name": "stdout",
          "text": [
            "/content\n"
          ]
        }
      ]
    },
    {
      "cell_type": "code",
      "source": [
        "!git clone https://huggingface.co/TMElyralab/MuseTalk /content/temp_MuseTalk\n"
      ],
      "metadata": {
        "colab": {
          "base_uri": "https://localhost:8080/"
        },
        "id": "w68HVRqvO7XN",
        "outputId": "66c4f510-8d5d-42aa-fa07-3bf56f93dfeb"
      },
      "execution_count": null,
      "outputs": [
        {
          "output_type": "stream",
          "name": "stdout",
          "text": [
            "Cloning into '/content/temp_MuseTalk'...\n",
            "remote: Enumerating objects: 15, done.\u001b[K\n",
            "remote: Counting objects: 100% (11/11), done.\u001b[K\n",
            "remote: Compressing objects: 100% (11/11), done.\u001b[K\n",
            "remote: Total 15 (delta 1), reused 0 (delta 0), pack-reused 4 (from 1)\u001b[K\n",
            "Unpacking objects: 100% (15/15), 8.80 KiB | 2.20 MiB/s, done.\n"
          ]
        }
      ]
    },
    {
      "cell_type": "code",
      "source": [
        "!ls /content/temp_MuseTalk\n"
      ],
      "metadata": {
        "colab": {
          "base_uri": "https://localhost:8080/"
        },
        "id": "PbNnqnjZO8Ha",
        "outputId": "1a56c533-3bd1-4d51-a1ca-a67e1a3b4c27"
      },
      "execution_count": null,
      "outputs": [
        {
          "output_type": "stream",
          "name": "stdout",
          "text": [
            "musetalk  README.md\n"
          ]
        }
      ]
    },
    {
      "cell_type": "code",
      "source": [
        "!cp -r /content/temp_MuseTalk/musetalk* /content/drive/MyDrive/Lip-Sync/MuseTalk/musetalk/models/musetalk"
      ],
      "metadata": {
        "id": "979HeY1xP6wc"
      },
      "execution_count": null,
      "outputs": []
    },
    {
      "cell_type": "code",
      "source": [
        "%cd /content/drive/MyDrive/Lip-Sync/MuseTalk/musetalk/models/sd-vae-ft-mse"
      ],
      "metadata": {
        "colab": {
          "base_uri": "https://localhost:8080/"
        },
        "id": "QqpWuk3_EgHP",
        "outputId": "35e3dea4-7dd6-4ab0-db11-f018387f7d78"
      },
      "execution_count": null,
      "outputs": [
        {
          "output_type": "stream",
          "name": "stdout",
          "text": [
            "/content/drive/MyDrive/Lip-Sync/MuseTalk/musetalk/models/sd-vae-ft-mse\n"
          ]
        }
      ]
    },
    {
      "cell_type": "markdown",
      "source": [
        "# sd-vae-ft-mse weights loading"
      ],
      "metadata": {
        "id": "q6P8OLZtRNl-"
      }
    },
    {
      "cell_type": "code",
      "source": [
        "# !git clone https://huggingface.co/stabilityai/sd-vae-ft-mse\n",
        "!git clone https://huggingface.co/stabilityai/sd-vae-ft-mse /content/sd-vae-ft-mse\n"
      ],
      "metadata": {
        "colab": {
          "base_uri": "https://localhost:8080/"
        },
        "id": "H3DuqfFK4vE3",
        "outputId": "f24896e6-d686-45a5-9c94-926ac8d2ba6f"
      },
      "execution_count": null,
      "outputs": [
        {
          "output_type": "stream",
          "name": "stdout",
          "text": [
            "fatal: destination path '/content/sd-vae-ft-mse' already exists and is not an empty directory.\n"
          ]
        }
      ]
    },
    {
      "cell_type": "code",
      "source": [
        "!cp -r /content/sd-vae-ft-mse /content/drive/MyDrive/Lip-Sync/MuseTalk/musetalk/models/"
      ],
      "metadata": {
        "id": "FYlI5zJ7RSgg"
      },
      "execution_count": null,
      "outputs": []
    },
    {
      "cell_type": "markdown",
      "source": [
        "# dwpose weights loading"
      ],
      "metadata": {
        "id": "joI73RXLRonU"
      }
    },
    {
      "cell_type": "code",
      "source": [
        "# %cd /content/drive/MyDrive/Lip-Sync/MuseTalk/musetalk/models/dwpose\n",
        "!git clone https://huggingface.co/yzd-v/DWPose /content/DWPose\n"
      ],
      "metadata": {
        "colab": {
          "base_uri": "https://localhost:8080/"
        },
        "id": "lZ_ci8e5G1Iw",
        "outputId": "4c28862e-bee5-440f-bb35-e149e7da7659"
      },
      "execution_count": null,
      "outputs": [
        {
          "output_type": "stream",
          "name": "stdout",
          "text": [
            "Cloning into '/content/DWPose'...\n",
            "remote: Enumerating objects: 18, done.\u001b[K\n",
            "remote: Total 18 (delta 0), reused 0 (delta 0), pack-reused 18 (from 1)\u001b[K\n",
            "Unpacking objects: 100% (18/18), 2.40 KiB | 614.00 KiB/s, done.\n",
            "Filtering content: 100% (10/10), 1.99 GiB | 58.78 MiB/s, done.\n"
          ]
        }
      ]
    },
    {
      "cell_type": "code",
      "source": [
        "!cp -r /content/DWPose /content/drive/MyDrive/Lip-Sync/MuseTalk/musetalk/models/\n"
      ],
      "metadata": {
        "id": "GSoGDsXBR3ER"
      },
      "execution_count": null,
      "outputs": []
    },
    {
      "cell_type": "code",
      "source": [
        "# !git clone https://huggingface.co/yzd-v/DWPose"
      ],
      "metadata": {
        "colab": {
          "base_uri": "https://localhost:8080/"
        },
        "id": "xU7QIJIM4u6r",
        "outputId": "212c1603-694a-42f1-c039-32e845dffc30"
      },
      "execution_count": null,
      "outputs": [
        {
          "output_type": "stream",
          "name": "stdout",
          "text": [
            "Cloning into 'DWPose'...\n",
            "remote: Enumerating objects: 18, done.\u001b[K\n",
            "remote: Total 18 (delta 0), reused 0 (delta 0), pack-reused 18 (from 1)\u001b[K\n",
            "Unpacking objects: 100% (18/18), 2.40 KiB | 4.00 KiB/s, done.\n",
            "Filtering content: 100% (10/10), 1.99 GiB | 26.48 MiB/s, done.\n",
            "fatal: cannot exec '/content/drive/MyDrive/Lip-Sync/MuseTalk/musetalk/models/dwpose/DWPose/.git/hooks/post-checkout': Permission denied\n"
          ]
        }
      ]
    },
    {
      "cell_type": "markdown",
      "source": [
        "# face makeout weights"
      ],
      "metadata": {
        "id": "zdrcbfFSSrkx"
      }
    },
    {
      "cell_type": "code",
      "source": [
        "# %cd /content/drive/MyDrive/Lip-Sync/MuseTalk/musetalk/models/face-parse-bisent\n",
        "# !git clone https://github.com/zllrunning/face-makeup.PyTorch.git"
      ],
      "metadata": {
        "id": "WRnZlWntQ_4E"
      },
      "execution_count": null,
      "outputs": []
    },
    {
      "cell_type": "code",
      "source": [
        "!git clone https://github.com/zllrunning/face-makeup.PyTorch.git /content/face-makeup.PyTorch\n"
      ],
      "metadata": {
        "colab": {
          "base_uri": "https://localhost:8080/"
        },
        "id": "a3Dieiv9N4Oj",
        "outputId": "7df5e8cd-37d8-4251-b758-8c1a083c883a"
      },
      "execution_count": null,
      "outputs": [
        {
          "output_type": "stream",
          "name": "stdout",
          "text": [
            "Cloning into '/content/face-makeup.PyTorch'...\n",
            "remote: Enumerating objects: 59, done.\u001b[K\n",
            "remote: Total 59 (delta 0), reused 0 (delta 0), pack-reused 59 (from 1)\u001b[K\n",
            "Receiving objects: 100% (59/59), 50.81 MiB | 28.20 MiB/s, done.\n",
            "Resolving deltas: 100% (26/26), done.\n"
          ]
        }
      ]
    },
    {
      "cell_type": "code",
      "source": [
        "!cp -r /content/face-makeup.PyTorch /content/drive/MyDrive/Lip-Sync/MuseTalk/musetalk/models/\n"
      ],
      "metadata": {
        "id": "GpXYy5-LS3j5"
      },
      "execution_count": null,
      "outputs": []
    },
    {
      "cell_type": "code",
      "source": [
        "%cd /content/drive/MyDrive/Lip-Sync/MuseTalk"
      ],
      "metadata": {
        "colab": {
          "base_uri": "https://localhost:8080/"
        },
        "id": "XlZuqgqtUJqH",
        "outputId": "2b06b82c-0836-47cb-cc5c-0efe4fc35ac1"
      },
      "execution_count": null,
      "outputs": [
        {
          "output_type": "stream",
          "name": "stdout",
          "text": [
            "/content/drive/MyDrive/Lip-Sync/MuseTalk\n"
          ]
        }
      ]
    },
    {
      "cell_type": "markdown",
      "source": [
        "## Inference"
      ],
      "metadata": {
        "id": "fhCNC4QbalFx"
      }
    },
    {
      "cell_type": "code",
      "source": [
        "import time\n",
        "start_time = time.time()\n",
        "start_time"
      ],
      "metadata": {
        "colab": {
          "base_uri": "https://localhost:8080/"
        },
        "id": "VtlMpybS6EQx",
        "outputId": "1dd47df8-82bc-45a9-8659-20de83818f5e"
      },
      "execution_count": null,
      "outputs": [
        {
          "output_type": "execute_result",
          "data": {
            "text/plain": [
              "1734427556.3490496"
            ]
          },
          "metadata": {},
          "execution_count": 3
        }
      ]
    },
    {
      "cell_type": "code",
      "source": [
        "!python -m scripts.inference --inference_config configs/inference/test.yaml"
      ],
      "metadata": {
        "id": "ZTkXKQG96f2P",
        "colab": {
          "base_uri": "https://localhost:8080/"
        },
        "outputId": "07aa2550-1231-4c66-e0f3-e1b0f092e497"
      },
      "execution_count": null,
      "outputs": [
        {
          "output_type": "stream",
          "name": "stdout",
          "text": [
            "/usr/bin/python3: No module named scripts.inference\n"
          ]
        }
      ]
    },
    {
      "cell_type": "code",
      "source": [],
      "metadata": {
        "id": "Y-MUsE5m8ELp"
      },
      "execution_count": null,
      "outputs": []
    }
  ]
}