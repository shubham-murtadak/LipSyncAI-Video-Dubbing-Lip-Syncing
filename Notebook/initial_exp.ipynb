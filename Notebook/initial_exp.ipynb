{
  "cells": [
    {
      "cell_type": "code",
      "execution_count": 5,
      "metadata": {
        "colab": {
          "base_uri": "https://localhost:8080/"
        },
        "id": "2ikZXtrok7FS",
        "outputId": "60db8f74-5731-459b-cb85-e77a087fc8e0"
      },
      "outputs": [
        {
          "name": "stdout",
          "output_type": "stream",
          "text": [
            "Wed Dec 18 16:23:16 2024       \n",
            "+---------------------------------------------------------------------------------------+\n",
            "| NVIDIA-SMI 535.104.05             Driver Version: 535.104.05   CUDA Version: 12.2     |\n",
            "|-----------------------------------------+----------------------+----------------------+\n",
            "| GPU  Name                 Persistence-M | Bus-Id        Disp.A | Volatile Uncorr. ECC |\n",
            "| Fan  Temp   Perf          Pwr:Usage/Cap |         Memory-Usage | GPU-Util  Compute M. |\n",
            "|                                         |                      |               MIG M. |\n",
            "|=========================================+======================+======================|\n",
            "|   0  Tesla T4                       Off | 00000000:00:04.0 Off |                    0 |\n",
            "| N/A   35C    P8               9W /  70W |      0MiB / 15360MiB |      0%      Default |\n",
            "|                                         |                      |                  N/A |\n",
            "+-----------------------------------------+----------------------+----------------------+\n",
            "                                                                                         \n",
            "+---------------------------------------------------------------------------------------+\n",
            "| Processes:                                                                            |\n",
            "|  GPU   GI   CI        PID   Type   Process name                            GPU Memory |\n",
            "|        ID   ID                                                             Usage      |\n",
            "|=======================================================================================|\n",
            "|  No running processes found                                                           |\n",
            "+---------------------------------------------------------------------------------------+\n"
          ]
        }
      ],
      "source": [
        "!nvidia-smi\n"
      ]
    },
    {
      "cell_type": "code",
      "execution_count": 6,
      "metadata": {
        "colab": {
          "base_uri": "https://localhost:8080/"
        },
        "id": "MVYdmtgFAhKE",
        "outputId": "ce948b37-58e1-44cd-a79b-06cddfc9fdd9"
      },
      "outputs": [
        {
          "name": "stdout",
          "output_type": "stream",
          "text": [
            "Mounted at /content/drive\n"
          ]
        }
      ],
      "source": [
        "from google.colab import drive\n",
        "drive.mount('/content/drive')"
      ]
    },
    {
      "cell_type": "markdown",
      "metadata": {
        "id": "M5QADzZcZTSG"
      },
      "source": [
        "## Setup for Your Drive\n",
        "- Clone Remote repo of **MuseTalk** in your Drive\n",
        "- Create Directory = **Lip-Sync**\n",
        "\n",
        "\n",
        "\n",
        "\n"
      ]
    },
    {
      "cell_type": "code",
      "execution_count": 7,
      "metadata": {
        "colab": {
          "base_uri": "https://localhost:8080/"
        },
        "id": "5NkLXLyn3wrK",
        "outputId": "1f2dca26-9702-473c-80ad-afc41480f8b8"
      },
      "outputs": [
        {
          "name": "stdout",
          "output_type": "stream",
          "text": [
            "/content/drive/MyDrive/Lip-Sync\n"
          ]
        }
      ],
      "source": [
        "%cd /content/drive/MyDrive/Lip-Sync\n"
      ]
    },
    {
      "cell_type": "markdown",
      "metadata": {
        "id": "QFBHqgr8tVY3"
      },
      "source": [
        "# Clone repo of Musetalk"
      ]
    },
    {
      "cell_type": "code",
      "execution_count": 8,
      "metadata": {
        "colab": {
          "base_uri": "https://localhost:8080/"
        },
        "id": "CERmpnNqpUGU",
        "outputId": "c938af78-4533-4f3f-b002-dc2e29d21d9c"
      },
      "outputs": [
        {
          "name": "stdout",
          "output_type": "stream",
          "text": [
            "Cloning into 'MuseTalk'...\n",
            "remote: Enumerating objects: 344, done.\u001b[K\n",
            "remote: Counting objects: 100% (148/148), done.\u001b[K\n",
            "remote: Compressing objects: 100% (87/87), done.\u001b[K\n",
            "remote: Total 344 (delta 99), reused 61 (delta 61), pack-reused 196 (from 2)\u001b[K\n",
            "Receiving objects: 100% (344/344), 23.95 MiB | 15.85 MiB/s, done.\n",
            "Resolving deltas: 100% (128/128), done.\n"
          ]
        }
      ],
      "source": [
        "!git clone https://github.com/TMElyralab/MuseTalk.git"
      ]
    },
    {
      "cell_type": "markdown",
      "metadata": {
        "id": "_H3sz4uUZwpb"
      },
      "source": [
        "## Install Dependcies"
      ]
    },
    {
      "cell_type": "code",
      "execution_count": 8,
      "metadata": {
        "colab": {
          "base_uri": "https://localhost:8080/",
          "height": 1000
        },
        "id": "7vT1RpmQpZc7",
        "outputId": "5b3719cb-1985-4592-8ac8-a363bee979e2"
      },
      "outputs": [
        {
          "name": "stdout",
          "output_type": "stream",
          "text": [
            "Looking in indexes: https://pypi.org/simple, https://download.pytorch.org/whl/cu118\n",
            "Collecting torch==2.0.1 (from -r /content/drive/MyDrive/Lip-Sync/MuseTalk/requirements.txt (line 2))\n",
            "  Downloading https://download.pytorch.org/whl/cu118/torch-2.0.1%2Bcu118-cp310-cp310-linux_x86_64.whl (2267.3 MB)\n",
            "\u001b[2K     \u001b[90m━━━━━━━━━━━━━━━━━━━━━━━━━━━━━━━━━━━━━━━━\u001b[0m \u001b[32m2.3/2.3 GB\u001b[0m \u001b[31m612.9 kB/s\u001b[0m eta \u001b[36m0:00:00\u001b[0m\n",
            "\u001b[?25hCollecting torchvision==0.15.2 (from -r /content/drive/MyDrive/Lip-Sync/MuseTalk/requirements.txt (line 3))\n",
            "  Downloading https://download.pytorch.org/whl/cu118/torchvision-0.15.2%2Bcu118-cp310-cp310-linux_x86_64.whl (6.1 MB)\n",
            "\u001b[2K     \u001b[90m━━━━━━━━━━━━━━━━━━━━━━━━━━━━━━━━━━━━━━━━\u001b[0m \u001b[32m6.1/6.1 MB\u001b[0m \u001b[31m92.5 MB/s\u001b[0m eta \u001b[36m0:00:00\u001b[0m\n",
            "\u001b[?25hCollecting torchaudio==2.0.2 (from -r /content/drive/MyDrive/Lip-Sync/MuseTalk/requirements.txt (line 4))\n",
            "  Downloading https://download.pytorch.org/whl/cu118/torchaudio-2.0.2%2Bcu118-cp310-cp310-linux_x86_64.whl (4.4 MB)\n",
            "\u001b[2K     \u001b[90m━━━━━━━━━━━━━━━━━━━━━━━━━━━━━━━━━━━━━━━━\u001b[0m \u001b[32m4.4/4.4 MB\u001b[0m \u001b[31m84.9 MB/s\u001b[0m eta \u001b[36m0:00:00\u001b[0m\n",
            "\u001b[?25hCollecting diffusers==0.27.2 (from -r /content/drive/MyDrive/Lip-Sync/MuseTalk/requirements.txt (line 5))\n",
            "  Downloading diffusers-0.27.2-py3-none-any.whl.metadata (18 kB)\n",
            "Collecting accelerate==0.28.0 (from -r /content/drive/MyDrive/Lip-Sync/MuseTalk/requirements.txt (line 6))\n",
            "  Downloading accelerate-0.28.0-py3-none-any.whl.metadata (18 kB)\n",
            "Collecting tensorflow==2.12.0 (from -r /content/drive/MyDrive/Lip-Sync/MuseTalk/requirements.txt (line 7))\n",
            "  Downloading tensorflow-2.12.0-cp310-cp310-manylinux_2_17_x86_64.manylinux2014_x86_64.whl.metadata (3.4 kB)\n",
            "Collecting tensorboard==2.12.0 (from -r /content/drive/MyDrive/Lip-Sync/MuseTalk/requirements.txt (line 8))\n",
            "  Downloading tensorboard-2.12.0-py3-none-any.whl.metadata (1.8 kB)\n",
            "Collecting opencv-python==4.9.0.80 (from -r /content/drive/MyDrive/Lip-Sync/MuseTalk/requirements.txt (line 9))\n",
            "  Downloading opencv_python-4.9.0.80-cp37-abi3-manylinux_2_17_x86_64.manylinux2014_x86_64.whl.metadata (20 kB)\n",
            "Requirement already satisfied: soundfile==0.12.1 in /usr/local/lib/python3.10/dist-packages (from -r /content/drive/MyDrive/Lip-Sync/MuseTalk/requirements.txt (line 10)) (0.12.1)\n",
            "Collecting transformers==4.39.2 (from -r /content/drive/MyDrive/Lip-Sync/MuseTalk/requirements.txt (line 11))\n",
            "  Downloading transformers-4.39.2-py3-none-any.whl.metadata (134 kB)\n",
            "\u001b[2K     \u001b[90m━━━━━━━━━━━━━━━━━━━━━━━━━━━━━━━━━━━━━━━━\u001b[0m \u001b[32m134.8/134.8 kB\u001b[0m \u001b[31m7.1 MB/s\u001b[0m eta \u001b[36m0:00:00\u001b[0m\n",
            "\u001b[?25hRequirement already satisfied: gdown in /usr/local/lib/python3.10/dist-packages (from -r /content/drive/MyDrive/Lip-Sync/MuseTalk/requirements.txt (line 13)) (5.2.0)\n",
            "Requirement already satisfied: requests in /usr/local/lib/python3.10/dist-packages (from -r /content/drive/MyDrive/Lip-Sync/MuseTalk/requirements.txt (line 14)) (2.32.3)\n",
            "Collecting omegaconf (from -r /content/drive/MyDrive/Lip-Sync/MuseTalk/requirements.txt (line 17))\n",
            "  Downloading omegaconf-2.3.0-py3-none-any.whl.metadata (3.9 kB)\n",
            "Collecting ffmpeg-python (from -r /content/drive/MyDrive/Lip-Sync/MuseTalk/requirements.txt (line 18))\n",
            "  Downloading ffmpeg_python-0.2.0-py3-none-any.whl.metadata (1.7 kB)\n",
            "Collecting gradio (from -r /content/drive/MyDrive/Lip-Sync/MuseTalk/requirements.txt (line 19))\n",
            "  Downloading gradio-5.9.1-py3-none-any.whl.metadata (16 kB)\n",
            "Collecting spaces (from -r /content/drive/MyDrive/Lip-Sync/MuseTalk/requirements.txt (line 20))\n",
            "  Downloading spaces-0.31.1-py3-none-any.whl.metadata (1.0 kB)\n",
            "Requirement already satisfied: moviepy in /usr/local/lib/python3.10/dist-packages (from -r /content/drive/MyDrive/Lip-Sync/MuseTalk/requirements.txt (line 21)) (1.0.3)\n",
            "Requirement already satisfied: imageio[ffmpeg] in /usr/local/lib/python3.10/dist-packages (from -r /content/drive/MyDrive/Lip-Sync/MuseTalk/requirements.txt (line 15)) (2.36.1)\n",
            "Requirement already satisfied: filelock in /usr/local/lib/python3.10/dist-packages (from torch==2.0.1->-r /content/drive/MyDrive/Lip-Sync/MuseTalk/requirements.txt (line 2)) (3.16.1)\n",
            "Requirement already satisfied: typing-extensions in /usr/local/lib/python3.10/dist-packages (from torch==2.0.1->-r /content/drive/MyDrive/Lip-Sync/MuseTalk/requirements.txt (line 2)) (4.12.2)\n",
            "Requirement already satisfied: sympy in /usr/local/lib/python3.10/dist-packages (from torch==2.0.1->-r /content/drive/MyDrive/Lip-Sync/MuseTalk/requirements.txt (line 2)) (1.13.1)\n",
            "Requirement already satisfied: networkx in /usr/local/lib/python3.10/dist-packages (from torch==2.0.1->-r /content/drive/MyDrive/Lip-Sync/MuseTalk/requirements.txt (line 2)) (3.4.2)\n",
            "Requirement already satisfied: jinja2 in /usr/local/lib/python3.10/dist-packages (from torch==2.0.1->-r /content/drive/MyDrive/Lip-Sync/MuseTalk/requirements.txt (line 2)) (3.1.4)\n",
            "Collecting triton==2.0.0 (from torch==2.0.1->-r /content/drive/MyDrive/Lip-Sync/MuseTalk/requirements.txt (line 2))\n",
            "  Downloading https://download.pytorch.org/whl/triton-2.0.0-1-cp310-cp310-manylinux2014_x86_64.manylinux_2_17_x86_64.whl (63.3 MB)\n",
            "\u001b[2K     \u001b[90m━━━━━━━━━━━━━━━━━━━━━━━━━━━━━━━━━━━━━━━━\u001b[0m \u001b[32m63.3/63.3 MB\u001b[0m \u001b[31m11.8 MB/s\u001b[0m eta \u001b[36m0:00:00\u001b[0m\n",
            "\u001b[?25hRequirement already satisfied: numpy in /usr/local/lib/python3.10/dist-packages (from torchvision==0.15.2->-r /content/drive/MyDrive/Lip-Sync/MuseTalk/requirements.txt (line 3)) (1.26.4)\n",
            "Requirement already satisfied: pillow!=8.3.*,>=5.3.0 in /usr/local/lib/python3.10/dist-packages (from torchvision==0.15.2->-r /content/drive/MyDrive/Lip-Sync/MuseTalk/requirements.txt (line 3)) (11.0.0)\n",
            "Requirement already satisfied: importlib-metadata in /usr/local/lib/python3.10/dist-packages (from diffusers==0.27.2->-r /content/drive/MyDrive/Lip-Sync/MuseTalk/requirements.txt (line 5)) (8.5.0)\n",
            "Requirement already satisfied: huggingface-hub>=0.20.2 in /usr/local/lib/python3.10/dist-packages (from diffusers==0.27.2->-r /content/drive/MyDrive/Lip-Sync/MuseTalk/requirements.txt (line 5)) (0.26.5)\n",
            "Requirement already satisfied: regex!=2019.12.17 in /usr/local/lib/python3.10/dist-packages (from diffusers==0.27.2->-r /content/drive/MyDrive/Lip-Sync/MuseTalk/requirements.txt (line 5)) (2024.9.11)\n",
            "Requirement already satisfied: safetensors>=0.3.1 in /usr/local/lib/python3.10/dist-packages (from diffusers==0.27.2->-r /content/drive/MyDrive/Lip-Sync/MuseTalk/requirements.txt (line 5)) (0.4.5)\n",
            "Requirement already satisfied: packaging>=20.0 in /usr/local/lib/python3.10/dist-packages (from accelerate==0.28.0->-r /content/drive/MyDrive/Lip-Sync/MuseTalk/requirements.txt (line 6)) (24.2)\n",
            "Requirement already satisfied: psutil in /usr/local/lib/python3.10/dist-packages (from accelerate==0.28.0->-r /content/drive/MyDrive/Lip-Sync/MuseTalk/requirements.txt (line 6)) (5.9.5)\n",
            "Requirement already satisfied: pyyaml in /usr/local/lib/python3.10/dist-packages (from accelerate==0.28.0->-r /content/drive/MyDrive/Lip-Sync/MuseTalk/requirements.txt (line 6)) (6.0.2)\n",
            "Requirement already satisfied: absl-py>=1.0.0 in /usr/local/lib/python3.10/dist-packages (from tensorflow==2.12.0->-r /content/drive/MyDrive/Lip-Sync/MuseTalk/requirements.txt (line 7)) (1.4.0)\n",
            "Requirement already satisfied: astunparse>=1.6.0 in /usr/local/lib/python3.10/dist-packages (from tensorflow==2.12.0->-r /content/drive/MyDrive/Lip-Sync/MuseTalk/requirements.txt (line 7)) (1.6.3)\n",
            "Requirement already satisfied: flatbuffers>=2.0 in /usr/local/lib/python3.10/dist-packages (from tensorflow==2.12.0->-r /content/drive/MyDrive/Lip-Sync/MuseTalk/requirements.txt (line 7)) (24.3.25)\n",
            "Collecting gast<=0.4.0,>=0.2.1 (from tensorflow==2.12.0->-r /content/drive/MyDrive/Lip-Sync/MuseTalk/requirements.txt (line 7))\n",
            "  Downloading gast-0.4.0-py3-none-any.whl.metadata (1.1 kB)\n",
            "Requirement already satisfied: google-pasta>=0.1.1 in /usr/local/lib/python3.10/dist-packages (from tensorflow==2.12.0->-r /content/drive/MyDrive/Lip-Sync/MuseTalk/requirements.txt (line 7)) (0.2.0)\n",
            "Requirement already satisfied: grpcio<2.0,>=1.24.3 in /usr/local/lib/python3.10/dist-packages (from tensorflow==2.12.0->-r /content/drive/MyDrive/Lip-Sync/MuseTalk/requirements.txt (line 7)) (1.68.1)\n",
            "Requirement already satisfied: h5py>=2.9.0 in /usr/local/lib/python3.10/dist-packages (from tensorflow==2.12.0->-r /content/drive/MyDrive/Lip-Sync/MuseTalk/requirements.txt (line 7)) (3.12.1)\n",
            "Requirement already satisfied: jax>=0.3.15 in /usr/local/lib/python3.10/dist-packages (from tensorflow==2.12.0->-r /content/drive/MyDrive/Lip-Sync/MuseTalk/requirements.txt (line 7)) (0.4.33)\n",
            "Collecting keras<2.13,>=2.12.0 (from tensorflow==2.12.0->-r /content/drive/MyDrive/Lip-Sync/MuseTalk/requirements.txt (line 7))\n",
            "  Downloading keras-2.12.0-py2.py3-none-any.whl.metadata (1.4 kB)\n",
            "Requirement already satisfied: libclang>=13.0.0 in /usr/local/lib/python3.10/dist-packages (from tensorflow==2.12.0->-r /content/drive/MyDrive/Lip-Sync/MuseTalk/requirements.txt (line 7)) (18.1.1)\n",
            "Collecting numpy (from torchvision==0.15.2->-r /content/drive/MyDrive/Lip-Sync/MuseTalk/requirements.txt (line 3))\n",
            "  Downloading numpy-1.23.5-cp310-cp310-manylinux_2_17_x86_64.manylinux2014_x86_64.whl.metadata (2.3 kB)\n",
            "Requirement already satisfied: opt-einsum>=2.3.2 in /usr/local/lib/python3.10/dist-packages (from tensorflow==2.12.0->-r /content/drive/MyDrive/Lip-Sync/MuseTalk/requirements.txt (line 7)) (3.4.0)\n",
            "Requirement already satisfied: protobuf!=4.21.0,!=4.21.1,!=4.21.2,!=4.21.3,!=4.21.4,!=4.21.5,<5.0.0dev,>=3.20.3 in /usr/local/lib/python3.10/dist-packages (from tensorflow==2.12.0->-r /content/drive/MyDrive/Lip-Sync/MuseTalk/requirements.txt (line 7)) (4.25.5)\n",
            "Requirement already satisfied: setuptools in /usr/local/lib/python3.10/dist-packages (from tensorflow==2.12.0->-r /content/drive/MyDrive/Lip-Sync/MuseTalk/requirements.txt (line 7)) (75.1.0)\n",
            "Requirement already satisfied: six>=1.12.0 in /usr/local/lib/python3.10/dist-packages (from tensorflow==2.12.0->-r /content/drive/MyDrive/Lip-Sync/MuseTalk/requirements.txt (line 7)) (1.17.0)\n",
            "Collecting tensorflow-estimator<2.13,>=2.12.0 (from tensorflow==2.12.0->-r /content/drive/MyDrive/Lip-Sync/MuseTalk/requirements.txt (line 7))\n",
            "  Downloading tensorflow_estimator-2.12.0-py2.py3-none-any.whl.metadata (1.3 kB)\n",
            "Requirement already satisfied: termcolor>=1.1.0 in /usr/local/lib/python3.10/dist-packages (from tensorflow==2.12.0->-r /content/drive/MyDrive/Lip-Sync/MuseTalk/requirements.txt (line 7)) (2.5.0)\n",
            "Collecting wrapt<1.15,>=1.11.0 (from tensorflow==2.12.0->-r /content/drive/MyDrive/Lip-Sync/MuseTalk/requirements.txt (line 7))\n",
            "  Downloading wrapt-1.14.1-cp310-cp310-manylinux_2_5_x86_64.manylinux1_x86_64.manylinux_2_17_x86_64.manylinux2014_x86_64.whl.metadata (6.7 kB)\n",
            "Requirement already satisfied: tensorflow-io-gcs-filesystem>=0.23.1 in /usr/local/lib/python3.10/dist-packages (from tensorflow==2.12.0->-r /content/drive/MyDrive/Lip-Sync/MuseTalk/requirements.txt (line 7)) (0.37.1)\n",
            "Requirement already satisfied: google-auth<3,>=1.6.3 in /usr/local/lib/python3.10/dist-packages (from tensorboard==2.12.0->-r /content/drive/MyDrive/Lip-Sync/MuseTalk/requirements.txt (line 8)) (2.27.0)\n",
            "Collecting google-auth-oauthlib<0.5,>=0.4.1 (from tensorboard==2.12.0->-r /content/drive/MyDrive/Lip-Sync/MuseTalk/requirements.txt (line 8))\n",
            "  Downloading google_auth_oauthlib-0.4.6-py2.py3-none-any.whl.metadata (2.7 kB)\n",
            "Requirement already satisfied: markdown>=2.6.8 in /usr/local/lib/python3.10/dist-packages (from tensorboard==2.12.0->-r /content/drive/MyDrive/Lip-Sync/MuseTalk/requirements.txt (line 8)) (3.7)\n",
            "Requirement already satisfied: tensorboard-data-server<0.8.0,>=0.7.0 in /usr/local/lib/python3.10/dist-packages (from tensorboard==2.12.0->-r /content/drive/MyDrive/Lip-Sync/MuseTalk/requirements.txt (line 8)) (0.7.2)\n",
            "Collecting tensorboard-plugin-wit>=1.6.0 (from tensorboard==2.12.0->-r /content/drive/MyDrive/Lip-Sync/MuseTalk/requirements.txt (line 8))\n",
            "  Downloading tensorboard_plugin_wit-1.8.1-py3-none-any.whl.metadata (873 bytes)\n",
            "Requirement already satisfied: werkzeug>=1.0.1 in /usr/local/lib/python3.10/dist-packages (from tensorboard==2.12.0->-r /content/drive/MyDrive/Lip-Sync/MuseTalk/requirements.txt (line 8)) (3.1.3)\n",
            "Requirement already satisfied: wheel>=0.26 in /usr/local/lib/python3.10/dist-packages (from tensorboard==2.12.0->-r /content/drive/MyDrive/Lip-Sync/MuseTalk/requirements.txt (line 8)) (0.45.1)\n",
            "Requirement already satisfied: cffi>=1.0 in /usr/local/lib/python3.10/dist-packages (from soundfile==0.12.1->-r /content/drive/MyDrive/Lip-Sync/MuseTalk/requirements.txt (line 10)) (1.17.1)\n",
            "Collecting tokenizers<0.19,>=0.14 (from transformers==4.39.2->-r /content/drive/MyDrive/Lip-Sync/MuseTalk/requirements.txt (line 11))\n",
            "  Downloading tokenizers-0.15.2-cp310-cp310-manylinux_2_17_x86_64.manylinux2014_x86_64.whl.metadata (6.7 kB)\n",
            "Requirement already satisfied: tqdm>=4.27 in /usr/local/lib/python3.10/dist-packages (from transformers==4.39.2->-r /content/drive/MyDrive/Lip-Sync/MuseTalk/requirements.txt (line 11)) (4.66.6)\n",
            "Requirement already satisfied: cmake in /usr/local/lib/python3.10/dist-packages (from triton==2.0.0->torch==2.0.1->-r /content/drive/MyDrive/Lip-Sync/MuseTalk/requirements.txt (line 2)) (3.30.5)\n",
            "Collecting lit (from triton==2.0.0->torch==2.0.1->-r /content/drive/MyDrive/Lip-Sync/MuseTalk/requirements.txt (line 2))\n",
            "  Downloading lit-18.1.8-py3-none-any.whl.metadata (2.5 kB)\n",
            "Requirement already satisfied: beautifulsoup4 in /usr/local/lib/python3.10/dist-packages (from gdown->-r /content/drive/MyDrive/Lip-Sync/MuseTalk/requirements.txt (line 13)) (4.12.3)\n",
            "Requirement already satisfied: charset-normalizer<4,>=2 in /usr/local/lib/python3.10/dist-packages (from requests->-r /content/drive/MyDrive/Lip-Sync/MuseTalk/requirements.txt (line 14)) (3.4.0)\n",
            "Requirement already satisfied: idna<4,>=2.5 in /usr/local/lib/python3.10/dist-packages (from requests->-r /content/drive/MyDrive/Lip-Sync/MuseTalk/requirements.txt (line 14)) (3.10)\n",
            "Requirement already satisfied: urllib3<3,>=1.21.1 in /usr/local/lib/python3.10/dist-packages (from requests->-r /content/drive/MyDrive/Lip-Sync/MuseTalk/requirements.txt (line 14)) (2.2.3)\n",
            "Requirement already satisfied: certifi>=2017.4.17 in /usr/local/lib/python3.10/dist-packages (from requests->-r /content/drive/MyDrive/Lip-Sync/MuseTalk/requirements.txt (line 14)) (2024.8.30)\n",
            "Requirement already satisfied: imageio-ffmpeg in /usr/local/lib/python3.10/dist-packages (from imageio[ffmpeg]->-r /content/drive/MyDrive/Lip-Sync/MuseTalk/requirements.txt (line 15)) (0.5.1)\n",
            "Collecting antlr4-python3-runtime==4.9.* (from omegaconf->-r /content/drive/MyDrive/Lip-Sync/MuseTalk/requirements.txt (line 17))\n",
            "  Downloading antlr4-python3-runtime-4.9.3.tar.gz (117 kB)\n",
            "\u001b[2K     \u001b[90m━━━━━━━━━━━━━━━━━━━━━━━━━━━━━━━━━━━━━━━━\u001b[0m \u001b[32m117.0/117.0 kB\u001b[0m \u001b[31m11.8 MB/s\u001b[0m eta \u001b[36m0:00:00\u001b[0m\n",
            "\u001b[?25h  Preparing metadata (setup.py) ... \u001b[?25l\u001b[?25hdone\n",
            "Requirement already satisfied: future in /usr/local/lib/python3.10/dist-packages (from ffmpeg-python->-r /content/drive/MyDrive/Lip-Sync/MuseTalk/requirements.txt (line 18)) (1.0.0)\n",
            "Collecting aiofiles<24.0,>=22.0 (from gradio->-r /content/drive/MyDrive/Lip-Sync/MuseTalk/requirements.txt (line 19))\n",
            "  Downloading aiofiles-23.2.1-py3-none-any.whl.metadata (9.7 kB)\n",
            "Requirement already satisfied: anyio<5.0,>=3.0 in /usr/local/lib/python3.10/dist-packages (from gradio->-r /content/drive/MyDrive/Lip-Sync/MuseTalk/requirements.txt (line 19)) (3.7.1)\n",
            "Collecting fastapi<1.0,>=0.115.2 (from gradio->-r /content/drive/MyDrive/Lip-Sync/MuseTalk/requirements.txt (line 19))\n",
            "  Downloading fastapi-0.115.6-py3-none-any.whl.metadata (27 kB)\n",
            "Collecting ffmpy (from gradio->-r /content/drive/MyDrive/Lip-Sync/MuseTalk/requirements.txt (line 19))\n",
            "  Downloading ffmpy-0.4.0-py3-none-any.whl.metadata (2.9 kB)\n",
            "Collecting gradio-client==1.5.2 (from gradio->-r /content/drive/MyDrive/Lip-Sync/MuseTalk/requirements.txt (line 19))\n",
            "  Downloading gradio_client-1.5.2-py3-none-any.whl.metadata (7.1 kB)\n",
            "Requirement already satisfied: httpx>=0.24.1 in /usr/local/lib/python3.10/dist-packages (from gradio->-r /content/drive/MyDrive/Lip-Sync/MuseTalk/requirements.txt (line 19)) (0.28.1)\n",
            "Collecting markupsafe~=2.0 (from gradio->-r /content/drive/MyDrive/Lip-Sync/MuseTalk/requirements.txt (line 19))\n",
            "  Downloading https://download.pytorch.org/whl/MarkupSafe-2.1.5-cp310-cp310-manylinux_2_17_x86_64.manylinux2014_x86_64.whl (25 kB)\n",
            "Requirement already satisfied: orjson~=3.0 in /usr/local/lib/python3.10/dist-packages (from gradio->-r /content/drive/MyDrive/Lip-Sync/MuseTalk/requirements.txt (line 19)) (3.10.12)\n",
            "Requirement already satisfied: pandas<3.0,>=1.0 in /usr/local/lib/python3.10/dist-packages (from gradio->-r /content/drive/MyDrive/Lip-Sync/MuseTalk/requirements.txt (line 19)) (2.2.2)\n",
            "Requirement already satisfied: pydantic>=2.0 in /usr/local/lib/python3.10/dist-packages (from gradio->-r /content/drive/MyDrive/Lip-Sync/MuseTalk/requirements.txt (line 19)) (2.10.3)\n",
            "Collecting pydub (from gradio->-r /content/drive/MyDrive/Lip-Sync/MuseTalk/requirements.txt (line 19))\n",
            "  Downloading pydub-0.25.1-py2.py3-none-any.whl.metadata (1.4 kB)\n",
            "Collecting python-multipart>=0.0.18 (from gradio->-r /content/drive/MyDrive/Lip-Sync/MuseTalk/requirements.txt (line 19))\n",
            "  Downloading python_multipart-0.0.20-py3-none-any.whl.metadata (1.8 kB)\n",
            "Collecting ruff>=0.2.2 (from gradio->-r /content/drive/MyDrive/Lip-Sync/MuseTalk/requirements.txt (line 19))\n",
            "  Downloading ruff-0.8.3-py3-none-manylinux_2_17_x86_64.manylinux2014_x86_64.whl.metadata (25 kB)\n",
            "Collecting safehttpx<0.2.0,>=0.1.6 (from gradio->-r /content/drive/MyDrive/Lip-Sync/MuseTalk/requirements.txt (line 19))\n",
            "  Downloading safehttpx-0.1.6-py3-none-any.whl.metadata (4.2 kB)\n",
            "Collecting semantic-version~=2.0 (from gradio->-r /content/drive/MyDrive/Lip-Sync/MuseTalk/requirements.txt (line 19))\n",
            "  Downloading semantic_version-2.10.0-py2.py3-none-any.whl.metadata (9.7 kB)\n",
            "Collecting starlette<1.0,>=0.40.0 (from gradio->-r /content/drive/MyDrive/Lip-Sync/MuseTalk/requirements.txt (line 19))\n",
            "  Downloading starlette-0.42.0-py3-none-any.whl.metadata (6.0 kB)\n",
            "Collecting tomlkit<0.14.0,>=0.12.0 (from gradio->-r /content/drive/MyDrive/Lip-Sync/MuseTalk/requirements.txt (line 19))\n",
            "  Downloading tomlkit-0.13.2-py3-none-any.whl.metadata (2.7 kB)\n",
            "Requirement already satisfied: typer<1.0,>=0.12 in /usr/local/lib/python3.10/dist-packages (from gradio->-r /content/drive/MyDrive/Lip-Sync/MuseTalk/requirements.txt (line 19)) (0.15.1)\n",
            "Collecting uvicorn>=0.14.0 (from gradio->-r /content/drive/MyDrive/Lip-Sync/MuseTalk/requirements.txt (line 19))\n",
            "  Downloading uvicorn-0.34.0-py3-none-any.whl.metadata (6.5 kB)\n",
            "Requirement already satisfied: fsspec in /usr/local/lib/python3.10/dist-packages (from gradio-client==1.5.2->gradio->-r /content/drive/MyDrive/Lip-Sync/MuseTalk/requirements.txt (line 19)) (2024.10.0)\n",
            "Requirement already satisfied: websockets<15.0,>=10.0 in /usr/local/lib/python3.10/dist-packages (from gradio-client==1.5.2->gradio->-r /content/drive/MyDrive/Lip-Sync/MuseTalk/requirements.txt (line 19)) (14.1)\n",
            "Requirement already satisfied: decorator<5.0,>=4.0.2 in /usr/local/lib/python3.10/dist-packages (from moviepy->-r /content/drive/MyDrive/Lip-Sync/MuseTalk/requirements.txt (line 21)) (4.4.2)\n",
            "Requirement already satisfied: proglog<=1.0.0 in /usr/local/lib/python3.10/dist-packages (from moviepy->-r /content/drive/MyDrive/Lip-Sync/MuseTalk/requirements.txt (line 21)) (0.1.10)\n",
            "Requirement already satisfied: sniffio>=1.1 in /usr/local/lib/python3.10/dist-packages (from anyio<5.0,>=3.0->gradio->-r /content/drive/MyDrive/Lip-Sync/MuseTalk/requirements.txt (line 19)) (1.3.1)\n",
            "Requirement already satisfied: exceptiongroup in /usr/local/lib/python3.10/dist-packages (from anyio<5.0,>=3.0->gradio->-r /content/drive/MyDrive/Lip-Sync/MuseTalk/requirements.txt (line 19)) (1.2.2)\n",
            "Requirement already satisfied: pycparser in /usr/local/lib/python3.10/dist-packages (from cffi>=1.0->soundfile==0.12.1->-r /content/drive/MyDrive/Lip-Sync/MuseTalk/requirements.txt (line 10)) (2.22)\n",
            "Collecting starlette<1.0,>=0.40.0 (from gradio->-r /content/drive/MyDrive/Lip-Sync/MuseTalk/requirements.txt (line 19))\n",
            "  Downloading starlette-0.41.3-py3-none-any.whl.metadata (6.0 kB)\n",
            "Requirement already satisfied: cachetools<6.0,>=2.0.0 in /usr/local/lib/python3.10/dist-packages (from google-auth<3,>=1.6.3->tensorboard==2.12.0->-r /content/drive/MyDrive/Lip-Sync/MuseTalk/requirements.txt (line 8)) (5.5.0)\n",
            "Requirement already satisfied: pyasn1-modules>=0.2.1 in /usr/local/lib/python3.10/dist-packages (from google-auth<3,>=1.6.3->tensorboard==2.12.0->-r /content/drive/MyDrive/Lip-Sync/MuseTalk/requirements.txt (line 8)) (0.4.1)\n",
            "Requirement already satisfied: rsa<5,>=3.1.4 in /usr/local/lib/python3.10/dist-packages (from google-auth<3,>=1.6.3->tensorboard==2.12.0->-r /content/drive/MyDrive/Lip-Sync/MuseTalk/requirements.txt (line 8)) (4.9)\n",
            "Requirement already satisfied: requests-oauthlib>=0.7.0 in /usr/local/lib/python3.10/dist-packages (from google-auth-oauthlib<0.5,>=0.4.1->tensorboard==2.12.0->-r /content/drive/MyDrive/Lip-Sync/MuseTalk/requirements.txt (line 8)) (1.3.1)\n",
            "Requirement already satisfied: httpcore==1.* in /usr/local/lib/python3.10/dist-packages (from httpx>=0.24.1->gradio->-r /content/drive/MyDrive/Lip-Sync/MuseTalk/requirements.txt (line 19)) (1.0.7)\n",
            "Requirement already satisfied: h11<0.15,>=0.13 in /usr/local/lib/python3.10/dist-packages (from httpcore==1.*->httpx>=0.24.1->gradio->-r /content/drive/MyDrive/Lip-Sync/MuseTalk/requirements.txt (line 19)) (0.14.0)\n",
            "Requirement already satisfied: jaxlib<=0.4.33,>=0.4.33 in /usr/local/lib/python3.10/dist-packages (from jax>=0.3.15->tensorflow==2.12.0->-r /content/drive/MyDrive/Lip-Sync/MuseTalk/requirements.txt (line 7)) (0.4.33)\n",
            "Requirement already satisfied: ml-dtypes>=0.2.0 in /usr/local/lib/python3.10/dist-packages (from jax>=0.3.15->tensorflow==2.12.0->-r /content/drive/MyDrive/Lip-Sync/MuseTalk/requirements.txt (line 7)) (0.4.1)\n",
            "INFO: pip is looking at multiple versions of jax to determine which version is compatible with other requirements. This could take a while.\n",
            "Collecting jax>=0.3.15 (from tensorflow==2.12.0->-r /content/drive/MyDrive/Lip-Sync/MuseTalk/requirements.txt (line 7))\n",
            "  Downloading jax-0.4.38-py3-none-any.whl.metadata (22 kB)\n",
            "Collecting jaxlib<=0.4.38,>=0.4.38 (from jax>=0.3.15->tensorflow==2.12.0->-r /content/drive/MyDrive/Lip-Sync/MuseTalk/requirements.txt (line 7))\n",
            "  Downloading jaxlib-0.4.38-cp310-cp310-manylinux2014_x86_64.whl.metadata (1.0 kB)\n",
            "Collecting jax>=0.3.15 (from tensorflow==2.12.0->-r /content/drive/MyDrive/Lip-Sync/MuseTalk/requirements.txt (line 7))\n",
            "  Downloading jax-0.4.37-py3-none-any.whl.metadata (22 kB)\n",
            "Collecting jaxlib<=0.4.37,>=0.4.36 (from jax>=0.3.15->tensorflow==2.12.0->-r /content/drive/MyDrive/Lip-Sync/MuseTalk/requirements.txt (line 7))\n",
            "  Downloading jaxlib-0.4.36-cp310-cp310-manylinux2014_x86_64.whl.metadata (1.0 kB)\n",
            "Collecting jax>=0.3.15 (from tensorflow==2.12.0->-r /content/drive/MyDrive/Lip-Sync/MuseTalk/requirements.txt (line 7))\n",
            "  Downloading jax-0.4.36-py3-none-any.whl.metadata (22 kB)\n",
            "  Downloading jax-0.4.35-py3-none-any.whl.metadata (22 kB)\n",
            "Collecting jaxlib<=0.4.35,>=0.4.34 (from jax>=0.3.15->tensorflow==2.12.0->-r /content/drive/MyDrive/Lip-Sync/MuseTalk/requirements.txt (line 7))\n",
            "  Downloading jaxlib-0.4.35-cp310-cp310-manylinux2014_x86_64.whl.metadata (983 bytes)\n",
            "Collecting jax>=0.3.15 (from tensorflow==2.12.0->-r /content/drive/MyDrive/Lip-Sync/MuseTalk/requirements.txt (line 7))\n",
            "  Downloading jax-0.4.34-py3-none-any.whl.metadata (22 kB)\n",
            "Collecting jaxlib<=0.4.34,>=0.4.34 (from jax>=0.3.15->tensorflow==2.12.0->-r /content/drive/MyDrive/Lip-Sync/MuseTalk/requirements.txt (line 7))\n",
            "  Downloading jaxlib-0.4.34-cp310-cp310-manylinux2014_x86_64.whl.metadata (983 bytes)\n",
            "Collecting jax>=0.3.15 (from tensorflow==2.12.0->-r /content/drive/MyDrive/Lip-Sync/MuseTalk/requirements.txt (line 7))\n",
            "  Downloading jax-0.4.31-py3-none-any.whl.metadata (22 kB)\n",
            "Collecting jaxlib<=0.4.31,>=0.4.30 (from jax>=0.3.15->tensorflow==2.12.0->-r /content/drive/MyDrive/Lip-Sync/MuseTalk/requirements.txt (line 7))\n",
            "  Downloading jaxlib-0.4.31-cp310-cp310-manylinux2014_x86_64.whl.metadata (983 bytes)\n",
            "Collecting jax>=0.3.15 (from tensorflow==2.12.0->-r /content/drive/MyDrive/Lip-Sync/MuseTalk/requirements.txt (line 7))\n",
            "  Downloading jax-0.4.30-py3-none-any.whl.metadata (22 kB)\n",
            "Collecting jaxlib<=0.4.30,>=0.4.27 (from jax>=0.3.15->tensorflow==2.12.0->-r /content/drive/MyDrive/Lip-Sync/MuseTalk/requirements.txt (line 7))\n",
            "  Downloading jaxlib-0.4.30-cp310-cp310-manylinux2014_x86_64.whl.metadata (1.0 kB)\n",
            "Requirement already satisfied: scipy>=1.9 in /usr/local/lib/python3.10/dist-packages (from jax>=0.3.15->tensorflow==2.12.0->-r /content/drive/MyDrive/Lip-Sync/MuseTalk/requirements.txt (line 7)) (1.13.1)\n",
            "Requirement already satisfied: python-dateutil>=2.8.2 in /usr/local/lib/python3.10/dist-packages (from pandas<3.0,>=1.0->gradio->-r /content/drive/MyDrive/Lip-Sync/MuseTalk/requirements.txt (line 19)) (2.8.2)\n",
            "Requirement already satisfied: pytz>=2020.1 in /usr/local/lib/python3.10/dist-packages (from pandas<3.0,>=1.0->gradio->-r /content/drive/MyDrive/Lip-Sync/MuseTalk/requirements.txt (line 19)) (2024.2)\n",
            "Requirement already satisfied: tzdata>=2022.7 in /usr/local/lib/python3.10/dist-packages (from pandas<3.0,>=1.0->gradio->-r /content/drive/MyDrive/Lip-Sync/MuseTalk/requirements.txt (line 19)) (2024.2)\n",
            "Requirement already satisfied: annotated-types>=0.6.0 in /usr/local/lib/python3.10/dist-packages (from pydantic>=2.0->gradio->-r /content/drive/MyDrive/Lip-Sync/MuseTalk/requirements.txt (line 19)) (0.7.0)\n",
            "Requirement already satisfied: pydantic-core==2.27.1 in /usr/local/lib/python3.10/dist-packages (from pydantic>=2.0->gradio->-r /content/drive/MyDrive/Lip-Sync/MuseTalk/requirements.txt (line 19)) (2.27.1)\n",
            "Requirement already satisfied: click>=8.0.0 in /usr/local/lib/python3.10/dist-packages (from typer<1.0,>=0.12->gradio->-r /content/drive/MyDrive/Lip-Sync/MuseTalk/requirements.txt (line 19)) (8.1.7)\n",
            "Requirement already satisfied: shellingham>=1.3.0 in /usr/local/lib/python3.10/dist-packages (from typer<1.0,>=0.12->gradio->-r /content/drive/MyDrive/Lip-Sync/MuseTalk/requirements.txt (line 19)) (1.5.4)\n",
            "Requirement already satisfied: rich>=10.11.0 in /usr/local/lib/python3.10/dist-packages (from typer<1.0,>=0.12->gradio->-r /content/drive/MyDrive/Lip-Sync/MuseTalk/requirements.txt (line 19)) (13.9.4)\n",
            "Requirement already satisfied: soupsieve>1.2 in /usr/local/lib/python3.10/dist-packages (from beautifulsoup4->gdown->-r /content/drive/MyDrive/Lip-Sync/MuseTalk/requirements.txt (line 13)) (2.6)\n",
            "Requirement already satisfied: zipp>=3.20 in /usr/local/lib/python3.10/dist-packages (from importlib-metadata->diffusers==0.27.2->-r /content/drive/MyDrive/Lip-Sync/MuseTalk/requirements.txt (line 5)) (3.21.0)\n",
            "Requirement already satisfied: PySocks!=1.5.7,>=1.5.6 in /usr/local/lib/python3.10/dist-packages (from requests[socks]->gdown->-r /content/drive/MyDrive/Lip-Sync/MuseTalk/requirements.txt (line 13)) (1.7.1)\n",
            "Requirement already satisfied: mpmath<1.4,>=1.1.0 in /usr/local/lib/python3.10/dist-packages (from sympy->torch==2.0.1->-r /content/drive/MyDrive/Lip-Sync/MuseTalk/requirements.txt (line 2)) (1.3.0)\n",
            "Requirement already satisfied: pyasn1<0.7.0,>=0.4.6 in /usr/local/lib/python3.10/dist-packages (from pyasn1-modules>=0.2.1->google-auth<3,>=1.6.3->tensorboard==2.12.0->-r /content/drive/MyDrive/Lip-Sync/MuseTalk/requirements.txt (line 8)) (0.6.1)\n",
            "Requirement already satisfied: oauthlib>=3.0.0 in /usr/local/lib/python3.10/dist-packages (from requests-oauthlib>=0.7.0->google-auth-oauthlib<0.5,>=0.4.1->tensorboard==2.12.0->-r /content/drive/MyDrive/Lip-Sync/MuseTalk/requirements.txt (line 8)) (3.2.2)\n",
            "Requirement already satisfied: markdown-it-py>=2.2.0 in /usr/local/lib/python3.10/dist-packages (from rich>=10.11.0->typer<1.0,>=0.12->gradio->-r /content/drive/MyDrive/Lip-Sync/MuseTalk/requirements.txt (line 19)) (3.0.0)\n",
            "Requirement already satisfied: pygments<3.0.0,>=2.13.0 in /usr/local/lib/python3.10/dist-packages (from rich>=10.11.0->typer<1.0,>=0.12->gradio->-r /content/drive/MyDrive/Lip-Sync/MuseTalk/requirements.txt (line 19)) (2.18.0)\n",
            "Requirement already satisfied: mdurl~=0.1 in /usr/local/lib/python3.10/dist-packages (from markdown-it-py>=2.2.0->rich>=10.11.0->typer<1.0,>=0.12->gradio->-r /content/drive/MyDrive/Lip-Sync/MuseTalk/requirements.txt (line 19)) (0.1.2)\n",
            "Downloading diffusers-0.27.2-py3-none-any.whl (2.0 MB)\n",
            "\u001b[2K   \u001b[90m━━━━━━━━━━━━━━━━━━━━━━━━━━━━━━━━━━━━━━━━\u001b[0m \u001b[32m2.0/2.0 MB\u001b[0m \u001b[31m54.5 MB/s\u001b[0m eta \u001b[36m0:00:00\u001b[0m\n",
            "\u001b[?25hDownloading accelerate-0.28.0-py3-none-any.whl (290 kB)\n",
            "\u001b[2K   \u001b[90m━━━━━━━━━━━━━━━━━━━━━━━━━━━━━━━━━━━━━━━━\u001b[0m \u001b[32m290.1/290.1 kB\u001b[0m \u001b[31m30.0 MB/s\u001b[0m eta \u001b[36m0:00:00\u001b[0m\n",
            "\u001b[?25hDownloading tensorflow-2.12.0-cp310-cp310-manylinux_2_17_x86_64.manylinux2014_x86_64.whl (585.9 MB)\n",
            "\u001b[2K   \u001b[90m━━━━━━━━━━━━━━━━━━━━━━━━━━━━━━━━━━━━━━━━\u001b[0m \u001b[32m585.9/585.9 MB\u001b[0m \u001b[31m2.3 MB/s\u001b[0m eta \u001b[36m0:00:00\u001b[0m\n",
            "\u001b[?25hDownloading tensorboard-2.12.0-py3-none-any.whl (5.6 MB)\n",
            "\u001b[2K   \u001b[90m━━━━━━━━━━━━━━━━━━━━━━━━━━━━━━━━━━━━━━━━\u001b[0m \u001b[32m5.6/5.6 MB\u001b[0m \u001b[31m75.3 MB/s\u001b[0m eta \u001b[36m0:00:00\u001b[0m\n",
            "\u001b[?25hDownloading opencv_python-4.9.0.80-cp37-abi3-manylinux_2_17_x86_64.manylinux2014_x86_64.whl (62.2 MB)\n",
            "\u001b[2K   \u001b[90m━━━━━━━━━━━━━━━━━━━━━━━━━━━━━━━━━━━━━━━━\u001b[0m \u001b[32m62.2/62.2 MB\u001b[0m \u001b[31m10.8 MB/s\u001b[0m eta \u001b[36m0:00:00\u001b[0m\n",
            "\u001b[?25hDownloading transformers-4.39.2-py3-none-any.whl (8.8 MB)\n",
            "\u001b[2K   \u001b[90m━━━━━━━━━━━━━━━━━━━━━━━━━━━━━━━━━━━━━━━━\u001b[0m \u001b[32m8.8/8.8 MB\u001b[0m \u001b[31m91.4 MB/s\u001b[0m eta \u001b[36m0:00:00\u001b[0m\n",
            "\u001b[?25hDownloading omegaconf-2.3.0-py3-none-any.whl (79 kB)\n",
            "\u001b[2K   \u001b[90m━━━━━━━━━━━━━━━━━━━━━━━━━━━━━━━━━━━━━━━━\u001b[0m \u001b[32m79.5/79.5 kB\u001b[0m \u001b[31m7.4 MB/s\u001b[0m eta \u001b[36m0:00:00\u001b[0m\n",
            "\u001b[?25hDownloading ffmpeg_python-0.2.0-py3-none-any.whl (25 kB)\n",
            "Downloading gradio-5.9.1-py3-none-any.whl (57.2 MB)\n",
            "\u001b[2K   \u001b[90m━━━━━━━━━━━━━━━━━━━━━━━━━━━━━━━━━━━━━━━━\u001b[0m \u001b[32m57.2/57.2 MB\u001b[0m \u001b[31m16.3 MB/s\u001b[0m eta \u001b[36m0:00:00\u001b[0m\n",
            "\u001b[?25hDownloading gradio_client-1.5.2-py3-none-any.whl (320 kB)\n",
            "\u001b[2K   \u001b[90m━━━━━━━━━━━━━━━━━━━━━━━━━━━━━━━━━━━━━━━━\u001b[0m \u001b[32m320.4/320.4 kB\u001b[0m \u001b[31m25.4 MB/s\u001b[0m eta \u001b[36m0:00:00\u001b[0m\n",
            "\u001b[?25hDownloading spaces-0.31.1-py3-none-any.whl (28 kB)\n",
            "Downloading aiofiles-23.2.1-py3-none-any.whl (15 kB)\n",
            "Downloading fastapi-0.115.6-py3-none-any.whl (94 kB)\n",
            "\u001b[2K   \u001b[90m━━━━━━━━━━━━━━━━━━━━━━━━━━━━━━━━━━━━━━━━\u001b[0m \u001b[32m94.8/94.8 kB\u001b[0m \u001b[31m9.1 MB/s\u001b[0m eta \u001b[36m0:00:00\u001b[0m\n",
            "\u001b[?25hDownloading gast-0.4.0-py3-none-any.whl (9.8 kB)\n",
            "Downloading google_auth_oauthlib-0.4.6-py2.py3-none-any.whl (18 kB)\n",
            "Downloading jax-0.4.30-py3-none-any.whl (2.0 MB)\n",
            "\u001b[2K   \u001b[90m━━━━━━━━━━━━━━━━━━━━━━━━━━━━━━━━━━━━━━━━\u001b[0m \u001b[32m2.0/2.0 MB\u001b[0m \u001b[31m66.6 MB/s\u001b[0m eta \u001b[36m0:00:00\u001b[0m\n",
            "\u001b[?25hDownloading keras-2.12.0-py2.py3-none-any.whl (1.7 MB)\n",
            "\u001b[2K   \u001b[90m━━━━━━━━━━━━━━━━━━━━━━━━━━━━━━━━━━━━━━━━\u001b[0m \u001b[32m1.7/1.7 MB\u001b[0m \u001b[31m47.3 MB/s\u001b[0m eta \u001b[36m0:00:00\u001b[0m\n",
            "\u001b[?25hDownloading numpy-1.23.5-cp310-cp310-manylinux_2_17_x86_64.manylinux2014_x86_64.whl (17.1 MB)\n",
            "\u001b[2K   \u001b[90m━━━━━━━━━━━━━━━━━━━━━━━━━━━━━━━━━━━━━━━━\u001b[0m \u001b[32m17.1/17.1 MB\u001b[0m \u001b[31m68.0 MB/s\u001b[0m eta \u001b[36m0:00:00\u001b[0m\n",
            "\u001b[?25hDownloading python_multipart-0.0.20-py3-none-any.whl (24 kB)\n",
            "Downloading ruff-0.8.3-py3-none-manylinux_2_17_x86_64.manylinux2014_x86_64.whl (11.2 MB)\n",
            "\u001b[2K   \u001b[90m━━━━━━━━━━━━━━━━━━━━━━━━━━━━━━━━━━━━━━━━\u001b[0m \u001b[32m11.2/11.2 MB\u001b[0m \u001b[31m84.7 MB/s\u001b[0m eta \u001b[36m0:00:00\u001b[0m\n",
            "\u001b[?25hDownloading safehttpx-0.1.6-py3-none-any.whl (8.7 kB)\n",
            "Downloading semantic_version-2.10.0-py2.py3-none-any.whl (15 kB)\n",
            "Downloading starlette-0.41.3-py3-none-any.whl (73 kB)\n",
            "\u001b[2K   \u001b[90m━━━━━━━━━━━━━━━━━━━━━━━━━━━━━━━━━━━━━━━━\u001b[0m \u001b[32m73.2/73.2 kB\u001b[0m \u001b[31m8.2 MB/s\u001b[0m eta \u001b[36m0:00:00\u001b[0m\n",
            "\u001b[?25hDownloading tensorboard_plugin_wit-1.8.1-py3-none-any.whl (781 kB)\n",
            "\u001b[2K   \u001b[90m━━━━━━━━━━━━━━━━━━━━━━━━━━━━━━━━━━━━━━━━\u001b[0m \u001b[32m781.3/781.3 kB\u001b[0m \u001b[31m58.7 MB/s\u001b[0m eta \u001b[36m0:00:00\u001b[0m\n",
            "\u001b[?25hDownloading tensorflow_estimator-2.12.0-py2.py3-none-any.whl (440 kB)\n",
            "\u001b[2K   \u001b[90m━━━━━━━━━━━━━━━━━━━━━━━━━━━━━━━━━━━━━━━━\u001b[0m \u001b[32m440.7/440.7 kB\u001b[0m \u001b[31m30.5 MB/s\u001b[0m eta \u001b[36m0:00:00\u001b[0m\n",
            "\u001b[?25hDownloading tokenizers-0.15.2-cp310-cp310-manylinux_2_17_x86_64.manylinux2014_x86_64.whl (3.6 MB)\n",
            "\u001b[2K   \u001b[90m━━━━━━━━━━━━━━━━━━━━━━━━━━━━━━━━━━━━━━━━\u001b[0m \u001b[32m3.6/3.6 MB\u001b[0m \u001b[31m95.5 MB/s\u001b[0m eta \u001b[36m0:00:00\u001b[0m\n",
            "\u001b[?25hDownloading tomlkit-0.13.2-py3-none-any.whl (37 kB)\n",
            "Downloading uvicorn-0.34.0-py3-none-any.whl (62 kB)\n",
            "\u001b[2K   \u001b[90m━━━━━━━━━━━━━━━━━━━━━━━━━━━━━━━━━━━━━━━━\u001b[0m \u001b[32m62.3/62.3 kB\u001b[0m \u001b[31m5.2 MB/s\u001b[0m eta \u001b[36m0:00:00\u001b[0m\n",
            "\u001b[?25hDownloading wrapt-1.14.1-cp310-cp310-manylinux_2_5_x86_64.manylinux1_x86_64.manylinux_2_17_x86_64.manylinux2014_x86_64.whl (77 kB)\n",
            "\u001b[2K   \u001b[90m━━━━━━━━━━━━━━━━━━━━━━━━━━━━━━━━━━━━━━━━\u001b[0m \u001b[32m77.9/77.9 kB\u001b[0m \u001b[31m7.9 MB/s\u001b[0m eta \u001b[36m0:00:00\u001b[0m\n",
            "\u001b[?25hDownloading ffmpy-0.4.0-py3-none-any.whl (5.8 kB)\n",
            "Downloading pydub-0.25.1-py2.py3-none-any.whl (32 kB)\n",
            "Downloading jaxlib-0.4.30-cp310-cp310-manylinux2014_x86_64.whl (79.6 MB)\n",
            "\u001b[2K   \u001b[90m━━━━━━━━━━━━━━━━━━━━━━━━━━━━━━━━━━━━━━━━\u001b[0m \u001b[32m79.6/79.6 MB\u001b[0m \u001b[31m9.3 MB/s\u001b[0m eta \u001b[36m0:00:00\u001b[0m\n",
            "\u001b[?25hDownloading lit-18.1.8-py3-none-any.whl (96 kB)\n",
            "\u001b[2K   \u001b[90m━━━━━━━━━━━━━━━━━━━━━━━━━━━━━━━━━━━━━━━━\u001b[0m \u001b[32m96.4/96.4 kB\u001b[0m \u001b[31m8.5 MB/s\u001b[0m eta \u001b[36m0:00:00\u001b[0m\n",
            "\u001b[?25hBuilding wheels for collected packages: antlr4-python3-runtime\n",
            "  Building wheel for antlr4-python3-runtime (setup.py) ... \u001b[?25l\u001b[?25hdone\n",
            "  Created wheel for antlr4-python3-runtime: filename=antlr4_python3_runtime-4.9.3-py3-none-any.whl size=144555 sha256=a67a013afa2dd828cef253db6751bcde4373d476fb4bd9402ed1efbe953dc94a\n",
            "  Stored in directory: /root/.cache/pip/wheels/12/93/dd/1f6a127edc45659556564c5730f6d4e300888f4bca2d4c5a88\n",
            "Successfully built antlr4-python3-runtime\n",
            "Installing collected packages: tensorboard-plugin-wit, pydub, lit, antlr4-python3-runtime, wrapt, uvicorn, tomlkit, tensorflow-estimator, semantic-version, ruff, python-multipart, omegaconf, numpy, markupsafe, keras, gast, ffmpy, ffmpeg-python, aiofiles, starlette, opencv-python, tokenizers, safehttpx, jaxlib, gradio-client, google-auth-oauthlib, fastapi, diffusers, transformers, tensorboard, jax, gradio, tensorflow, spaces, triton, torch, torchvision, torchaudio, accelerate\n",
            "  Attempting uninstall: wrapt\n",
            "    Found existing installation: wrapt 1.17.0\n",
            "    Uninstalling wrapt-1.17.0:\n",
            "      Successfully uninstalled wrapt-1.17.0\n",
            "  Attempting uninstall: numpy\n",
            "    Found existing installation: numpy 1.26.4\n",
            "    Uninstalling numpy-1.26.4:\n",
            "      Successfully uninstalled numpy-1.26.4\n",
            "  Attempting uninstall: markupsafe\n",
            "    Found existing installation: MarkupSafe 3.0.2\n",
            "    Uninstalling MarkupSafe-3.0.2:\n",
            "      Successfully uninstalled MarkupSafe-3.0.2\n",
            "  Attempting uninstall: keras\n",
            "    Found existing installation: keras 3.5.0\n",
            "    Uninstalling keras-3.5.0:\n",
            "      Successfully uninstalled keras-3.5.0\n",
            "  Attempting uninstall: gast\n",
            "    Found existing installation: gast 0.6.0\n",
            "    Uninstalling gast-0.6.0:\n",
            "      Successfully uninstalled gast-0.6.0\n",
            "  Attempting uninstall: opencv-python\n",
            "    Found existing installation: opencv-python 4.10.0.84\n",
            "    Uninstalling opencv-python-4.10.0.84:\n",
            "      Successfully uninstalled opencv-python-4.10.0.84\n",
            "  Attempting uninstall: tokenizers\n",
            "    Found existing installation: tokenizers 0.20.3\n",
            "    Uninstalling tokenizers-0.20.3:\n",
            "      Successfully uninstalled tokenizers-0.20.3\n",
            "  Attempting uninstall: jaxlib\n",
            "    Found existing installation: jaxlib 0.4.33\n",
            "    Uninstalling jaxlib-0.4.33:\n",
            "      Successfully uninstalled jaxlib-0.4.33\n",
            "  Attempting uninstall: google-auth-oauthlib\n",
            "    Found existing installation: google-auth-oauthlib 1.2.1\n",
            "    Uninstalling google-auth-oauthlib-1.2.1:\n",
            "      Successfully uninstalled google-auth-oauthlib-1.2.1\n",
            "  Attempting uninstall: diffusers\n",
            "    Found existing installation: diffusers 0.31.0\n",
            "    Uninstalling diffusers-0.31.0:\n",
            "      Successfully uninstalled diffusers-0.31.0\n",
            "  Attempting uninstall: transformers\n",
            "    Found existing installation: transformers 4.46.3\n",
            "    Uninstalling transformers-4.46.3:\n",
            "      Successfully uninstalled transformers-4.46.3\n",
            "  Attempting uninstall: tensorboard\n",
            "    Found existing installation: tensorboard 2.17.1\n",
            "    Uninstalling tensorboard-2.17.1:\n",
            "      Successfully uninstalled tensorboard-2.17.1\n",
            "  Attempting uninstall: jax\n",
            "    Found existing installation: jax 0.4.33\n",
            "    Uninstalling jax-0.4.33:\n",
            "      Successfully uninstalled jax-0.4.33\n",
            "  Attempting uninstall: tensorflow\n",
            "    Found existing installation: tensorflow 2.17.1\n",
            "    Uninstalling tensorflow-2.17.1:\n",
            "      Successfully uninstalled tensorflow-2.17.1\n",
            "  Attempting uninstall: torch\n",
            "    Found existing installation: torch 2.5.1+cu121\n",
            "    Uninstalling torch-2.5.1+cu121:\n",
            "      Successfully uninstalled torch-2.5.1+cu121\n",
            "  Attempting uninstall: torchvision\n",
            "    Found existing installation: torchvision 0.20.1+cu121\n",
            "    Uninstalling torchvision-0.20.1+cu121:\n",
            "      Successfully uninstalled torchvision-0.20.1+cu121\n",
            "  Attempting uninstall: torchaudio\n",
            "    Found existing installation: torchaudio 2.5.1+cu121\n",
            "    Uninstalling torchaudio-2.5.1+cu121:\n",
            "      Successfully uninstalled torchaudio-2.5.1+cu121\n",
            "  Attempting uninstall: accelerate\n",
            "    Found existing installation: accelerate 1.1.1\n",
            "    Uninstalling accelerate-1.1.1:\n",
            "      Successfully uninstalled accelerate-1.1.1\n",
            "\u001b[31mERROR: pip's dependency resolver does not currently take into account all the packages that are installed. This behaviour is the source of the following dependency conflicts.\n",
            "albucore 0.0.19 requires numpy>=1.24.4, but you have numpy 1.23.5 which is incompatible.\n",
            "albumentations 1.4.20 requires numpy>=1.24.4, but you have numpy 1.23.5 which is incompatible.\n",
            "bigframes 1.29.0 requires numpy>=1.24.0, but you have numpy 1.23.5 which is incompatible.\n",
            "chex 0.1.88 requires numpy>=1.24.1, but you have numpy 1.23.5 which is incompatible.\n",
            "pandas-gbq 0.24.0 requires google-auth-oauthlib>=0.7.0, but you have google-auth-oauthlib 0.4.6 which is incompatible.\n",
            "sentence-transformers 3.2.1 requires transformers<5.0.0,>=4.41.0, but you have transformers 4.39.2 which is incompatible.\n",
            "tf-keras 2.17.0 requires tensorflow<2.18,>=2.17, but you have tensorflow 2.12.0 which is incompatible.\n",
            "xarray 2024.10.0 requires numpy>=1.24, but you have numpy 1.23.5 which is incompatible.\u001b[0m\u001b[31m\n",
            "\u001b[0mSuccessfully installed accelerate-0.28.0 aiofiles-23.2.1 antlr4-python3-runtime-4.9.3 diffusers-0.27.2 fastapi-0.115.6 ffmpeg-python-0.2.0 ffmpy-0.4.0 gast-0.4.0 google-auth-oauthlib-0.4.6 gradio-5.9.1 gradio-client-1.5.2 jax-0.4.30 jaxlib-0.4.30 keras-2.12.0 lit-18.1.8 markupsafe-2.1.5 numpy-1.23.5 omegaconf-2.3.0 opencv-python-4.9.0.80 pydub-0.25.1 python-multipart-0.0.20 ruff-0.8.3 safehttpx-0.1.6 semantic-version-2.10.0 spaces-0.31.1 starlette-0.41.3 tensorboard-2.12.0 tensorboard-plugin-wit-1.8.1 tensorflow-2.12.0 tensorflow-estimator-2.12.0 tokenizers-0.15.2 tomlkit-0.13.2 torch-2.0.1+cu118 torchaudio-2.0.2+cu118 torchvision-0.15.2+cu118 transformers-4.39.2 triton-2.0.0 uvicorn-0.34.0 wrapt-1.14.1\n"
          ]
        },
        {
          "data": {
            "application/vnd.colab-display-data+json": {
              "id": "f861785e2c7f4fef8b3eb64b478dd170",
              "pip_warning": {
                "packages": [
                  "numpy",
                  "pydevd_plugins"
                ]
              }
            }
          },
          "metadata": {},
          "output_type": "display_data"
        }
      ],
      "source": [
        "pip install -r /content/drive/MyDrive/Lip-Sync/MuseTalk/requirements.txt"
      ]
    },
    {
      "cell_type": "markdown",
      "metadata": {
        "id": "IIqea1hRbQwe"
      },
      "source": [
        "NOTE:\n",
        "1. Restart Runtime\n",
        "2. Run Next cell ( mmpose installation )\n",
        "3. **Don't Restart run time again**"
      ]
    },
    {
      "cell_type": "markdown",
      "metadata": {
        "id": "Wnpg4AYi-WrU"
      },
      "source": [
        "### Install MMpose"
      ]
    },
    {
      "cell_type": "code",
      "execution_count": 1,
      "metadata": {
        "colab": {
          "base_uri": "https://localhost:8080/",
          "height": 1000
        },
        "id": "390Oifb-pZe1",
        "outputId": "299677e7-9f24-485f-8a0d-74a26ffe3117"
      },
      "outputs": [
        {
          "name": "stdout",
          "output_type": "stream",
          "text": [
            "Collecting openmim\n",
            "  Downloading openmim-0.3.9-py2.py3-none-any.whl.metadata (16 kB)\n",
            "Requirement already satisfied: Click in /usr/local/lib/python3.10/dist-packages (from openmim) (8.1.7)\n",
            "Collecting colorama (from openmim)\n",
            "  Downloading colorama-0.4.6-py2.py3-none-any.whl.metadata (17 kB)\n",
            "Collecting model-index (from openmim)\n",
            "  Downloading model_index-0.1.11-py3-none-any.whl.metadata (3.9 kB)\n",
            "Collecting opendatalab (from openmim)\n",
            "  Downloading opendatalab-0.0.10-py3-none-any.whl.metadata (6.4 kB)\n",
            "Requirement already satisfied: pandas in /usr/local/lib/python3.10/dist-packages (from openmim) (2.2.2)\n",
            "Requirement already satisfied: pip>=19.3 in /usr/local/lib/python3.10/dist-packages (from openmim) (24.1.2)\n",
            "Requirement already satisfied: requests in /usr/local/lib/python3.10/dist-packages (from openmim) (2.32.3)\n",
            "Requirement already satisfied: rich in /usr/local/lib/python3.10/dist-packages (from openmim) (13.9.4)\n",
            "Requirement already satisfied: tabulate in /usr/local/lib/python3.10/dist-packages (from openmim) (0.9.0)\n",
            "Requirement already satisfied: pyyaml in /usr/local/lib/python3.10/dist-packages (from model-index->openmim) (6.0.2)\n",
            "Requirement already satisfied: markdown in /usr/local/lib/python3.10/dist-packages (from model-index->openmim) (3.7)\n",
            "Collecting ordered-set (from model-index->openmim)\n",
            "  Downloading ordered_set-4.1.0-py3-none-any.whl.metadata (5.3 kB)\n",
            "Collecting pycryptodome (from opendatalab->openmim)\n",
            "  Downloading pycryptodome-3.21.0-cp36-abi3-manylinux_2_17_x86_64.manylinux2014_x86_64.whl.metadata (3.4 kB)\n",
            "Requirement already satisfied: tqdm in /usr/local/lib/python3.10/dist-packages (from opendatalab->openmim) (4.66.6)\n",
            "Collecting openxlab (from opendatalab->openmim)\n",
            "  Downloading openxlab-0.1.2-py3-none-any.whl.metadata (3.8 kB)\n",
            "Requirement already satisfied: charset-normalizer<4,>=2 in /usr/local/lib/python3.10/dist-packages (from requests->openmim) (3.4.0)\n",
            "Requirement already satisfied: idna<4,>=2.5 in /usr/local/lib/python3.10/dist-packages (from requests->openmim) (3.10)\n",
            "Requirement already satisfied: urllib3<3,>=1.21.1 in /usr/local/lib/python3.10/dist-packages (from requests->openmim) (2.2.3)\n",
            "Requirement already satisfied: certifi>=2017.4.17 in /usr/local/lib/python3.10/dist-packages (from requests->openmim) (2024.8.30)\n",
            "Requirement already satisfied: numpy>=1.22.4 in /usr/local/lib/python3.10/dist-packages (from pandas->openmim) (1.23.5)\n",
            "Requirement already satisfied: python-dateutil>=2.8.2 in /usr/local/lib/python3.10/dist-packages (from pandas->openmim) (2.8.2)\n",
            "Requirement already satisfied: pytz>=2020.1 in /usr/local/lib/python3.10/dist-packages (from pandas->openmim) (2024.2)\n",
            "Requirement already satisfied: tzdata>=2022.7 in /usr/local/lib/python3.10/dist-packages (from pandas->openmim) (2024.2)\n",
            "Requirement already satisfied: markdown-it-py>=2.2.0 in /usr/local/lib/python3.10/dist-packages (from rich->openmim) (3.0.0)\n",
            "Requirement already satisfied: pygments<3.0.0,>=2.13.0 in /usr/local/lib/python3.10/dist-packages (from rich->openmim) (2.18.0)\n",
            "Requirement already satisfied: typing-extensions<5.0,>=4.0.0 in /usr/local/lib/python3.10/dist-packages (from rich->openmim) (4.12.2)\n",
            "Requirement already satisfied: mdurl~=0.1 in /usr/local/lib/python3.10/dist-packages (from markdown-it-py>=2.2.0->rich->openmim) (0.1.2)\n",
            "Requirement already satisfied: six>=1.5 in /usr/local/lib/python3.10/dist-packages (from python-dateutil>=2.8.2->pandas->openmim) (1.17.0)\n",
            "Collecting filelock~=3.14.0 (from openxlab->opendatalab->openmim)\n",
            "  Downloading filelock-3.14.0-py3-none-any.whl.metadata (2.8 kB)\n",
            "Collecting oss2~=2.17.0 (from openxlab->opendatalab->openmim)\n",
            "  Downloading oss2-2.17.0.tar.gz (259 kB)\n",
            "\u001b[2K     \u001b[90m━━━━━━━━━━━━━━━━━━━━━━━━━━━━━━━━━━━━━━━━\u001b[0m \u001b[32m259.5/259.5 kB\u001b[0m \u001b[31m17.1 MB/s\u001b[0m eta \u001b[36m0:00:00\u001b[0m\n",
            "\u001b[?25h  Preparing metadata (setup.py) ... \u001b[?25l\u001b[?25hdone\n",
            "Requirement already satisfied: packaging~=24.0 in /usr/local/lib/python3.10/dist-packages (from openxlab->opendatalab->openmim) (24.2)\n",
            "Collecting pytz>=2020.1 (from pandas->openmim)\n",
            "  Downloading pytz-2023.4-py2.py3-none-any.whl.metadata (22 kB)\n",
            "Collecting requests (from openmim)\n",
            "  Downloading requests-2.28.2-py3-none-any.whl.metadata (4.6 kB)\n",
            "Collecting rich (from openmim)\n",
            "  Downloading rich-13.4.2-py3-none-any.whl.metadata (18 kB)\n",
            "Collecting setuptools~=60.2.0 (from openxlab->opendatalab->openmim)\n",
            "  Downloading setuptools-60.2.0-py3-none-any.whl.metadata (5.1 kB)\n",
            "Collecting tqdm (from opendatalab->openmim)\n",
            "  Downloading tqdm-4.65.2-py3-none-any.whl.metadata (56 kB)\n",
            "\u001b[2K     \u001b[90m━━━━━━━━━━━━━━━━━━━━━━━━━━━━━━━━━━━━━━━━\u001b[0m \u001b[32m57.0/57.0 kB\u001b[0m \u001b[31m185.3 MB/s\u001b[0m eta \u001b[36m0:00:00\u001b[0m\n",
            "\u001b[?25hCollecting urllib3<1.27,>=1.21.1 (from requests->openmim)\n",
            "  Downloading urllib3-1.26.20-py2.py3-none-any.whl.metadata (50 kB)\n",
            "\u001b[2K     \u001b[90m━━━━━━━━━━━━━━━━━━━━━━━━━━━━━━━━━━━━━━━━\u001b[0m \u001b[32m50.1/50.1 kB\u001b[0m \u001b[31m119.7 MB/s\u001b[0m eta \u001b[36m0:00:00\u001b[0m\n",
            "\u001b[?25hCollecting crcmod>=1.7 (from oss2~=2.17.0->openxlab->opendatalab->openmim)\n",
            "  Downloading crcmod-1.7.tar.gz (89 kB)\n",
            "\u001b[2K     \u001b[90m━━━━━━━━━━━━━━━━━━━━━━━━━━━━━━━━━━━━━━━━\u001b[0m \u001b[32m89.7/89.7 kB\u001b[0m \u001b[31m190.7 MB/s\u001b[0m eta \u001b[36m0:00:00\u001b[0m\n",
            "\u001b[?25h  Preparing metadata (setup.py) ... \u001b[?25l\u001b[?25hdone\n",
            "Collecting aliyun-python-sdk-kms>=2.4.1 (from oss2~=2.17.0->openxlab->opendatalab->openmim)\n",
            "  Downloading aliyun_python_sdk_kms-2.16.5-py2.py3-none-any.whl.metadata (1.5 kB)\n",
            "Collecting aliyun-python-sdk-core>=2.13.12 (from oss2~=2.17.0->openxlab->opendatalab->openmim)\n",
            "  Downloading aliyun-python-sdk-core-2.16.0.tar.gz (449 kB)\n",
            "\u001b[2K     \u001b[90m━━━━━━━━━━━━━━━━━━━━━━━━━━━━━━━━━━━━━━━━\u001b[0m \u001b[32m449.6/449.6 kB\u001b[0m \u001b[31m136.3 MB/s\u001b[0m eta \u001b[36m0:00:00\u001b[0m\n",
            "\u001b[?25h  Preparing metadata (setup.py) ... \u001b[?25l\u001b[?25hdone\n",
            "Collecting jmespath<1.0.0,>=0.9.3 (from aliyun-python-sdk-core>=2.13.12->oss2~=2.17.0->openxlab->opendatalab->openmim)\n",
            "  Downloading jmespath-0.10.0-py2.py3-none-any.whl.metadata (8.0 kB)\n",
            "Requirement already satisfied: cryptography>=3.0.0 in /usr/local/lib/python3.10/dist-packages (from aliyun-python-sdk-core>=2.13.12->oss2~=2.17.0->openxlab->opendatalab->openmim) (43.0.3)\n",
            "Requirement already satisfied: cffi>=1.12 in /usr/local/lib/python3.10/dist-packages (from cryptography>=3.0.0->aliyun-python-sdk-core>=2.13.12->oss2~=2.17.0->openxlab->opendatalab->openmim) (1.17.1)\n",
            "Requirement already satisfied: pycparser in /usr/local/lib/python3.10/dist-packages (from cffi>=1.12->cryptography>=3.0.0->aliyun-python-sdk-core>=2.13.12->oss2~=2.17.0->openxlab->opendatalab->openmim) (2.22)\n",
            "Downloading openmim-0.3.9-py2.py3-none-any.whl (52 kB)\n",
            "\u001b[2K   \u001b[90m━━━━━━━━━━━━━━━━━━━━━━━━━━━━━━━━━━━━━━━━\u001b[0m \u001b[32m52.7/52.7 kB\u001b[0m \u001b[31m150.6 MB/s\u001b[0m eta \u001b[36m0:00:00\u001b[0m\n",
            "\u001b[?25hDownloading colorama-0.4.6-py2.py3-none-any.whl (25 kB)\n",
            "Downloading model_index-0.1.11-py3-none-any.whl (34 kB)\n",
            "Downloading opendatalab-0.0.10-py3-none-any.whl (29 kB)\n",
            "Downloading openxlab-0.1.2-py3-none-any.whl (311 kB)\n",
            "\u001b[2K   \u001b[90m━━━━━━━━━━━━━━━━━━━━━━━━━━━━━━━━━━━━━━━━\u001b[0m \u001b[32m311.5/311.5 kB\u001b[0m \u001b[31m208.7 MB/s\u001b[0m eta \u001b[36m0:00:00\u001b[0m\n",
            "\u001b[?25hDownloading requests-2.28.2-py3-none-any.whl (62 kB)\n",
            "\u001b[2K   \u001b[90m━━━━━━━━━━━━━━━━━━━━━━━━━━━━━━━━━━━━━━━━\u001b[0m \u001b[32m62.8/62.8 kB\u001b[0m \u001b[31m145.5 MB/s\u001b[0m eta \u001b[36m0:00:00\u001b[0m\n",
            "\u001b[?25hDownloading rich-13.4.2-py3-none-any.whl (239 kB)\n",
            "\u001b[2K   \u001b[90m━━━━━━━━━━━━━━━━━━━━━━━━━━━━━━━━━━━━━━━━\u001b[0m \u001b[32m239.4/239.4 kB\u001b[0m \u001b[31m203.1 MB/s\u001b[0m eta \u001b[36m0:00:00\u001b[0m\n",
            "\u001b[?25hDownloading pytz-2023.4-py2.py3-none-any.whl (506 kB)\n",
            "\u001b[2K   \u001b[90m━━━━━━━━━━━━━━━━━━━━━━━━━━━━━━━━━━━━━━━━\u001b[0m \u001b[32m506.5/506.5 kB\u001b[0m \u001b[31m207.0 MB/s\u001b[0m eta \u001b[36m0:00:00\u001b[0m\n",
            "\u001b[?25hDownloading tqdm-4.65.2-py3-none-any.whl (77 kB)\n",
            "\u001b[2K   \u001b[90m━━━━━━━━━━━━━━━━━━━━━━━━━━━━━━━━━━━━━━━━\u001b[0m \u001b[32m77.1/77.1 kB\u001b[0m \u001b[31m149.0 MB/s\u001b[0m eta \u001b[36m0:00:00\u001b[0m\n",
            "\u001b[?25hDownloading urllib3-1.26.20-py2.py3-none-any.whl (144 kB)\n",
            "\u001b[2K   \u001b[90m━━━━━━━━━━━━━━━━━━━━━━━━━━━━━━━━━━━━━━━━\u001b[0m \u001b[32m144.2/144.2 kB\u001b[0m \u001b[31m177.2 MB/s\u001b[0m eta \u001b[36m0:00:00\u001b[0m\n",
            "\u001b[?25hDownloading ordered_set-4.1.0-py3-none-any.whl (7.6 kB)\n",
            "Downloading pycryptodome-3.21.0-cp36-abi3-manylinux_2_17_x86_64.manylinux2014_x86_64.whl (2.3 MB)\n",
            "\u001b[2K   \u001b[90m━━━━━━━━━━━━━━━━━━━━━━━━━━━━━━━━━━━━━━━━\u001b[0m \u001b[32m2.3/2.3 MB\u001b[0m \u001b[31m75.1 MB/s\u001b[0m eta \u001b[36m0:00:00\u001b[0m\n",
            "\u001b[?25hDownloading filelock-3.14.0-py3-none-any.whl (12 kB)\n",
            "Downloading setuptools-60.2.0-py3-none-any.whl (953 kB)\n",
            "\u001b[2K   \u001b[90m━━━━━━━━━━━━━━━━━━━━━━━━━━━━━━━━━━━━━━━━\u001b[0m \u001b[32m953.1/953.1 kB\u001b[0m \u001b[31m282.3 MB/s\u001b[0m eta \u001b[36m0:00:00\u001b[0m\n",
            "\u001b[?25hDownloading aliyun_python_sdk_kms-2.16.5-py2.py3-none-any.whl (99 kB)\n",
            "\u001b[2K   \u001b[90m━━━━━━━━━━━━━━━━━━━━━━━━━━━━━━━━━━━━━━━━\u001b[0m \u001b[32m99.5/99.5 kB\u001b[0m \u001b[31m190.9 MB/s\u001b[0m eta \u001b[36m0:00:00\u001b[0m\n",
            "\u001b[?25hDownloading jmespath-0.10.0-py2.py3-none-any.whl (24 kB)\n",
            "Building wheels for collected packages: oss2, aliyun-python-sdk-core, crcmod\n",
            "  Building wheel for oss2 (setup.py) ... \u001b[?25l\u001b[?25hdone\n",
            "  Created wheel for oss2: filename=oss2-2.17.0-py3-none-any.whl size=112372 sha256=44c09f800ba9b8bf5691ce66c40ed66bf1fdae8750fddecbdc4dde6d5d908761\n",
            "  Stored in directory: /tmp/pip-ephem-wheel-cache-qo0kpx3a/wheels/87/04/7b/7e61b8157fdf211c5131375240d0d86ca82e2a88ead9672c88\n",
            "  Building wheel for aliyun-python-sdk-core (setup.py) ... \u001b[?25l\u001b[?25hdone\n",
            "  Created wheel for aliyun-python-sdk-core: filename=aliyun_python_sdk_core-2.16.0-py3-none-any.whl size=535316 sha256=e9d59c0725e1a1fb39ae1db102637baae06fed3b15c590240d3bcc9e454b2dc3\n",
            "  Stored in directory: /tmp/pip-ephem-wheel-cache-qo0kpx3a/wheels/35/11/5e/08e7cb4e03a3e83b4862edd12d1143c8d3936a3dd57a3ee46d\n",
            "  Building wheel for crcmod (setup.py) ... \u001b[?25l\u001b[?25hdone\n",
            "  Created wheel for crcmod: filename=crcmod-1.7-cp310-cp310-linux_x86_64.whl size=31405 sha256=050098073bf61d9203630acd3be593c30061a950d0de448ddddbadec7b3b9355\n",
            "  Stored in directory: /tmp/pip-ephem-wheel-cache-qo0kpx3a/wheels/85/4c/07/72215c529bd59d67e3dac29711d7aba1b692f543c808ba9e86\n",
            "Successfully built oss2 aliyun-python-sdk-core crcmod\n",
            "Installing collected packages: pytz, crcmod, urllib3, tqdm, setuptools, pycryptodome, ordered-set, jmespath, filelock, colorama, rich, requests, model-index, aliyun-python-sdk-core, aliyun-python-sdk-kms, oss2, openxlab, opendatalab, openmim\n",
            "  Attempting uninstall: pytz\n",
            "    Found existing installation: pytz 2024.2\n",
            "    Uninstalling pytz-2024.2:\n",
            "      Successfully uninstalled pytz-2024.2\n",
            "  Attempting uninstall: urllib3\n",
            "    Found existing installation: urllib3 2.2.3\n",
            "    Uninstalling urllib3-2.2.3:\n",
            "      Successfully uninstalled urllib3-2.2.3\n",
            "  Attempting uninstall: tqdm\n",
            "    Found existing installation: tqdm 4.66.6\n",
            "    Uninstalling tqdm-4.66.6:\n",
            "      Successfully uninstalled tqdm-4.66.6\n",
            "  Attempting uninstall: setuptools\n",
            "    Found existing installation: setuptools 75.1.0\n",
            "    Uninstalling setuptools-75.1.0:\n",
            "      Successfully uninstalled setuptools-75.1.0\n",
            "  Attempting uninstall: filelock\n",
            "    Found existing installation: filelock 3.16.1\n",
            "    Uninstalling filelock-3.16.1:\n",
            "      Successfully uninstalled filelock-3.16.1\n",
            "  Attempting uninstall: rich\n",
            "    Found existing installation: rich 13.9.4\n",
            "    Uninstalling rich-13.9.4:\n",
            "      Successfully uninstalled rich-13.9.4\n",
            "  Attempting uninstall: requests\n",
            "    Found existing installation: requests 2.32.3\n",
            "    Uninstalling requests-2.32.3:\n",
            "      Successfully uninstalled requests-2.32.3\n",
            "\u001b[31mERROR: pip's dependency resolver does not currently take into account all the packages that are installed. This behaviour is the source of the following dependency conflicts.\n",
            "ipython 7.34.0 requires jedi>=0.16, which is not installed.\n",
            "bigframes 1.29.0 requires numpy>=1.24.0, but you have numpy 1.23.5 which is incompatible.\n",
            "google-colab 1.0.0 requires requests==2.32.3, but you have requests 2.28.2 which is incompatible.\n",
            "pandas-gbq 0.24.0 requires google-auth-oauthlib>=0.7.0, but you have google-auth-oauthlib 0.4.6 which is incompatible.\n",
            "pymc 5.18.2 requires rich>=13.7.1, but you have rich 13.4.2 which is incompatible.\n",
            "pytensor 2.26.4 requires filelock>=3.15, but you have filelock 3.14.0 which is incompatible.\n",
            "sentence-transformers 3.2.1 requires transformers<5.0.0,>=4.41.0, but you have transformers 4.39.2 which is incompatible.\n",
            "sphinx 8.1.3 requires requests>=2.30.0, but you have requests 2.28.2 which is incompatible.\n",
            "tf-keras 2.17.0 requires tensorflow<2.18,>=2.17, but you have tensorflow 2.12.0 which is incompatible.\n",
            "xarray 2024.10.0 requires numpy>=1.24, but you have numpy 1.23.5 which is incompatible.\n",
            "yfinance 0.2.50 requires requests>=2.31, but you have requests 2.28.2 which is incompatible.\u001b[0m\u001b[31m\n",
            "\u001b[0mSuccessfully installed aliyun-python-sdk-core-2.16.0 aliyun-python-sdk-kms-2.16.5 colorama-0.4.6 crcmod-1.7 filelock-3.14.0 jmespath-0.10.0 model-index-0.1.11 opendatalab-0.0.10 openmim-0.3.9 openxlab-0.1.2 ordered-set-4.1.0 oss2-2.17.0 pycryptodome-3.21.0 pytz-2023.4 requests-2.28.2 rich-13.4.2 setuptools-60.2.0 tqdm-4.65.2 urllib3-1.26.20\n"
          ]
        },
        {
          "data": {
            "application/vnd.colab-display-data+json": {
              "id": "040ece1a75d54d409f950b9f87b396af",
              "pip_warning": {
                "packages": [
                  "_distutils_hack",
                  "pkg_resources",
                  "setuptools"
                ]
              }
            }
          },
          "metadata": {},
          "output_type": "display_data"
        },
        {
          "name": "stdout",
          "output_type": "stream",
          "text": [
            "Looking in links: https://download.openmmlab.com/mmcv/dist/cu118/torch2.0.0/index.html\n",
            "Collecting mmengine\n",
            "  Downloading mmengine-0.10.5-py3-none-any.whl.metadata (20 kB)\n",
            "Collecting addict (from mmengine)\n",
            "  Downloading addict-2.4.0-py3-none-any.whl.metadata (1.0 kB)\n",
            "Requirement already satisfied: matplotlib in /usr/local/lib/python3.10/dist-packages (from mmengine) (3.8.0)\n",
            "Requirement already satisfied: numpy in /usr/local/lib/python3.10/dist-packages (from mmengine) (1.23.5)\n",
            "Requirement already satisfied: pyyaml in /usr/local/lib/python3.10/dist-packages (from mmengine) (6.0.2)\n",
            "Requirement already satisfied: rich in /usr/local/lib/python3.10/dist-packages (from mmengine) (13.4.2)\n",
            "Requirement already satisfied: termcolor in /usr/local/lib/python3.10/dist-packages (from mmengine) (2.5.0)\n",
            "Collecting yapf (from mmengine)\n",
            "  Downloading yapf-0.43.0-py3-none-any.whl.metadata (46 kB)\n",
            "\u001b[2K     \u001b[90m━━━━━━━━━━━━━━━━━━━━━━━━━━━━━━━━━━━━━━━━\u001b[0m \u001b[32m46.8/46.8 kB\u001b[0m \u001b[31m3.0 MB/s\u001b[0m eta \u001b[36m0:00:00\u001b[0m\n",
            "\u001b[?25hRequirement already satisfied: opencv-python>=3 in /usr/local/lib/python3.10/dist-packages (from mmengine) (4.9.0.80)\n",
            "Requirement already satisfied: contourpy>=1.0.1 in /usr/local/lib/python3.10/dist-packages (from matplotlib->mmengine) (1.3.1)\n",
            "Requirement already satisfied: cycler>=0.10 in /usr/local/lib/python3.10/dist-packages (from matplotlib->mmengine) (0.12.1)\n",
            "Requirement already satisfied: fonttools>=4.22.0 in /usr/local/lib/python3.10/dist-packages (from matplotlib->mmengine) (4.55.3)\n",
            "Requirement already satisfied: kiwisolver>=1.0.1 in /usr/local/lib/python3.10/dist-packages (from matplotlib->mmengine) (1.4.7)\n",
            "Requirement already satisfied: packaging>=20.0 in /usr/local/lib/python3.10/dist-packages (from matplotlib->mmengine) (24.2)\n",
            "Requirement already satisfied: pillow>=6.2.0 in /usr/local/lib/python3.10/dist-packages (from matplotlib->mmengine) (11.0.0)\n",
            "Requirement already satisfied: pyparsing>=2.3.1 in /usr/local/lib/python3.10/dist-packages (from matplotlib->mmengine) (3.2.0)\n",
            "Requirement already satisfied: python-dateutil>=2.7 in /usr/local/lib/python3.10/dist-packages (from matplotlib->mmengine) (2.8.2)\n",
            "Requirement already satisfied: markdown-it-py>=2.2.0 in /usr/local/lib/python3.10/dist-packages (from rich->mmengine) (3.0.0)\n",
            "Requirement already satisfied: pygments<3.0.0,>=2.13.0 in /usr/local/lib/python3.10/dist-packages (from rich->mmengine) (2.18.0)\n",
            "Requirement already satisfied: platformdirs>=3.5.1 in /usr/local/lib/python3.10/dist-packages (from yapf->mmengine) (4.3.6)\n",
            "Requirement already satisfied: tomli>=2.0.1 in /usr/local/lib/python3.10/dist-packages (from yapf->mmengine) (2.2.1)\n",
            "Requirement already satisfied: mdurl~=0.1 in /usr/local/lib/python3.10/dist-packages (from markdown-it-py>=2.2.0->rich->mmengine) (0.1.2)\n",
            "Requirement already satisfied: six>=1.5 in /usr/local/lib/python3.10/dist-packages (from python-dateutil>=2.7->matplotlib->mmengine) (1.17.0)\n",
            "Downloading mmengine-0.10.5-py3-none-any.whl (452 kB)\n",
            "\u001b[2K   \u001b[90m━━━━━━━━━━━━━━━━━━━━━━━━━━━━━━━━━━━━━━━━\u001b[0m \u001b[32m452.3/452.3 kB\u001b[0m \u001b[31m18.8 MB/s\u001b[0m eta \u001b[36m0:00:00\u001b[0m\n",
            "\u001b[?25hDownloading addict-2.4.0-py3-none-any.whl (3.8 kB)\n",
            "Downloading yapf-0.43.0-py3-none-any.whl (256 kB)\n",
            "\u001b[2K   \u001b[90m━━━━━━━━━━━━━━━━━━━━━━━━━━━━━━━━━━━━━━━━\u001b[0m \u001b[32m256.2/256.2 kB\u001b[0m \u001b[31m7.7 MB/s\u001b[0m eta \u001b[36m0:00:00\u001b[0m\n",
            "\u001b[?25hInstalling collected packages: addict, yapf, mmengine\n",
            "Successfully installed addict-2.4.0 mmengine-0.10.5 yapf-0.43.0\n",
            "Looking in links: https://download.openmmlab.com/mmcv/dist/cu118/torch2.0.0/index.html\n",
            "Collecting mmcv<2.2.0,>=2.0.0rc4\n",
            "  Downloading https://download.openmmlab.com/mmcv/dist/cu118/torch2.0.0/mmcv-2.1.0-cp310-cp310-manylinux1_x86_64.whl (98.6 MB)\n",
            "\u001b[2K     \u001b[90m━━━━━━━━━━━━━━━━━━━━━━━━━━━━━━━━━━━━━━━━\u001b[0m \u001b[32m98.6/98.6 MB\u001b[0m \u001b[31m7.4 MB/s\u001b[0m eta \u001b[36m0:00:00\u001b[0m\n",
            "\u001b[?25hRequirement already satisfied: addict in /usr/local/lib/python3.10/dist-packages (from mmcv<2.2.0,>=2.0.0rc4) (2.4.0)\n",
            "Requirement already satisfied: mmengine>=0.3.0 in /usr/local/lib/python3.10/dist-packages (from mmcv<2.2.0,>=2.0.0rc4) (0.10.5)\n",
            "Requirement already satisfied: numpy in /usr/local/lib/python3.10/dist-packages (from mmcv<2.2.0,>=2.0.0rc4) (1.23.5)\n",
            "Requirement already satisfied: packaging in /usr/local/lib/python3.10/dist-packages (from mmcv<2.2.0,>=2.0.0rc4) (24.2)\n",
            "Requirement already satisfied: Pillow in /usr/local/lib/python3.10/dist-packages (from mmcv<2.2.0,>=2.0.0rc4) (11.0.0)\n",
            "Requirement already satisfied: pyyaml in /usr/local/lib/python3.10/dist-packages (from mmcv<2.2.0,>=2.0.0rc4) (6.0.2)\n",
            "Requirement already satisfied: yapf in /usr/local/lib/python3.10/dist-packages (from mmcv<2.2.0,>=2.0.0rc4) (0.43.0)\n",
            "Requirement already satisfied: opencv-python>=3 in /usr/local/lib/python3.10/dist-packages (from mmcv<2.2.0,>=2.0.0rc4) (4.9.0.80)\n",
            "Requirement already satisfied: matplotlib in /usr/local/lib/python3.10/dist-packages (from mmengine>=0.3.0->mmcv<2.2.0,>=2.0.0rc4) (3.8.0)\n",
            "Requirement already satisfied: rich in /usr/local/lib/python3.10/dist-packages (from mmengine>=0.3.0->mmcv<2.2.0,>=2.0.0rc4) (13.4.2)\n",
            "Requirement already satisfied: termcolor in /usr/local/lib/python3.10/dist-packages (from mmengine>=0.3.0->mmcv<2.2.0,>=2.0.0rc4) (2.5.0)\n",
            "Requirement already satisfied: platformdirs>=3.5.1 in /usr/local/lib/python3.10/dist-packages (from yapf->mmcv<2.2.0,>=2.0.0rc4) (4.3.6)\n",
            "Requirement already satisfied: tomli>=2.0.1 in /usr/local/lib/python3.10/dist-packages (from yapf->mmcv<2.2.0,>=2.0.0rc4) (2.2.1)\n",
            "Requirement already satisfied: contourpy>=1.0.1 in /usr/local/lib/python3.10/dist-packages (from matplotlib->mmengine>=0.3.0->mmcv<2.2.0,>=2.0.0rc4) (1.3.1)\n",
            "Requirement already satisfied: cycler>=0.10 in /usr/local/lib/python3.10/dist-packages (from matplotlib->mmengine>=0.3.0->mmcv<2.2.0,>=2.0.0rc4) (0.12.1)\n",
            "Requirement already satisfied: fonttools>=4.22.0 in /usr/local/lib/python3.10/dist-packages (from matplotlib->mmengine>=0.3.0->mmcv<2.2.0,>=2.0.0rc4) (4.55.3)\n",
            "Requirement already satisfied: kiwisolver>=1.0.1 in /usr/local/lib/python3.10/dist-packages (from matplotlib->mmengine>=0.3.0->mmcv<2.2.0,>=2.0.0rc4) (1.4.7)\n",
            "Requirement already satisfied: pyparsing>=2.3.1 in /usr/local/lib/python3.10/dist-packages (from matplotlib->mmengine>=0.3.0->mmcv<2.2.0,>=2.0.0rc4) (3.2.0)\n",
            "Requirement already satisfied: python-dateutil>=2.7 in /usr/local/lib/python3.10/dist-packages (from matplotlib->mmengine>=0.3.0->mmcv<2.2.0,>=2.0.0rc4) (2.8.2)\n",
            "Requirement already satisfied: markdown-it-py>=2.2.0 in /usr/local/lib/python3.10/dist-packages (from rich->mmengine>=0.3.0->mmcv<2.2.0,>=2.0.0rc4) (3.0.0)\n",
            "Requirement already satisfied: pygments<3.0.0,>=2.13.0 in /usr/local/lib/python3.10/dist-packages (from rich->mmengine>=0.3.0->mmcv<2.2.0,>=2.0.0rc4) (2.18.0)\n",
            "Requirement already satisfied: mdurl~=0.1 in /usr/local/lib/python3.10/dist-packages (from markdown-it-py>=2.2.0->rich->mmengine>=0.3.0->mmcv<2.2.0,>=2.0.0rc4) (0.1.2)\n",
            "Requirement already satisfied: six>=1.5 in /usr/local/lib/python3.10/dist-packages (from python-dateutil>=2.7->matplotlib->mmengine>=0.3.0->mmcv<2.2.0,>=2.0.0rc4) (1.17.0)\n",
            "Installing collected packages: mmcv\n",
            "Successfully installed mmcv-2.1.0\n",
            "Looking in links: https://download.openmmlab.com/mmcv/dist/cu118/torch2.0.0/index.html\n",
            "Collecting mmdet>=3.1.0\n",
            "  Downloading mmdet-3.3.0-py3-none-any.whl.metadata (29 kB)\n",
            "Ignoring mmcv: markers 'extra == \"mim\"' don't match your environment\n",
            "Ignoring mmengine: markers 'extra == \"mim\"' don't match your environment\n",
            "Requirement already satisfied: matplotlib in /usr/local/lib/python3.10/dist-packages (from mmdet>=3.1.0) (3.8.0)\n",
            "Requirement already satisfied: numpy in /usr/local/lib/python3.10/dist-packages (from mmdet>=3.1.0) (1.23.5)\n",
            "Requirement already satisfied: pycocotools in /usr/local/lib/python3.10/dist-packages (from mmdet>=3.1.0) (2.0.8)\n",
            "Requirement already satisfied: scipy in /usr/local/lib/python3.10/dist-packages (from mmdet>=3.1.0) (1.13.1)\n",
            "Requirement already satisfied: shapely in /usr/local/lib/python3.10/dist-packages (from mmdet>=3.1.0) (2.0.6)\n",
            "Requirement already satisfied: six in /usr/local/lib/python3.10/dist-packages (from mmdet>=3.1.0) (1.17.0)\n",
            "Collecting terminaltables (from mmdet>=3.1.0)\n",
            "  Downloading terminaltables-3.1.10-py2.py3-none-any.whl.metadata (3.5 kB)\n",
            "Requirement already satisfied: tqdm in /usr/local/lib/python3.10/dist-packages (from mmdet>=3.1.0) (4.65.2)\n",
            "Requirement already satisfied: contourpy>=1.0.1 in /usr/local/lib/python3.10/dist-packages (from matplotlib->mmdet>=3.1.0) (1.3.1)\n",
            "Requirement already satisfied: cycler>=0.10 in /usr/local/lib/python3.10/dist-packages (from matplotlib->mmdet>=3.1.0) (0.12.1)\n",
            "Requirement already satisfied: fonttools>=4.22.0 in /usr/local/lib/python3.10/dist-packages (from matplotlib->mmdet>=3.1.0) (4.55.3)\n",
            "Requirement already satisfied: kiwisolver>=1.0.1 in /usr/local/lib/python3.10/dist-packages (from matplotlib->mmdet>=3.1.0) (1.4.7)\n",
            "Requirement already satisfied: packaging>=20.0 in /usr/local/lib/python3.10/dist-packages (from matplotlib->mmdet>=3.1.0) (24.2)\n",
            "Requirement already satisfied: pillow>=6.2.0 in /usr/local/lib/python3.10/dist-packages (from matplotlib->mmdet>=3.1.0) (11.0.0)\n",
            "Requirement already satisfied: pyparsing>=2.3.1 in /usr/local/lib/python3.10/dist-packages (from matplotlib->mmdet>=3.1.0) (3.2.0)\n",
            "Requirement already satisfied: python-dateutil>=2.7 in /usr/local/lib/python3.10/dist-packages (from matplotlib->mmdet>=3.1.0) (2.8.2)\n",
            "Downloading mmdet-3.3.0-py3-none-any.whl (2.2 MB)\n",
            "\u001b[2K   \u001b[90m━━━━━━━━━━━━━━━━━━━━━━━━━━━━━━━━━━━━━━━━\u001b[0m \u001b[32m2.2/2.2 MB\u001b[0m \u001b[31m41.9 MB/s\u001b[0m eta \u001b[36m0:00:00\u001b[0m\n",
            "\u001b[?25hDownloading terminaltables-3.1.10-py2.py3-none-any.whl (15 kB)\n",
            "Installing collected packages: terminaltables, mmdet\n",
            "Successfully installed mmdet-3.3.0 terminaltables-3.1.10\n",
            "Looking in links: https://download.openmmlab.com/mmcv/dist/cu118/torch2.0.0/index.html\n",
            "Collecting mmpose>=1.1.0\n",
            "  Downloading mmpose-1.3.2-py2.py3-none-any.whl.metadata (29 kB)\n",
            "Ignoring mmcv: markers 'extra == \"mim\"' don't match your environment\n",
            "Ignoring mmdet: markers 'extra == \"mim\"' don't match your environment\n",
            "Ignoring mmengine: markers 'extra == \"mim\"' don't match your environment\n",
            "Collecting chumpy (from mmpose>=1.1.0)\n",
            "  Downloading chumpy-0.70.tar.gz (50 kB)\n",
            "\u001b[2K     \u001b[90m━━━━━━━━━━━━━━━━━━━━━━━━━━━━━━━━━━━━━━━━\u001b[0m \u001b[32m50.6/50.6 kB\u001b[0m \u001b[31m3.0 MB/s\u001b[0m eta \u001b[36m0:00:00\u001b[0m\n",
            "\u001b[?25h  Preparing metadata (setup.py) ... \u001b[?25l\u001b[?25hdone\n",
            "Collecting json-tricks (from mmpose>=1.1.0)\n",
            "  Downloading json_tricks-3.17.3-py2.py3-none-any.whl.metadata (16 kB)\n",
            "Requirement already satisfied: matplotlib in /usr/local/lib/python3.10/dist-packages (from mmpose>=1.1.0) (3.8.0)\n",
            "Collecting munkres (from mmpose>=1.1.0)\n",
            "  Downloading munkres-1.1.4-py2.py3-none-any.whl.metadata (980 bytes)\n",
            "Requirement already satisfied: numpy in /usr/local/lib/python3.10/dist-packages (from mmpose>=1.1.0) (1.23.5)\n",
            "Requirement already satisfied: opencv-python in /usr/local/lib/python3.10/dist-packages (from mmpose>=1.1.0) (4.9.0.80)\n",
            "Requirement already satisfied: pillow in /usr/local/lib/python3.10/dist-packages (from mmpose>=1.1.0) (11.0.0)\n",
            "Requirement already satisfied: scipy in /usr/local/lib/python3.10/dist-packages (from mmpose>=1.1.0) (1.13.1)\n",
            "Requirement already satisfied: torchvision in /usr/local/lib/python3.10/dist-packages (from mmpose>=1.1.0) (0.15.2+cu118)\n",
            "Collecting xtcocotools>=1.12 (from mmpose>=1.1.0)\n",
            "  Downloading xtcocotools-1.14.3-cp310-cp310-manylinux1_x86_64.whl.metadata (364 bytes)\n",
            "Requirement already satisfied: setuptools>=18.0 in /usr/local/lib/python3.10/dist-packages (from xtcocotools>=1.12->mmpose>=1.1.0) (60.2.0)\n",
            "Requirement already satisfied: cython>=0.27.3 in /usr/local/lib/python3.10/dist-packages (from xtcocotools>=1.12->mmpose>=1.1.0) (3.0.11)\n",
            "Requirement already satisfied: contourpy>=1.0.1 in /usr/local/lib/python3.10/dist-packages (from matplotlib->mmpose>=1.1.0) (1.3.1)\n",
            "Requirement already satisfied: cycler>=0.10 in /usr/local/lib/python3.10/dist-packages (from matplotlib->mmpose>=1.1.0) (0.12.1)\n",
            "Requirement already satisfied: fonttools>=4.22.0 in /usr/local/lib/python3.10/dist-packages (from matplotlib->mmpose>=1.1.0) (4.55.3)\n",
            "Requirement already satisfied: kiwisolver>=1.0.1 in /usr/local/lib/python3.10/dist-packages (from matplotlib->mmpose>=1.1.0) (1.4.7)\n",
            "Requirement already satisfied: packaging>=20.0 in /usr/local/lib/python3.10/dist-packages (from matplotlib->mmpose>=1.1.0) (24.2)\n",
            "Requirement already satisfied: pyparsing>=2.3.1 in /usr/local/lib/python3.10/dist-packages (from matplotlib->mmpose>=1.1.0) (3.2.0)\n",
            "Requirement already satisfied: python-dateutil>=2.7 in /usr/local/lib/python3.10/dist-packages (from matplotlib->mmpose>=1.1.0) (2.8.2)\n",
            "Requirement already satisfied: six>=1.11.0 in /usr/local/lib/python3.10/dist-packages (from chumpy->mmpose>=1.1.0) (1.17.0)\n",
            "Requirement already satisfied: requests in /usr/local/lib/python3.10/dist-packages (from torchvision->mmpose>=1.1.0) (2.28.2)\n",
            "Requirement already satisfied: torch==2.0.1 in /usr/local/lib/python3.10/dist-packages (from torchvision->mmpose>=1.1.0) (2.0.1+cu118)\n",
            "Requirement already satisfied: filelock in /usr/local/lib/python3.10/dist-packages (from torch==2.0.1->torchvision->mmpose>=1.1.0) (3.14.0)\n",
            "Requirement already satisfied: typing-extensions in /usr/local/lib/python3.10/dist-packages (from torch==2.0.1->torchvision->mmpose>=1.1.0) (4.12.2)\n",
            "Requirement already satisfied: sympy in /usr/local/lib/python3.10/dist-packages (from torch==2.0.1->torchvision->mmpose>=1.1.0) (1.13.1)\n",
            "Requirement already satisfied: networkx in /usr/local/lib/python3.10/dist-packages (from torch==2.0.1->torchvision->mmpose>=1.1.0) (3.4.2)\n",
            "Requirement already satisfied: jinja2 in /usr/local/lib/python3.10/dist-packages (from torch==2.0.1->torchvision->mmpose>=1.1.0) (3.1.4)\n",
            "Requirement already satisfied: triton==2.0.0 in /usr/local/lib/python3.10/dist-packages (from torch==2.0.1->torchvision->mmpose>=1.1.0) (2.0.0)\n",
            "Requirement already satisfied: cmake in /usr/local/lib/python3.10/dist-packages (from triton==2.0.0->torch==2.0.1->torchvision->mmpose>=1.1.0) (3.30.5)\n",
            "Requirement already satisfied: lit in /usr/local/lib/python3.10/dist-packages (from triton==2.0.0->torch==2.0.1->torchvision->mmpose>=1.1.0) (18.1.8)\n",
            "Requirement already satisfied: charset-normalizer<4,>=2 in /usr/local/lib/python3.10/dist-packages (from requests->torchvision->mmpose>=1.1.0) (3.4.0)\n",
            "Requirement already satisfied: idna<4,>=2.5 in /usr/local/lib/python3.10/dist-packages (from requests->torchvision->mmpose>=1.1.0) (3.10)\n",
            "Requirement already satisfied: urllib3<1.27,>=1.21.1 in /usr/local/lib/python3.10/dist-packages (from requests->torchvision->mmpose>=1.1.0) (1.26.20)\n",
            "Requirement already satisfied: certifi>=2017.4.17 in /usr/local/lib/python3.10/dist-packages (from requests->torchvision->mmpose>=1.1.0) (2024.8.30)\n",
            "Requirement already satisfied: MarkupSafe>=2.0 in /usr/local/lib/python3.10/dist-packages (from jinja2->torch==2.0.1->torchvision->mmpose>=1.1.0) (2.1.5)\n",
            "Requirement already satisfied: mpmath<1.4,>=1.1.0 in /usr/local/lib/python3.10/dist-packages (from sympy->torch==2.0.1->torchvision->mmpose>=1.1.0) (1.3.0)\n",
            "Downloading mmpose-1.3.2-py2.py3-none-any.whl (1.7 MB)\n",
            "\u001b[2K   \u001b[90m━━━━━━━━━━━━━━━━━━━━━━━━━━━━━━━━━━━━━━━━\u001b[0m \u001b[32m1.7/1.7 MB\u001b[0m \u001b[31m34.6 MB/s\u001b[0m eta \u001b[36m0:00:00\u001b[0m\n",
            "\u001b[?25hDownloading xtcocotools-1.14.3-cp310-cp310-manylinux1_x86_64.whl (436 kB)\n",
            "\u001b[2K   \u001b[90m━━━━━━━━━━━━━━━━━━━━━━━━━━━━━━━━━━━━━━━━\u001b[0m \u001b[32m436.0/436.0 kB\u001b[0m \u001b[31m39.2 MB/s\u001b[0m eta \u001b[36m0:00:00\u001b[0m\n",
            "\u001b[?25hDownloading json_tricks-3.17.3-py2.py3-none-any.whl (27 kB)\n",
            "Downloading munkres-1.1.4-py2.py3-none-any.whl (7.0 kB)\n",
            "Building wheels for collected packages: chumpy\n",
            "  Building wheel for chumpy (setup.py) ... \u001b[?25l\u001b[?25hdone\n",
            "  Created wheel for chumpy: filename=chumpy-0.70-py3-none-any.whl size=58279 sha256=717a11a0d10942cd3ed420778cd0bc7b8b97f31e50d955509eed8556c603375d\n",
            "  Stored in directory: /root/.cache/pip/wheels/e0/c1/ef/29ba7be03653a29ef6f2c3e1956d6c4d8877f2b243af411db1\n",
            "Successfully built chumpy\n",
            "Installing collected packages: munkres, json-tricks, chumpy, xtcocotools, mmpose\n",
            "\u001b[31mERROR: pip's dependency resolver does not currently take into account all the packages that are installed. This behaviour is the source of the following dependency conflicts.\n",
            "mmpose 1.3.2 requires mmdet<3.3.0,>=3.0.0; extra == \"mim\", but you have mmdet 3.3.0 which is incompatible.\u001b[0m\u001b[31m\n",
            "\u001b[0mSuccessfully installed chumpy-0.70 json-tricks-3.17.3 mmpose-1.3.2 munkres-1.1.4 xtcocotools-1.14.3\n"
          ]
        }
      ],
      "source": [
        "!pip install --no-cache-dir -U openmim\n",
        "!mim install mmengine\n",
        "!mim install \"mmcv>=2.0.0rc4,<2.2.0\"\n",
        "!mim install \"mmdet>=3.1.0\"\n",
        "!mim install \"mmpose>=1.1.0\""
      ]
    },
    {
      "cell_type": "code",
      "execution_count": 2,
      "metadata": {
        "colab": {
          "base_uri": "https://localhost:8080/"
        },
        "id": "deB6hhOm1Qub",
        "outputId": "28e06983-e90f-4182-e982-6d87e23a46e9"
      },
      "outputs": [
        {
          "name": "stdout",
          "output_type": "stream",
          "text": [
            "Found existing installation: huggingface-hub 0.26.5\n",
            "Uninstalling huggingface-hub-0.26.5:\n",
            "  Would remove:\n",
            "    /usr/local/bin/huggingface-cli\n",
            "    /usr/local/lib/python3.10/dist-packages/huggingface_hub-0.26.5.dist-info/*\n",
            "    /usr/local/lib/python3.10/dist-packages/huggingface_hub/*\n",
            "Proceed (Y/n)? Y\n",
            "  Successfully uninstalled huggingface-hub-0.26.5\n"
          ]
        }
      ],
      "source": [
        "!pip uninstall huggingface_hub"
      ]
    },
    {
      "cell_type": "code",
      "execution_count": 3,
      "metadata": {
        "colab": {
          "base_uri": "https://localhost:8080/"
        },
        "id": "1_8AfvTA1hOT",
        "outputId": "28c0ffd6-fe55-40b1-e90a-95c95ff5ab7a"
      },
      "outputs": [
        {
          "name": "stdout",
          "output_type": "stream",
          "text": [
            "\u001b[?25l   \u001b[90m━━━━━━━━━━━━━━━━━━━━━━━━━━━━━━━━━━━━━━━━\u001b[0m \u001b[32m0.0/417.5 kB\u001b[0m \u001b[31m?\u001b[0m eta \u001b[36m-:--:--\u001b[0m\r\u001b[2K   \u001b[91m━━━━━━━━━━━━━━━━━━━━━━━━━━━━━━━━━━━━━━\u001b[0m\u001b[90m╺\u001b[0m\u001b[90m━\u001b[0m \u001b[32m399.4/417.5 kB\u001b[0m \u001b[31m11.5 MB/s\u001b[0m eta \u001b[36m0:00:01\u001b[0m\r\u001b[2K   \u001b[90m━━━━━━━━━━━━━━━━━━━━━━━━━━━━━━━━━━━━━━━━\u001b[0m \u001b[32m417.5/417.5 kB\u001b[0m \u001b[31m8.0 MB/s\u001b[0m eta \u001b[36m0:00:00\u001b[0m\n",
            "\u001b[?25h\u001b[31mERROR: pip's dependency resolver does not currently take into account all the packages that are installed. This behaviour is the source of the following dependency conflicts.\n",
            "gradio 5.9.1 requires huggingface-hub>=0.25.1, but you have huggingface-hub 0.24.7 which is incompatible.\n",
            "sentence-transformers 3.2.1 requires transformers<5.0.0,>=4.41.0, but you have transformers 4.39.2 which is incompatible.\u001b[0m\u001b[31m\n",
            "\u001b[0m"
          ]
        }
      ],
      "source": [
        "pip install -q huggingface_hub==0.24.7"
      ]
    },
    {
      "cell_type": "code",
      "execution_count": 4,
      "metadata": {
        "colab": {
          "base_uri": "https://localhost:8080/"
        },
        "id": "WnqoYWsd1hQ6",
        "outputId": "182e966e-c036-4e75-d7cd-96ca6af66d60"
      },
      "outputs": [
        {
          "name": "stdout",
          "output_type": "stream",
          "text": [
            "Name: huggingface-hub\n",
            "Version: 0.24.7\n",
            "Summary: Client library to download and publish models, datasets and other repos on the huggingface.co hub\n",
            "Home-page: https://github.com/huggingface/huggingface_hub\n",
            "Author: Hugging Face, Inc.\n",
            "Author-email: julien@huggingface.co\n",
            "License: Apache\n",
            "Location: /usr/local/lib/python3.10/dist-packages\n",
            "Requires: filelock, fsspec, packaging, pyyaml, requests, tqdm, typing-extensions\n",
            "Required-by: accelerate, diffusers, gradio, gradio_client, peft, sentence-transformers, timm, tokenizers, transformers\n"
          ]
        }
      ],
      "source": [
        "pip show huggingface_hub"
      ]
    },
    {
      "cell_type": "code",
      "execution_count": 5,
      "metadata": {
        "id": "mU71nF1p1hTJ"
      },
      "outputs": [],
      "source": [
        "import sys\n",
        "sys.path.append('/content/drive/MyDrive/Lip-Sync/MuseTalk')\n"
      ]
    },
    {
      "cell_type": "code",
      "execution_count": 6,
      "metadata": {
        "colab": {
          "base_uri": "https://localhost:8080/"
        },
        "id": "VQw2qv2fZYAI",
        "outputId": "94792bff-4f18-458b-b537-a85626fe8dcf"
      },
      "outputs": [
        {
          "name": "stdout",
          "output_type": "stream",
          "text": [
            "/content/drive/MyDrive/Lip-Sync/MuseTalk\n"
          ]
        }
      ],
      "source": [
        "%cd /content/drive/MyDrive/Lip-Sync/MuseTalk"
      ]
    },
    {
      "cell_type": "code",
      "execution_count": 7,
      "metadata": {
        "colab": {
          "base_uri": "https://localhost:8080/"
        },
        "id": "YT6YmZpRZz0x",
        "outputId": "67259224-ac26-43a1-bcc3-65572fb6c168"
      },
      "outputs": [
        {
          "name": "stdout",
          "output_type": "stream",
          "text": [
            "app.py    \u001b[0m\u001b[01;34mdata\u001b[0m/                       ffmpeg-release-amd64-static.tar.xz  README.md\n",
            "\u001b[01;34massets\u001b[0m/   entrypoint.sh               LICENSE                             requirements.txt\n",
            "\u001b[01;34mconfigs\u001b[0m/  \u001b[01;34mffmpeg-7.0.2-amd64-static\u001b[0m/  \u001b[01;34mmusetalk\u001b[0m/                           \u001b[01;34mscripts\u001b[0m/\n"
          ]
        }
      ],
      "source": [
        "ls"
      ]
    },
    {
      "cell_type": "code",
      "execution_count": 12,
      "metadata": {
        "colab": {
          "base_uri": "https://localhost:8080/"
        },
        "id": "LI4Gp2qpbJNR",
        "outputId": "736d7fb0-84a4-4754-cee7-45d5591e2610"
      },
      "outputs": [
        {
          "name": "stdout",
          "output_type": "stream",
          "text": [
            "--2024-12-18 16:05:21--  https://johnvansickle.com/ffmpeg/releases/ffmpeg-release-amd64-static.tar.xz\n",
            "Resolving johnvansickle.com (johnvansickle.com)... 107.180.57.212\n",
            "Connecting to johnvansickle.com (johnvansickle.com)|107.180.57.212|:443... connected.\n",
            "HTTP request sent, awaiting response... 200 OK\n",
            "Length: 41888096 (40M) [application/x-xz]\n",
            "Saving to: ‘ffmpeg-release-amd64-static.tar.xz’\n",
            "\n",
            "ffmpeg-release-amd6 100%[===================>]  39.95M  57.1MB/s    in 0.7s    \n",
            "\n",
            "2024-12-18 16:05:22 (57.1 MB/s) - ‘ffmpeg-release-amd64-static.tar.xz’ saved [41888096/41888096]\n",
            "\n",
            "ffmpeg-7.0.2-amd64-static/\n",
            "ffmpeg-7.0.2-amd64-static/GPLv3.txt\n",
            "ffmpeg-7.0.2-amd64-static/manpages/\n",
            "ffmpeg-7.0.2-amd64-static/manpages/ffmpeg-all.txt\n",
            "ffmpeg-7.0.2-amd64-static/manpages/ffmpeg-scaler.txt\n",
            "ffmpeg-7.0.2-amd64-static/manpages/ffmpeg-resampler.txt\n",
            "ffmpeg-7.0.2-amd64-static/manpages/ffmpeg-filters.txt\n",
            "ffmpeg-7.0.2-amd64-static/manpages/ffprobe.txt\n",
            "ffmpeg-7.0.2-amd64-static/manpages/ffmpeg-devices.txt\n",
            "ffmpeg-7.0.2-amd64-static/manpages/ffmpeg-utils.txt\n",
            "ffmpeg-7.0.2-amd64-static/manpages/ffmpeg-protocols.txt\n",
            "ffmpeg-7.0.2-amd64-static/manpages/ffmpeg-codecs.txt\n",
            "ffmpeg-7.0.2-amd64-static/manpages/ffmpeg-bitstream-filters.txt\n",
            "ffmpeg-7.0.2-amd64-static/manpages/ffmpeg.txt\n",
            "ffmpeg-7.0.2-amd64-static/manpages/ffmpeg-formats.txt\n",
            "ffmpeg-7.0.2-amd64-static/ffprobe\n",
            "ffmpeg-7.0.2-amd64-static/qt-faststart\n",
            "ffmpeg-7.0.2-amd64-static/model/\n",
            "ffmpeg-7.0.2-amd64-static/model/vmaf_4k_v0.6.1.json\n",
            "ffmpeg-7.0.2-amd64-static/model/vmaf_rb_v0.6.3/\n",
            "ffmpeg-7.0.2-amd64-static/model/vmaf_rb_v0.6.3/vmaf_rb_v0.6.3.pkl.0020.model\n",
            "ffmpeg-7.0.2-amd64-static/model/vmaf_rb_v0.6.3/vmaf_rb_v0.6.3.pkl.0005\n",
            "ffmpeg-7.0.2-amd64-static/model/vmaf_rb_v0.6.3/vmaf_rb_v0.6.3.pkl.0015\n",
            "ffmpeg-7.0.2-amd64-static/model/vmaf_rb_v0.6.3/vmaf_rb_v0.6.3.pkl.0016.model\n",
            "ffmpeg-7.0.2-amd64-static/model/vmaf_rb_v0.6.3/vmaf_rb_v0.6.3.pkl.model\n",
            "ffmpeg-7.0.2-amd64-static/model/vmaf_rb_v0.6.3/vmaf_rb_v0.6.3.pkl.0008.model\n",
            "ffmpeg-7.0.2-amd64-static/model/vmaf_rb_v0.6.3/vmaf_rb_v0.6.3.pkl.0020\n",
            "ffmpeg-7.0.2-amd64-static/model/vmaf_rb_v0.6.3/vmaf_rb_v0.6.3.pkl.0017.model\n",
            "ffmpeg-7.0.2-amd64-static/model/vmaf_rb_v0.6.3/vmaf_rb_v0.6.3.pkl.0014\n",
            "ffmpeg-7.0.2-amd64-static/model/vmaf_rb_v0.6.3/vmaf_rb_v0.6.3.pkl.0011\n",
            "ffmpeg-7.0.2-amd64-static/model/vmaf_rb_v0.6.3/vmaf_rb_v0.6.3.pkl.0012\n",
            "ffmpeg-7.0.2-amd64-static/model/vmaf_rb_v0.6.3/vmaf_rb_v0.6.3.pkl.0004\n",
            "ffmpeg-7.0.2-amd64-static/model/vmaf_rb_v0.6.3/vmaf_rb_v0.6.3.pkl.0005.model\n",
            "ffmpeg-7.0.2-amd64-static/model/vmaf_rb_v0.6.3/vmaf_rb_v0.6.3.pkl.0013.model\n",
            "ffmpeg-7.0.2-amd64-static/model/vmaf_rb_v0.6.3/vmaf_rb_v0.6.3.pkl.0007.model\n",
            "ffmpeg-7.0.2-amd64-static/model/vmaf_rb_v0.6.3/vmaf_rb_v0.6.3.pkl.0001\n",
            "ffmpeg-7.0.2-amd64-static/model/vmaf_rb_v0.6.3/vmaf_rb_v0.6.3.pkl.0009\n",
            "ffmpeg-7.0.2-amd64-static/model/vmaf_rb_v0.6.3/vmaf_rb_v0.6.3.pkl.0009.model\n",
            "ffmpeg-7.0.2-amd64-static/model/vmaf_rb_v0.6.3/vmaf_rb_v0.6.3.pkl.0004.model\n",
            "ffmpeg-7.0.2-amd64-static/model/vmaf_rb_v0.6.3/vmaf_rb_v0.6.3.pkl.0019.model\n",
            "ffmpeg-7.0.2-amd64-static/model/vmaf_rb_v0.6.3/vmaf_rb_v0.6.3.pkl.0007\n",
            "ffmpeg-7.0.2-amd64-static/model/vmaf_rb_v0.6.3/vmaf_rb_v0.6.3.pkl.0006\n",
            "ffmpeg-7.0.2-amd64-static/model/vmaf_rb_v0.6.3/vmaf_rb_v0.6.3.pkl.0017\n",
            "ffmpeg-7.0.2-amd64-static/model/vmaf_rb_v0.6.3/vmaf_rb_v0.6.3.pkl.0011.model\n",
            "ffmpeg-7.0.2-amd64-static/model/vmaf_rb_v0.6.3/vmaf_rb_v0.6.3.pkl.0008\n",
            "ffmpeg-7.0.2-amd64-static/model/vmaf_rb_v0.6.3/vmaf_rb_v0.6.3.pkl.0010\n",
            "ffmpeg-7.0.2-amd64-static/model/vmaf_rb_v0.6.3/vmaf_rb_v0.6.3.pkl.0018\n",
            "ffmpeg-7.0.2-amd64-static/model/vmaf_rb_v0.6.3/vmaf_rb_v0.6.3.pkl.0002.model\n",
            "ffmpeg-7.0.2-amd64-static/model/vmaf_rb_v0.6.3/vmaf_rb_v0.6.3.pkl.0012.model\n",
            "ffmpeg-7.0.2-amd64-static/model/vmaf_rb_v0.6.3/vmaf_rb_v0.6.3.pkl\n",
            "ffmpeg-7.0.2-amd64-static/model/vmaf_rb_v0.6.3/vmaf_rb_v0.6.3.pkl.0003.model\n",
            "ffmpeg-7.0.2-amd64-static/model/vmaf_rb_v0.6.3/vmaf_rb_v0.6.3.pkl.0019\n",
            "ffmpeg-7.0.2-amd64-static/model/vmaf_rb_v0.6.3/vmaf_rb_v0.6.3.pkl.0014.model\n",
            "ffmpeg-7.0.2-amd64-static/model/vmaf_rb_v0.6.3/vmaf_rb_v0.6.3.pkl.0018.model\n",
            "ffmpeg-7.0.2-amd64-static/model/vmaf_rb_v0.6.3/vmaf_rb_v0.6.3.json\n",
            "ffmpeg-7.0.2-amd64-static/model/vmaf_rb_v0.6.3/vmaf_rb_v0.6.3.pkl.0016\n",
            "ffmpeg-7.0.2-amd64-static/model/vmaf_rb_v0.6.3/vmaf_rb_v0.6.3.pkl.0010.model\n",
            "ffmpeg-7.0.2-amd64-static/model/vmaf_rb_v0.6.3/vmaf_rb_v0.6.3.pkl.0001.model\n",
            "ffmpeg-7.0.2-amd64-static/model/vmaf_rb_v0.6.3/vmaf_rb_v0.6.3.pkl.0003\n",
            "ffmpeg-7.0.2-amd64-static/model/vmaf_rb_v0.6.3/vmaf_rb_v0.6.3.pkl.0015.model\n",
            "ffmpeg-7.0.2-amd64-static/model/vmaf_rb_v0.6.3/vmaf_rb_v0.6.3.pkl.0013\n",
            "ffmpeg-7.0.2-amd64-static/model/vmaf_rb_v0.6.3/vmaf_rb_v0.6.3.pkl.0006.model\n",
            "ffmpeg-7.0.2-amd64-static/model/vmaf_rb_v0.6.3/vmaf_rb_v0.6.3.pkl.0002\n",
            "ffmpeg-7.0.2-amd64-static/model/vmaf_v0.6.1.json\n",
            "ffmpeg-7.0.2-amd64-static/model/vmaf_rb_v0.6.2/\n",
            "ffmpeg-7.0.2-amd64-static/model/vmaf_rb_v0.6.2/vmaf_rb_v0.6.2.pkl.0019.model\n",
            "ffmpeg-7.0.2-amd64-static/model/vmaf_rb_v0.6.2/vmaf_rb_v0.6.2.pkl.0005.model\n",
            "ffmpeg-7.0.2-amd64-static/model/vmaf_rb_v0.6.2/vmaf_rb_v0.6.2.pkl.0004\n",
            "ffmpeg-7.0.2-amd64-static/model/vmaf_rb_v0.6.2/vmaf_rb_v0.6.2.pkl.0015\n",
            "ffmpeg-7.0.2-amd64-static/model/vmaf_rb_v0.6.2/vmaf_rb_v0.6.2.pkl.0010.model\n",
            "ffmpeg-7.0.2-amd64-static/model/vmaf_rb_v0.6.2/vmaf_rb_v0.6.2.pkl\n",
            "ffmpeg-7.0.2-amd64-static/model/vmaf_rb_v0.6.2/vmaf_rb_v0.6.2.pkl.0012.model\n",
            "ffmpeg-7.0.2-amd64-static/model/vmaf_rb_v0.6.2/vmaf_rb_v0.6.2.pkl.0005\n",
            "ffmpeg-7.0.2-amd64-static/model/vmaf_rb_v0.6.2/vmaf_rb_v0.6.2.pkl.0008.model\n",
            "ffmpeg-7.0.2-amd64-static/model/vmaf_rb_v0.6.2/vmaf_rb_v0.6.2.pkl.0009\n",
            "ffmpeg-7.0.2-amd64-static/model/vmaf_rb_v0.6.2/vmaf_rb_v0.6.2.pkl.0018\n",
            "ffmpeg-7.0.2-amd64-static/model/vmaf_rb_v0.6.2/vmaf_rb_v0.6.2.pkl.0015.model\n",
            "ffmpeg-7.0.2-amd64-static/model/vmaf_rb_v0.6.2/vmaf_rb_v0.6.2.pkl.0011\n",
            "ffmpeg-7.0.2-amd64-static/model/vmaf_rb_v0.6.2/vmaf_rb_v0.6.2.pkl.0014.model\n",
            "ffmpeg-7.0.2-amd64-static/model/vmaf_rb_v0.6.2/vmaf_rb_v0.6.2.pkl.0012\n",
            "ffmpeg-7.0.2-amd64-static/model/vmaf_rb_v0.6.2/vmaf_rb_v0.6.2.pkl.0003.model\n",
            "ffmpeg-7.0.2-amd64-static/model/vmaf_rb_v0.6.2/vmaf_rb_v0.6.2.pkl.0006.model\n",
            "ffmpeg-7.0.2-amd64-static/model/vmaf_rb_v0.6.2/vmaf_rb_v0.6.2.pkl.0013.model\n",
            "ffmpeg-7.0.2-amd64-static/model/vmaf_rb_v0.6.2/vmaf_rb_v0.6.2.pkl.0001\n",
            "ffmpeg-7.0.2-amd64-static/model/vmaf_rb_v0.6.2/vmaf_rb_v0.6.2.pkl.0011.model\n",
            "ffmpeg-7.0.2-amd64-static/model/vmaf_rb_v0.6.2/vmaf_rb_v0.6.2.pkl.0007\n",
            "ffmpeg-7.0.2-amd64-static/model/vmaf_rb_v0.6.2/vmaf_rb_v0.6.2.pkl.0006\n",
            "ffmpeg-7.0.2-amd64-static/model/vmaf_rb_v0.6.2/vmaf_rb_v0.6.2.pkl.model\n",
            "ffmpeg-7.0.2-amd64-static/model/vmaf_rb_v0.6.2/vmaf_rb_v0.6.2.pkl.0017\n",
            "ffmpeg-7.0.2-amd64-static/model/vmaf_rb_v0.6.2/vmaf_rb_v0.6.2.pkl.0008\n",
            "ffmpeg-7.0.2-amd64-static/model/vmaf_rb_v0.6.2/vmaf_rb_v0.6.2.pkl.0003\n",
            "ffmpeg-7.0.2-amd64-static/model/vmaf_rb_v0.6.2/vmaf_rb_v0.6.2.pkl.0002\n",
            "ffmpeg-7.0.2-amd64-static/model/vmaf_rb_v0.6.2/vmaf_rb_v0.6.2.pkl.0004.model\n",
            "ffmpeg-7.0.2-amd64-static/model/vmaf_rb_v0.6.2/vmaf_rb_v0.6.2.pkl.0001.model\n",
            "ffmpeg-7.0.2-amd64-static/model/vmaf_rb_v0.6.2/vmaf_rb_v0.6.2.pkl.0018.model\n",
            "ffmpeg-7.0.2-amd64-static/model/vmaf_rb_v0.6.2/vmaf_rb_v0.6.2.pkl.0002.model\n",
            "ffmpeg-7.0.2-amd64-static/model/vmaf_rb_v0.6.2/vmaf_rb_v0.6.2.json\n",
            "ffmpeg-7.0.2-amd64-static/model/vmaf_rb_v0.6.2/vmaf_rb_v0.6.2.pkl.0014\n",
            "ffmpeg-7.0.2-amd64-static/model/vmaf_rb_v0.6.2/vmaf_rb_v0.6.2.pkl.0017.model\n",
            "ffmpeg-7.0.2-amd64-static/model/vmaf_rb_v0.6.2/vmaf_rb_v0.6.2.pkl.0019\n",
            "ffmpeg-7.0.2-amd64-static/model/vmaf_rb_v0.6.2/vmaf_rb_v0.6.2.pkl.0009.model\n",
            "ffmpeg-7.0.2-amd64-static/model/vmaf_rb_v0.6.2/vmaf_rb_v0.6.2.pkl.0013\n",
            "ffmpeg-7.0.2-amd64-static/model/vmaf_rb_v0.6.2/vmaf_rb_v0.6.2.pkl.0007.model\n",
            "ffmpeg-7.0.2-amd64-static/model/vmaf_rb_v0.6.2/vmaf_rb_v0.6.2.pkl.0016.model\n",
            "ffmpeg-7.0.2-amd64-static/model/vmaf_rb_v0.6.2/vmaf_rb_v0.6.2.pkl.0010\n",
            "ffmpeg-7.0.2-amd64-static/model/vmaf_rb_v0.6.2/vmaf_rb_v0.6.2.pkl.0016\n",
            "ffmpeg-7.0.2-amd64-static/model/vmaf_float_v0.6.1.pkl\n",
            "ffmpeg-7.0.2-amd64-static/model/vmaf_float_v0.6.1neg.pkl.model\n",
            "ffmpeg-7.0.2-amd64-static/model/vmaf_float_b_v0.6.3.json\n",
            "ffmpeg-7.0.2-amd64-static/model/vmaf_v0.6.1neg.json\n",
            "ffmpeg-7.0.2-amd64-static/model/000-PLEASE-README.TXT\n",
            "ffmpeg-7.0.2-amd64-static/model/vmaf_float_4k_v0.6.1.json\n",
            "ffmpeg-7.0.2-amd64-static/model/vmaf_4k_rb_v0.6.2/\n",
            "ffmpeg-7.0.2-amd64-static/model/vmaf_4k_rb_v0.6.2/vmaf_4k_rb_v0.6.2.pkl.0008.model\n",
            "ffmpeg-7.0.2-amd64-static/model/vmaf_4k_rb_v0.6.2/vmaf_4k_rb_v0.6.2.pkl.0012\n",
            "ffmpeg-7.0.2-amd64-static/model/vmaf_4k_rb_v0.6.2/vmaf_4k_rb_v0.6.2.pkl.0002.model\n",
            "ffmpeg-7.0.2-amd64-static/model/vmaf_4k_rb_v0.6.2/vmaf_4k_rb_v0.6.2.pkl.0007.model\n",
            "ffmpeg-7.0.2-amd64-static/model/vmaf_4k_rb_v0.6.2/vmaf_4k_rb_v0.6.2.pkl.0011.model\n",
            "ffmpeg-7.0.2-amd64-static/model/vmaf_4k_rb_v0.6.2/vmaf_4k_rb_v0.6.2.pkl.0019\n",
            "ffmpeg-7.0.2-amd64-static/model/vmaf_4k_rb_v0.6.2/vmaf_4k_rb_v0.6.2.pkl.0017.model\n",
            "ffmpeg-7.0.2-amd64-static/model/vmaf_4k_rb_v0.6.2/vmaf_4k_rb_v0.6.2.pkl.0017\n",
            "ffmpeg-7.0.2-amd64-static/model/vmaf_4k_rb_v0.6.2/vmaf_4k_rb_v0.6.2.pkl.0009\n",
            "ffmpeg-7.0.2-amd64-static/model/vmaf_4k_rb_v0.6.2/vmaf_4k_rb_v0.6.2.pkl.0010\n",
            "ffmpeg-7.0.2-amd64-static/model/vmaf_4k_rb_v0.6.2/vmaf_4k_rb_v0.6.2.pkl.0005.model\n",
            "ffmpeg-7.0.2-amd64-static/model/vmaf_4k_rb_v0.6.2/vmaf_4k_rb_v0.6.2.pkl.0009.model\n",
            "ffmpeg-7.0.2-amd64-static/model/vmaf_4k_rb_v0.6.2/vmaf_4k_rb_v0.6.2.pkl.0013\n",
            "ffmpeg-7.0.2-amd64-static/model/vmaf_4k_rb_v0.6.2/vmaf_4k_rb_v0.6.2.pkl.0018\n",
            "ffmpeg-7.0.2-amd64-static/model/vmaf_4k_rb_v0.6.2/vmaf_4k_rb_v0.6.2.pkl.0013.model\n",
            "ffmpeg-7.0.2-amd64-static/model/vmaf_4k_rb_v0.6.2/vmaf_4k_rb_v0.6.2.pkl.0014\n",
            "ffmpeg-7.0.2-amd64-static/model/vmaf_4k_rb_v0.6.2/vmaf_4k_rb_v0.6.2.pkl.0004\n",
            "ffmpeg-7.0.2-amd64-static/model/vmaf_4k_rb_v0.6.2/vmaf_4k_rb_v0.6.2.pkl.0006.model\n",
            "ffmpeg-7.0.2-amd64-static/model/vmaf_4k_rb_v0.6.2/vmaf_4k_rb_v0.6.2.pkl.0005\n",
            "ffmpeg-7.0.2-amd64-static/model/vmaf_4k_rb_v0.6.2/vmaf_4k_rb_v0.6.2.pkl.0007\n",
            "ffmpeg-7.0.2-amd64-static/model/vmaf_4k_rb_v0.6.2/vmaf_4k_rb_v0.6.2.pkl.0019.model\n",
            "ffmpeg-7.0.2-amd64-static/model/vmaf_4k_rb_v0.6.2/vmaf_4k_rb_v0.6.2.pkl.0015.model\n",
            "ffmpeg-7.0.2-amd64-static/model/vmaf_4k_rb_v0.6.2/vmaf_4k_rb_v0.6.2.pkl.0010.model\n",
            "ffmpeg-7.0.2-amd64-static/model/vmaf_4k_rb_v0.6.2/vmaf_4k_rb_v0.6.2.pkl.0008\n",
            "ffmpeg-7.0.2-amd64-static/model/vmaf_4k_rb_v0.6.2/vmaf_4k_rb_v0.6.2.pkl.0004.model\n",
            "ffmpeg-7.0.2-amd64-static/model/vmaf_4k_rb_v0.6.2/vmaf_4k_rb_v0.6.2.json\n",
            "ffmpeg-7.0.2-amd64-static/model/vmaf_4k_rb_v0.6.2/vmaf_4k_rb_v0.6.2.pkl\n",
            "ffmpeg-7.0.2-amd64-static/model/vmaf_4k_rb_v0.6.2/vmaf_4k_rb_v0.6.2.pkl.0006\n",
            "ffmpeg-7.0.2-amd64-static/model/vmaf_4k_rb_v0.6.2/vmaf_4k_rb_v0.6.2.pkl.0001.model\n",
            "ffmpeg-7.0.2-amd64-static/model/vmaf_4k_rb_v0.6.2/vmaf_4k_rb_v0.6.2.pkl.0016.model\n",
            "ffmpeg-7.0.2-amd64-static/model/vmaf_4k_rb_v0.6.2/vmaf_4k_rb_v0.6.2.pkl.model\n",
            "ffmpeg-7.0.2-amd64-static/model/vmaf_4k_rb_v0.6.2/vmaf_4k_rb_v0.6.2.pkl.0015\n",
            "ffmpeg-7.0.2-amd64-static/model/vmaf_4k_rb_v0.6.2/vmaf_4k_rb_v0.6.2.pkl.0003.model\n",
            "ffmpeg-7.0.2-amd64-static/model/vmaf_4k_rb_v0.6.2/vmaf_4k_rb_v0.6.2.pkl.0011\n",
            "ffmpeg-7.0.2-amd64-static/model/vmaf_4k_rb_v0.6.2/vmaf_4k_rb_v0.6.2.pkl.0016\n",
            "ffmpeg-7.0.2-amd64-static/model/vmaf_4k_rb_v0.6.2/vmaf_4k_rb_v0.6.2.pkl.0003\n",
            "ffmpeg-7.0.2-amd64-static/model/vmaf_4k_rb_v0.6.2/vmaf_4k_rb_v0.6.2.pkl.0014.model\n",
            "ffmpeg-7.0.2-amd64-static/model/vmaf_4k_rb_v0.6.2/vmaf_4k_rb_v0.6.2.pkl.0018.model\n",
            "ffmpeg-7.0.2-amd64-static/model/vmaf_4k_rb_v0.6.2/vmaf_4k_rb_v0.6.2.pkl.0001\n",
            "ffmpeg-7.0.2-amd64-static/model/vmaf_4k_rb_v0.6.2/vmaf_4k_rb_v0.6.2.pkl.0002\n",
            "ffmpeg-7.0.2-amd64-static/model/vmaf_4k_rb_v0.6.2/vmaf_4k_rb_v0.6.2.pkl.0012.model\n",
            "ffmpeg-7.0.2-amd64-static/model/vmaf_float_v0.6.1neg.json\n",
            "ffmpeg-7.0.2-amd64-static/model/vmaf_float_v0.6.1neg.pkl\n",
            "ffmpeg-7.0.2-amd64-static/model/vmaf_b_v0.6.3.json\n",
            "ffmpeg-7.0.2-amd64-static/model/vmaf_float_b_v0.6.3/\n",
            "ffmpeg-7.0.2-amd64-static/model/vmaf_float_b_v0.6.3/vmaf_float_b_v0.6.3.pkl.0003\n",
            "ffmpeg-7.0.2-amd64-static/model/vmaf_float_b_v0.6.3/vmaf_float_b_v0.6.3.pkl.0015.model\n",
            "ffmpeg-7.0.2-amd64-static/model/vmaf_float_b_v0.6.3/vmaf_float_b_v0.6.3.pkl.0001.model\n",
            "ffmpeg-7.0.2-amd64-static/model/vmaf_float_b_v0.6.3/vmaf_float_b_v0.6.3.pkl\n",
            "ffmpeg-7.0.2-amd64-static/model/vmaf_float_b_v0.6.3/vmaf_float_b_v0.6.3.pkl.0012\n",
            "ffmpeg-7.0.2-amd64-static/model/vmaf_float_b_v0.6.3/vmaf_float_b_v0.6.3.pkl.0019.model\n",
            "ffmpeg-7.0.2-amd64-static/model/vmaf_float_b_v0.6.3/vmaf_float_b_v0.6.3.pkl.0017\n",
            "ffmpeg-7.0.2-amd64-static/model/vmaf_float_b_v0.6.3/vmaf_float_b_v0.6.3.pkl.0012.model\n",
            "ffmpeg-7.0.2-amd64-static/model/vmaf_float_b_v0.6.3/vmaf_float_b_v0.6.3.pkl.0003.model\n",
            "ffmpeg-7.0.2-amd64-static/model/vmaf_float_b_v0.6.3/vmaf_float_b_v0.6.3.pkl.0009.model\n",
            "ffmpeg-7.0.2-amd64-static/model/vmaf_float_b_v0.6.3/vmaf_float_b_v0.6.3.pkl.0016\n",
            "ffmpeg-7.0.2-amd64-static/model/vmaf_float_b_v0.6.3/vmaf_float_b_v0.6.3.pkl.0008.model\n",
            "ffmpeg-7.0.2-amd64-static/model/vmaf_float_b_v0.6.3/vmaf_float_b_v0.6.3.pkl.0015\n",
            "ffmpeg-7.0.2-amd64-static/model/vmaf_float_b_v0.6.3/vmaf_float_b_v0.6.3.pkl.0006\n",
            "ffmpeg-7.0.2-amd64-static/model/vmaf_float_b_v0.6.3/vmaf_float_b_v0.6.3.pkl.0009\n",
            "ffmpeg-7.0.2-amd64-static/model/vmaf_float_b_v0.6.3/vmaf_float_b_v0.6.3.pkl.0004.model\n",
            "ffmpeg-7.0.2-amd64-static/model/vmaf_float_b_v0.6.3/vmaf_float_b_v0.6.3.pkl.0017.model\n",
            "ffmpeg-7.0.2-amd64-static/model/vmaf_float_b_v0.6.3/vmaf_float_b_v0.6.3.json\n",
            "ffmpeg-7.0.2-amd64-static/model/vmaf_float_b_v0.6.3/vmaf_float_b_v0.6.3.pkl.0008\n",
            "ffmpeg-7.0.2-amd64-static/model/vmaf_float_b_v0.6.3/vmaf_float_b_v0.6.3.pkl.0001\n",
            "ffmpeg-7.0.2-amd64-static/model/vmaf_float_b_v0.6.3/vmaf_float_b_v0.6.3.pkl.0011\n",
            "ffmpeg-7.0.2-amd64-static/model/vmaf_float_b_v0.6.3/vmaf_float_b_v0.6.3.pkl.0004\n",
            "ffmpeg-7.0.2-amd64-static/model/vmaf_float_b_v0.6.3/vmaf_float_b_v0.6.3.pkl.0002.model\n",
            "ffmpeg-7.0.2-amd64-static/model/vmaf_float_b_v0.6.3/vmaf_float_b_v0.6.3.pkl.0005\n",
            "ffmpeg-7.0.2-amd64-static/model/vmaf_float_b_v0.6.3/vmaf_float_b_v0.6.3.pkl.0014\n",
            "ffmpeg-7.0.2-amd64-static/model/vmaf_float_b_v0.6.3/vmaf_float_b_v0.6.3.pkl.0014.model\n",
            "ffmpeg-7.0.2-amd64-static/model/vmaf_float_b_v0.6.3/vmaf_float_b_v0.6.3.pkl.0007.model\n",
            "ffmpeg-7.0.2-amd64-static/model/vmaf_float_b_v0.6.3/vmaf_float_b_v0.6.3.pkl.model\n",
            "ffmpeg-7.0.2-amd64-static/model/vmaf_float_b_v0.6.3/vmaf_float_b_v0.6.3.pkl.0002\n",
            "ffmpeg-7.0.2-amd64-static/model/vmaf_float_b_v0.6.3/vmaf_float_b_v0.6.3.pkl.0020.model\n",
            "ffmpeg-7.0.2-amd64-static/model/vmaf_float_b_v0.6.3/vmaf_float_b_v0.6.3.pkl.0007\n",
            "ffmpeg-7.0.2-amd64-static/model/vmaf_float_b_v0.6.3/vmaf_float_b_v0.6.3.pkl.0018.model\n",
            "ffmpeg-7.0.2-amd64-static/model/vmaf_float_b_v0.6.3/vmaf_float_b_v0.6.3.pkl.0020\n",
            "ffmpeg-7.0.2-amd64-static/model/vmaf_float_b_v0.6.3/vmaf_float_b_v0.6.3.pkl.0010\n",
            "ffmpeg-7.0.2-amd64-static/model/vmaf_float_b_v0.6.3/vmaf_float_b_v0.6.3.pkl.0013.model\n",
            "ffmpeg-7.0.2-amd64-static/model/vmaf_float_b_v0.6.3/vmaf_float_b_v0.6.3.pkl.0011.model\n",
            "ffmpeg-7.0.2-amd64-static/model/vmaf_float_b_v0.6.3/vmaf_float_b_v0.6.3.pkl.0016.model\n",
            "ffmpeg-7.0.2-amd64-static/model/vmaf_float_b_v0.6.3/vmaf_float_b_v0.6.3.pkl.0010.model\n",
            "ffmpeg-7.0.2-amd64-static/model/vmaf_float_b_v0.6.3/vmaf_float_b_v0.6.3.pkl.0006.model\n",
            "ffmpeg-7.0.2-amd64-static/model/vmaf_float_b_v0.6.3/vmaf_float_b_v0.6.3.pkl.0019\n",
            "ffmpeg-7.0.2-amd64-static/model/vmaf_float_b_v0.6.3/vmaf_float_b_v0.6.3.pkl.0013\n",
            "ffmpeg-7.0.2-amd64-static/model/vmaf_float_b_v0.6.3/vmaf_float_b_v0.6.3.pkl.0018\n",
            "ffmpeg-7.0.2-amd64-static/model/vmaf_float_b_v0.6.3/vmaf_float_b_v0.6.3.pkl.0005.model\n",
            "ffmpeg-7.0.2-amd64-static/model/vmaf_float_v0.6.1.json\n",
            "ffmpeg-7.0.2-amd64-static/model/other_models/\n",
            "ffmpeg-7.0.2-amd64-static/model/other_models/nflxall_vmafv2.pkl.model\n",
            "ffmpeg-7.0.2-amd64-static/model/other_models/vmaf_v0.6.0.pkl\n",
            "ffmpeg-7.0.2-amd64-static/model/other_models/nflx_vmaff_rf_v2.pkl\n",
            "ffmpeg-7.0.2-amd64-static/model/other_models/vmaf_v0.6.0.json\n",
            "ffmpeg-7.0.2-amd64-static/model/other_models/nflxtrain_vmafv2.pkl\n",
            "ffmpeg-7.0.2-amd64-static/model/other_models/nflxtrain_vmafv3.pkl\n",
            "ffmpeg-7.0.2-amd64-static/model/other_models/niqe_v0.1.pkl\n",
            "ffmpeg-7.0.2-amd64-static/model/other_models/nflxtrain_libsvmnusvr_currentbest.pkl.model\n",
            "ffmpeg-7.0.2-amd64-static/model/other_models/nflxall_vmafv3.pkl.model\n",
            "ffmpeg-7.0.2-amd64-static/model/other_models/nflxall_vmafv1.pkl\n",
            "ffmpeg-7.0.2-amd64-static/model/other_models/nflx_v1.pkl\n",
            "ffmpeg-7.0.2-amd64-static/model/other_models/vmaf_4k_v0.6.1rc.pkl\n",
            "ffmpeg-7.0.2-amd64-static/model/other_models/nflxall_vmafv4.pkl\n",
            "ffmpeg-7.0.2-amd64-static/model/other_models/vmaf_4k_v0.6.1rc.pkl.model\n",
            "ffmpeg-7.0.2-amd64-static/model/other_models/nflx_v1.pkl.model\n",
            "ffmpeg-7.0.2-amd64-static/model/other_models/nflxtrain_vmafv1.pkl.model\n",
            "ffmpeg-7.0.2-amd64-static/model/other_models/nflxall_vmafv4.pkl.model\n",
            "ffmpeg-7.0.2-amd64-static/model/other_models/nflx_v1.json\n",
            "ffmpeg-7.0.2-amd64-static/model/other_models/nflxtrain_vmafv1.pkl\n",
            "ffmpeg-7.0.2-amd64-static/model/other_models/nflxall_libsvmnusvr_currentbest.pkl.model\n",
            "ffmpeg-7.0.2-amd64-static/model/other_models/nflxtrain_vmafv3a.pkl\n",
            "ffmpeg-7.0.2-amd64-static/model/other_models/nflxtrain_vmafv3.pkl.model\n",
            "ffmpeg-7.0.2-amd64-static/model/other_models/nflxtrain_norm_type_none.pkl\n",
            "ffmpeg-7.0.2-amd64-static/model/other_models/vmaf_v0.6.0.pkl.model\n",
            "ffmpeg-7.0.2-amd64-static/model/other_models/vmaf_v0.6.1mfz.json\n",
            "ffmpeg-7.0.2-amd64-static/model/other_models/nflxall_vmafv3a.pkl\n",
            "ffmpeg-7.0.2-amd64-static/model/other_models/nflxall_vmafv1.pkl.model\n",
            "ffmpeg-7.0.2-amd64-static/model/other_models/nflxall_vmafv3.pkl\n",
            "ffmpeg-7.0.2-amd64-static/model/other_models/nflxtrain_libsvmnusvr_currentbest.pkl\n",
            "ffmpeg-7.0.2-amd64-static/model/other_models/nflxall_libsvmnusvr_currentbest.pkl\n",
            "ffmpeg-7.0.2-amd64-static/model/other_models/nflx_vmaff_rf_v1.pkl\n",
            "ffmpeg-7.0.2-amd64-static/model/other_models/nflxtrain_vmafv2.pkl.model\n",
            "ffmpeg-7.0.2-amd64-static/model/other_models/nflxall_vmafv2.pkl\n",
            "ffmpeg-7.0.2-amd64-static/model/other_models/model_V8a.model\n",
            "ffmpeg-7.0.2-amd64-static/model/other_models/nflxtrain_norm_type_none.pkl.model\n",
            "ffmpeg-7.0.2-amd64-static/model/other_models/nflxtrain_vmafv3a.pkl.model\n",
            "ffmpeg-7.0.2-amd64-static/model/other_models/nflxall_vmafv3a.pkl.model\n",
            "ffmpeg-7.0.2-amd64-static/model/other_models/nflxtrain_norm_type_none.json\n",
            "ffmpeg-7.0.2-amd64-static/model/vmaf_float_v0.6.1.pkl.model\n",
            "ffmpeg-7.0.2-amd64-static/readme.txt\n",
            "ffmpeg-7.0.2-amd64-static/ffmpeg\n"
          ]
        }
      ],
      "source": [
        "!wget https://johnvansickle.com/ffmpeg/releases/ffmpeg-release-amd64-static.tar.xz\n",
        "!tar -xvf ffmpeg-release-amd64-static.tar.xz"
      ]
    },
    {
      "cell_type": "code",
      "execution_count": 8,
      "metadata": {
        "colab": {
          "base_uri": "https://localhost:8080/"
        },
        "id": "IZdOW6AVbQii",
        "outputId": "adba81a7-65b9-4362-d586-1423a1fe39a7"
      },
      "outputs": [
        {
          "name": "stdout",
          "output_type": "stream",
          "text": [
            "Reading package lists... Done\n",
            "Building dependency tree... Done\n",
            "Reading state information... Done\n",
            "ffmpeg is already the newest version (7:4.4.2-0ubuntu0.22.04.1).\n",
            "0 upgraded, 0 newly installed, 0 to remove and 49 not upgraded.\n"
          ]
        }
      ],
      "source": [
        "!apt-get install -y ffmpeg\n",
        "import os\n",
        "os.environ['FFMPEG_PATH'] = '/content/Lip_Sync_Model/models/MuseTalk/MuseTalk/ffmpeg-7.0.1-amd64-static/ffmpeg'"
      ]
    },
    {
      "cell_type": "code",
      "execution_count": 9,
      "metadata": {
        "id": "XWrKuIu_b5y5"
      },
      "outputs": [],
      "source": [
        "!export FFMPEG_PATH=/musetalk/ffmpeg-4.4-amd64-static"
      ]
    },
    {
      "cell_type": "code",
      "execution_count": 10,
      "metadata": {
        "colab": {
          "base_uri": "https://localhost:8080/"
        },
        "id": "EP0XXKaJgkcj",
        "outputId": "585c6391-ade9-457f-837f-25b66cc49a61"
      },
      "outputs": [
        {
          "name": "stdout",
          "output_type": "stream",
          "text": [
            "app.py    \u001b[0m\u001b[01;34mdata\u001b[0m/                       ffmpeg-release-amd64-static.tar.xz  README.md\n",
            "\u001b[01;34massets\u001b[0m/   entrypoint.sh               LICENSE                             requirements.txt\n",
            "\u001b[01;34mconfigs\u001b[0m/  \u001b[01;34mffmpeg-7.0.2-amd64-static\u001b[0m/  \u001b[01;34mmusetalk\u001b[0m/                           \u001b[01;34mscripts\u001b[0m/\n"
          ]
        }
      ],
      "source": [
        "ls"
      ]
    },
    {
      "cell_type": "markdown",
      "metadata": {
        "id": "7dBczM3hZ1zC"
      },
      "source": [
        "## Continue Setup for Drive"
      ]
    },
    {
      "cell_type": "markdown",
      "metadata": {
        "id": "JyWAYmhXIJQq"
      },
      "source": [
        "# create folder in drive name musetalk in models folder"
      ]
    },
    {
      "cell_type": "markdown",
      "metadata": {
        "id": "5EEtkxq_tgiN"
      },
      "source": [
        "![image.png](data:image/png;base64,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)"
      ]
    },
    {
      "cell_type": "code",
      "execution_count": 16,
      "metadata": {
        "colab": {
          "base_uri": "https://localhost:8080/"
        },
        "id": "g6bvL2AoPHt3",
        "outputId": "3142f9df-a35e-4e73-ab39-dbf299afb63f"
      },
      "outputs": [
        {
          "name": "stdout",
          "output_type": "stream",
          "text": [
            "/content\n"
          ]
        }
      ],
      "source": [
        "%cd /content\n"
      ]
    },
    {
      "cell_type": "code",
      "execution_count": 17,
      "metadata": {
        "colab": {
          "base_uri": "https://localhost:8080/"
        },
        "id": "w68HVRqvO7XN",
        "outputId": "41b093f2-10c0-48af-bf96-d82c8c97fc98"
      },
      "outputs": [
        {
          "name": "stdout",
          "output_type": "stream",
          "text": [
            "Cloning into '/content/temp_MuseTalk'...\n",
            "remote: Enumerating objects: 15, done.\u001b[K\n",
            "remote: Total 15 (delta 0), reused 0 (delta 0), pack-reused 15 (from 1)\u001b[K\n",
            "Unpacking objects: 100% (15/15), 8.73 KiB | 2.18 MiB/s, done.\n"
          ]
        }
      ],
      "source": [
        "!git clone https://huggingface.co/TMElyralab/MuseTalk /content/temp_MuseTalk\n"
      ]
    },
    {
      "cell_type": "code",
      "execution_count": 18,
      "metadata": {
        "colab": {
          "base_uri": "https://localhost:8080/"
        },
        "id": "PbNnqnjZO8Ha",
        "outputId": "1e9c2736-20cd-4fc2-c2a5-c30b12679c13"
      },
      "outputs": [
        {
          "name": "stdout",
          "output_type": "stream",
          "text": [
            "musetalk  README.md\n"
          ]
        }
      ],
      "source": [
        "!ls /content/temp_MuseTalk\n"
      ]
    },
    {
      "cell_type": "code",
      "execution_count": 22,
      "metadata": {
        "id": "979HeY1xP6wc"
      },
      "outputs": [],
      "source": [
        "# !cp -r /content/temp_MuseTalk/musetalk* /content/drive/MyDrive/Lip-Sync/MuseTalk/musetalk/models/musetalk"
      ]
    },
    {
      "cell_type": "code",
      "execution_count": 28,
      "metadata": {
        "colab": {
          "base_uri": "https://localhost:8080/"
        },
        "id": "QqpWuk3_EgHP",
        "outputId": "33708e94-9a93-43c3-cc65-beb981beed69"
      },
      "outputs": [
        {
          "name": "stdout",
          "output_type": "stream",
          "text": [
            "/content/drive/MyDrive/Lip-Sync/MuseTalk/musetalk/models/sd-vae-ft-mse\n"
          ]
        }
      ],
      "source": [
        "%cd /content/drive/MyDrive/Lip-Sync/MuseTalk/musetalk/models/sd-vae-ft-mse"
      ]
    },
    {
      "cell_type": "markdown",
      "metadata": {
        "id": "q6P8OLZtRNl-"
      },
      "source": [
        "# sd-vae-ft-mse weights loading"
      ]
    },
    {
      "cell_type": "code",
      "execution_count": 29,
      "metadata": {
        "colab": {
          "base_uri": "https://localhost:8080/"
        },
        "id": "teE5Hmndib3b",
        "outputId": "6deb9564-9bbd-4bb1-fd12-d6b5582a216c"
      },
      "outputs": [
        {
          "name": "stdout",
          "output_type": "stream",
          "text": [
            "/content\n"
          ]
        }
      ],
      "source": [
        "%cd /content"
      ]
    },
    {
      "cell_type": "code",
      "execution_count": 30,
      "metadata": {
        "colab": {
          "base_uri": "https://localhost:8080/"
        },
        "id": "H3DuqfFK4vE3",
        "outputId": "c6ba5f6d-c53b-4e66-b9b9-704b5944970a"
      },
      "outputs": [
        {
          "name": "stdout",
          "output_type": "stream",
          "text": [
            "Cloning into '/content/sd-vae-ft-mse'...\n",
            "remote: Enumerating objects: 28, done.\u001b[K\n",
            "remote: Total 28 (delta 0), reused 0 (delta 0), pack-reused 28 (from 1)\u001b[K\n",
            "Unpacking objects: 100% (28/28), 4.92 KiB | 559.00 KiB/s, done.\n",
            "Filtering content: 100% (2/2), 638.34 MiB | 28.58 MiB/s, done.\n"
          ]
        }
      ],
      "source": [
        "# !git clone https://huggingface.co/stabilityai/sd-vae-ft-mse\n",
        "!git clone https://huggingface.co/stabilityai/sd-vae-ft-mse /content/sd-vae-ft-mse\n"
      ]
    },
    {
      "cell_type": "code",
      "execution_count": 31,
      "metadata": {
        "id": "FYlI5zJ7RSgg"
      },
      "outputs": [],
      "source": [
        "!cp -r /content/sd-vae-ft-mse /content/drive/MyDrive/Lip-Sync/MuseTalk/musetalk/models/"
      ]
    },
    {
      "cell_type": "markdown",
      "metadata": {
        "id": "joI73RXLRonU"
      },
      "source": [
        "# dwpose weights loading"
      ]
    },
    {
      "cell_type": "code",
      "execution_count": 32,
      "metadata": {
        "colab": {
          "base_uri": "https://localhost:8080/"
        },
        "id": "KoC8grPJitJ0",
        "outputId": "5d6b2df2-fb8a-4547-f6e6-a7d5a28e9fe9"
      },
      "outputs": [
        {
          "name": "stdout",
          "output_type": "stream",
          "text": [
            "/content\n"
          ]
        }
      ],
      "source": [
        "%cd /content"
      ]
    },
    {
      "cell_type": "code",
      "execution_count": 33,
      "metadata": {
        "colab": {
          "base_uri": "https://localhost:8080/"
        },
        "id": "lZ_ci8e5G1Iw",
        "outputId": "47fec87a-1549-4c56-f0be-6d743002efd5"
      },
      "outputs": [
        {
          "name": "stdout",
          "output_type": "stream",
          "text": [
            "Cloning into '/content/DWPose'...\n",
            "remote: Enumerating objects: 18, done.\u001b[K\n",
            "remote: Total 18 (delta 0), reused 0 (delta 0), pack-reused 18 (from 1)\u001b[K\n",
            "Unpacking objects: 100% (18/18), 2.40 KiB | 614.00 KiB/s, done.\n",
            "Filtering content: 100% (10/10), 1.99 GiB | 59.31 MiB/s, done.\n"
          ]
        }
      ],
      "source": [
        "# %cd /content/drive/MyDrive/Lip-Sync/MuseTalk/musetalk/models/dwpose\n",
        "!git clone https://huggingface.co/yzd-v/DWPose /content/DWPose\n"
      ]
    },
    {
      "cell_type": "code",
      "execution_count": 34,
      "metadata": {
        "id": "GSoGDsXBR3ER"
      },
      "outputs": [],
      "source": [
        "!cp -r /content/DWPose /content/drive/MyDrive/Lip-Sync/MuseTalk/musetalk/models/\n"
      ]
    },
    {
      "cell_type": "markdown",
      "metadata": {
        "id": "zdrcbfFSSrkx"
      },
      "source": [
        "# face makeout weights"
      ]
    },
    {
      "cell_type": "code",
      "execution_count": 35,
      "metadata": {
        "colab": {
          "base_uri": "https://localhost:8080/"
        },
        "id": "WRnZlWntQ_4E",
        "outputId": "630d35d4-5427-4716-ea6f-e5d5e3825f74"
      },
      "outputs": [
        {
          "name": "stdout",
          "output_type": "stream",
          "text": [
            "/content\n"
          ]
        }
      ],
      "source": [
        "%cd /content"
      ]
    },
    {
      "cell_type": "code",
      "execution_count": 36,
      "metadata": {
        "colab": {
          "base_uri": "https://localhost:8080/"
        },
        "id": "a3Dieiv9N4Oj",
        "outputId": "4787b437-80c2-4223-e13f-147e016a24f8"
      },
      "outputs": [
        {
          "name": "stdout",
          "output_type": "stream",
          "text": [
            "Cloning into '/content/face-makeup.PyTorch'...\n",
            "remote: Enumerating objects: 59, done.\u001b[K\n",
            "remote: Total 59 (delta 0), reused 0 (delta 0), pack-reused 59 (from 1)\u001b[K\n",
            "Receiving objects: 100% (59/59), 50.81 MiB | 17.99 MiB/s, done.\n",
            "Resolving deltas: 100% (26/26), done.\n"
          ]
        }
      ],
      "source": [
        "!git clone https://github.com/zllrunning/face-makeup.PyTorch.git /content/face-makeup.PyTorch\n"
      ]
    },
    {
      "cell_type": "code",
      "execution_count": 37,
      "metadata": {
        "id": "GpXYy5-LS3j5"
      },
      "outputs": [],
      "source": [
        "!cp -r /content/face-makeup.PyTorch /content/drive/MyDrive/Lip-Sync/MuseTalk/musetalk/models/\n"
      ]
    },
    {
      "cell_type": "code",
      "execution_count": null,
      "metadata": {
        "colab": {
          "base_uri": "https://localhost:8080/"
        },
        "id": "XlZuqgqtUJqH",
        "outputId": "2b06b82c-0836-47cb-cc5c-0efe4fc35ac1"
      },
      "outputs": [
        {
          "name": "stdout",
          "output_type": "stream",
          "text": [
            "/content/drive/MyDrive/Lip-Sync/MuseTalk\n"
          ]
        }
      ],
      "source": [
        "%cd /content/drive/MyDrive/Lip-Sync/MuseTalk"
      ]
    },
    {
      "cell_type": "markdown",
      "metadata": {
        "id": "fhCNC4QbalFx"
      },
      "source": [
        "## Inference"
      ]
    },
    {
      "cell_type": "code",
      "execution_count": 18,
      "metadata": {
        "id": "VtlMpybS6EQx"
      },
      "outputs": [],
      "source": [
        "import time\n",
        "from datetime import datetime\n",
        "\n",
        "#start time\n",
        "start_time = time.time()\n",
        "\n",
        "# Get date time of run\n",
        "current_datetime = datetime.now()\n",
        "formatted_date = current_datetime.strftime(\"%A, %d %B %Y, %I:%M:%S %p\")\n"
      ]
    },
    {
      "cell_type": "markdown",
      "metadata": {
        "id": "yHMwCpNg1gDP"
      },
      "source": [
        "# Add name of video and audio files in config folders test.yaml files"
      ]
    },
    {
      "cell_type": "code",
      "execution_count": 19,
      "metadata": {
        "colab": {
          "base_uri": "https://localhost:8080/"
        },
        "id": "ZTkXKQG96f2P",
        "outputId": "8ea5ec48-a33f-4479-832a-c808e2b8f90c"
      },
      "outputs": [
        {
          "name": "stdout",
          "output_type": "stream",
          "text": [
            "add ffmpeg to path\n",
            "/usr/local/lib/python3.10/dist-packages/albumentations/__init__.py:24: UserWarning: A new version of Albumentations is available: 1.4.23 (you have 1.4.20). Upgrade using: pip install -U albumentations. To disable automatic update checks, set the environment variable NO_ALBUMENTATIONS_UPDATE to 1.\n",
            "  check_for_updates()\n",
            "Loads checkpoint by local backend from path: ./musetalk/models/dwpose/dw-ll_ucoco_384.pth\n",
            "cuda start\n",
            "{'task_0': {'video_path': 'data/video/example_video_30sec.mp4', 'audio_path': 'data/audio/example_audio_30sec.mp3', 'bbox_shift': -7}}\n",
            "video in 24.009324009324008 FPS, audio idx in 50FPS\n",
            "extracting landmarks...time consuming\n",
            "reading images...\n",
            "100% 720/720 [00:42<00:00, 16.84it/s]\n",
            "get key_landmark and face bounding boxes with the bbox_shift: -7\n",
            "100% 720/720 [05:27<00:00,  2.20it/s]\n",
            "********************************************bbox_shift parameter adjustment**********************************************************\n",
            "Total frame:「720」 Manually adjust range : [ -17~17 ] , the current value: -7\n",
            "*************************************************************************************************************************************\n",
            "start inference\n",
            "100% 91/91 [02:51<00:00,  1.88s/it]\n",
            "pad talking image to original video\n",
            "100% 723/723 [03:39<00:00,  3.30it/s]\n",
            "ffmpeg -y -v warning -r 24.009324009324008 -f image2 -i ./results/example_video_30sec_example_audio_30sec/%08d.png -vcodec libx264 -vf format=rgb24,scale=out_color_matrix=bt709,format=yuv420p -crf 18 temp.mp4\n",
            "ffmpeg -y -v warning -i data/audio/example_audio_30sec.mp3 -i temp.mp4 ./results/example_video_30sec_example_audio_30sec.mp4\n",
            "result is save to ./results/example_video_30sec_example_audio_30sec.mp4\n"
          ]
        }
      ],
      "source": [
        "!python -m scripts.inference --inference_config configs/inference/test.yaml"
      ]
    },
    {
      "cell_type": "code",
      "execution_count": 20,
      "metadata": {
        "colab": {
          "base_uri": "https://localhost:8080/"
        },
        "id": "Y-MUsE5m8ELp",
        "outputId": "4117b995-c1b5-49ea-d0a3-9ab45dab50f8"
      },
      "outputs": [
        {
          "name": "stdout",
          "output_type": "stream",
          "text": [
            "Start Time for dubbing video: 1734539817.7789915\n",
            " Day and Date: Wednesday, 18 December 2024, 04:36:57 PM\n",
            "Time taken to dubbed full video: 1226.75 seconds\n"
          ]
        }
      ],
      "source": [
        "# Capture the end time\n",
        "end_time = time.time()\n",
        "\n",
        "# Calculate elapsed time in seconds\n",
        "elapsed_time = end_time - start_time\n",
        "\n",
        "# Display the start time, today's date, and elapsed time\n",
        "print(f\"Start Time for dubbing video: {start_time}\")\n",
        "print(f\" Day and Date: {formatted_date}\")\n",
        "print(f\"Time taken to dubbed full video: {elapsed_time:.2f} seconds\")"
      ]
    },
    {
      "cell_type": "markdown",
      "metadata": {
        "id": "2QuFM7FRtpku"
      },
      "source": [
        "## Conclusion\n",
        "\n",
        "Conducted 4 experiments:\n",
        "\n",
        "1. **5 min video, 5 min audio**:  \n",
        "   The code stops automatically during the image reading process after 1200 images.\n",
        "\n",
        "2. **3 min video, 3 min audio**:  \n",
        "   The same issue occurred as in experiment 1.\n",
        "\n",
        "3. **1 min video, 1 min audio**:  \n",
        "   The same issue occurred as in experiment 1.\n",
        "\n",
        "4. **30 sec video, 30 sec audio**:  \n",
        "   The video dubbing was successful.\n"
      ]
    }
  ],
  "metadata": {
    "accelerator": "GPU",
    "colab": {
      "gpuType": "T4",
      "provenance": []
    },
    "kernelspec": {
      "display_name": "Python 3",
      "name": "python3"
    },
    "language_info": {
      "name": "python"
    }
  },
  "nbformat": 4,
  "nbformat_minor": 0
}
